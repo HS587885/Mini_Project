{
 "cells": [
  {
   "cell_type": "markdown",
   "id": "50b1d045",
   "metadata": {},
   "source": [
    "# 데이터 불러오기 및 확인"
   ]
  },
  {
   "cell_type": "code",
   "execution_count": 29,
   "id": "ef00fae6",
   "metadata": {},
   "outputs": [],
   "source": [
    "import pandas as pd\n",
    "\n",
    "df = pd.read_csv('C:/Users/gigic/ds_study/novel.csv', encoding = 'utf-8')\n",
    "df1 = pd.read_csv('C:/Users/gigic/ds_study/novel1.csv', encoding = 'utf-8')\n",
    "df3 = pd.read_csv('C:/Users/gigic/ds_study/novel3.csv', encoding = 'utf-8')\n",
    "df4 = pd.read_csv('C:/Users/gigic/ds_study/novel4.csv', encoding = 'utf-8')\n",
    "df5 = pd.read_csv('C:/Users/gigic/ds_study/novel5.csv', encoding = 'utf-8')\n",
    "\n",
    "\n"
   ]
  },
  {
   "cell_type": "code",
   "execution_count": 31,
   "id": "c4bebb16",
   "metadata": {},
   "outputs": [],
   "source": [
    "# df.drop_duplicates(subset = ['comment'], inplace=True) # 중복 제거\n",
    "# df1.drop_duplicates(subset = ['comment'], inplace=True) # 중복 제거\n",
    "# df3.drop_duplicates(subset = ['comment'], inplace=True) # 중복 제거\n",
    "# df4.drop_duplicates(subset = ['comment'], inplace=True) # 중복 제거\n"
   ]
  },
  {
   "cell_type": "code",
   "execution_count": 33,
   "id": "5644d3c2",
   "metadata": {},
   "outputs": [
    {
     "name": "stdout",
     "output_type": "stream",
     "text": [
      "108160\n",
      "95696\n",
      "497908\n",
      "100587\n",
      "248310\n"
     ]
    }
   ],
   "source": [
    "print(len(df4))\n",
    "print(len(df3))\n",
    "print(len(df1))\n",
    "print(len(df))\n",
    "print(len(df5))\n",
    "\n"
   ]
  },
  {
   "cell_type": "code",
   "execution_count": 34,
   "id": "9c75094d",
   "metadata": {},
   "outputs": [
    {
     "name": "stdout",
     "output_type": "stream",
     "text": [
      "77359\n",
      "78315\n",
      "75316\n",
      "82123\n"
     ]
    }
   ],
   "source": [
    "print(len(df['comment'].unique()))\n",
    "print(len(df1['comment'].unique()))\n",
    "print(len(df3['comment'].unique()))\n",
    "print(len(df4['comment'].unique()))"
   ]
  },
  {
   "cell_type": "code",
   "execution_count": 36,
   "id": "53f57cf5",
   "metadata": {},
   "outputs": [],
   "source": [
    "df_concat = pd.concat([df3,df,df1,df4, df5], ignore_index=True)"
   ]
  },
  {
   "cell_type": "code",
   "execution_count": 38,
   "id": "f1f9d0c0",
   "metadata": {},
   "outputs": [],
   "source": [
    "alpha = df_concat.copy()"
   ]
  },
  {
   "cell_type": "code",
   "execution_count": 39,
   "id": "9e3c12dc",
   "metadata": {},
   "outputs": [],
   "source": [
    "#alpha[alpha.duplicated()]\n",
    "#alpha.drop_duplicates(subset = ['comment'], inplace=True) # 중복 제거\n"
   ]
  },
  {
   "cell_type": "code",
   "execution_count": 40,
   "id": "53eda87a",
   "metadata": {},
   "outputs": [
    {
     "name": "stdout",
     "output_type": "stream",
     "text": [
      "<class 'pandas.core.frame.DataFrame'>\n",
      "RangeIndex: 1050661 entries, 0 to 1050660\n",
      "Data columns (total 4 columns):\n",
      " #   Column      Non-Null Count    Dtype \n",
      "---  ------      --------------    ----- \n",
      " 0   Unnamed: 0  1050661 non-null  int64 \n",
      " 1   date        1050661 non-null  object\n",
      " 2   nick_name   1050650 non-null  object\n",
      " 3   comment     1050661 non-null  object\n",
      "dtypes: int64(1), object(3)\n",
      "memory usage: 32.1+ MB\n"
     ]
    }
   ],
   "source": [
    "alpha.info()"
   ]
  },
  {
   "cell_type": "code",
   "execution_count": 41,
   "id": "226847c8",
   "metadata": {},
   "outputs": [
    {
     "data": {
      "text/html": [
       "<div>\n",
       "<style scoped>\n",
       "    .dataframe tbody tr th:only-of-type {\n",
       "        vertical-align: middle;\n",
       "    }\n",
       "\n",
       "    .dataframe tbody tr th {\n",
       "        vertical-align: top;\n",
       "    }\n",
       "\n",
       "    .dataframe thead th {\n",
       "        text-align: right;\n",
       "    }\n",
       "</style>\n",
       "<table border=\"1\" class=\"dataframe\">\n",
       "  <thead>\n",
       "    <tr style=\"text-align: right;\">\n",
       "      <th></th>\n",
       "      <th>date</th>\n",
       "      <th>nick_name</th>\n",
       "      <th>comment</th>\n",
       "    </tr>\n",
       "  </thead>\n",
       "  <tbody>\n",
       "    <tr>\n",
       "      <th>0</th>\n",
       "      <td>2022-07-14T21:36:52+0900</td>\n",
       "      <td>용용</td>\n",
       "      <td>💮개꼴리는 장일소</td>\n",
       "    </tr>\n",
       "    <tr>\n",
       "      <th>1</th>\n",
       "      <td>2022-07-14T21:36:27+0900</td>\n",
       "      <td>원</td>\n",
       "      <td>가슴이 웅장해진다는 말은 이럴 때 쓰는 거구나…. 비가 당신의 필력에 등선합니다</td>\n",
       "    </tr>\n",
       "    <tr>\n",
       "      <th>2</th>\n",
       "      <td>2022-07-14T21:36:09+0900</td>\n",
       "      <td>한여울</td>\n",
       "      <td>종남의 유일한 양심 이송백....</td>\n",
       "    </tr>\n",
       "    <tr>\n",
       "      <th>3</th>\n",
       "      <td>2022-07-14T21:35:40+0900</td>\n",
       "      <td>갱</td>\n",
       "      <td>📌백천이 장문인 계승 요청</td>\n",
       "    </tr>\n",
       "    <tr>\n",
       "      <th>4</th>\n",
       "      <td>2022-07-14T21:33:18+0900</td>\n",
       "      <td>파문전사</td>\n",
       "      <td>세상 그 누구도 청명이의 손에서 화산을 빼았을 수는 없어...진짜로...맞아...진...</td>\n",
       "    </tr>\n",
       "  </tbody>\n",
       "</table>\n",
       "</div>"
      ],
      "text/plain": [
       "                       date nick_name  \\\n",
       "0  2022-07-14T21:36:52+0900        용용   \n",
       "1  2022-07-14T21:36:27+0900         원   \n",
       "2  2022-07-14T21:36:09+0900       한여울   \n",
       "3  2022-07-14T21:35:40+0900         갱   \n",
       "4  2022-07-14T21:33:18+0900      파문전사   \n",
       "\n",
       "                                             comment  \n",
       "0                                          💮개꼴리는 장일소  \n",
       "1       가슴이 웅장해진다는 말은 이럴 때 쓰는 거구나…. 비가 당신의 필력에 등선합니다  \n",
       "2                                 종남의 유일한 양심 이송백....  \n",
       "3                                     📌백천이 장문인 계승 요청  \n",
       "4  세상 그 누구도 청명이의 손에서 화산을 빼았을 수는 없어...진짜로...맞아...진...  "
      ]
     },
     "execution_count": 41,
     "metadata": {},
     "output_type": "execute_result"
    }
   ],
   "source": [
    "del alpha['Unnamed: 0']\n",
    "alpha.drop_duplicates(subset = ['comment'], inplace=True) # 중복 제거\n",
    "alpha.head()"
   ]
  },
  {
   "cell_type": "markdown",
   "id": "0196cd7b",
   "metadata": {},
   "source": [
    "# 전처리 구역"
   ]
  },
  {
   "cell_type": "code",
   "execution_count": 21,
   "id": "b065df16",
   "metadata": {},
   "outputs": [
    {
     "data": {
      "text/html": [
       "<div>\n",
       "<style scoped>\n",
       "    .dataframe tbody tr th:only-of-type {\n",
       "        vertical-align: middle;\n",
       "    }\n",
       "\n",
       "    .dataframe tbody tr th {\n",
       "        vertical-align: top;\n",
       "    }\n",
       "\n",
       "    .dataframe thead th {\n",
       "        text-align: right;\n",
       "    }\n",
       "</style>\n",
       "<table border=\"1\" class=\"dataframe\">\n",
       "  <thead>\n",
       "    <tr style=\"text-align: right;\">\n",
       "      <th></th>\n",
       "      <th>date</th>\n",
       "      <th>nick_name</th>\n",
       "      <th>comment</th>\n",
       "    </tr>\n",
       "  </thead>\n",
       "  <tbody>\n",
       "    <tr>\n",
       "      <th>49455</th>\n",
       "      <td>2022-06-09T19:54:22+0900</td>\n",
       "      <td>NaN</td>\n",
       "      <td>진심 소설읽으면서 현웃터지며가 읽는건 이게처음ㅋㅋㅋㅋㅋㅋ필력무엇?</td>\n",
       "    </tr>\n",
       "    <tr>\n",
       "      <th>53690</th>\n",
       "      <td>2022-06-06T18:14:18+0900</td>\n",
       "      <td>NaN</td>\n",
       "      <td>진짜 필력 무엇? 천상계사람이네 ㅋㅋㅋ이해안되는 상황,문장,단어 한개도 없네  굿잡</td>\n",
       "    </tr>\n",
       "  </tbody>\n",
       "</table>\n",
       "</div>"
      ],
      "text/plain": [
       "                           date nick_name  \\\n",
       "49455  2022-06-09T19:54:22+0900       NaN   \n",
       "53690  2022-06-06T18:14:18+0900       NaN   \n",
       "\n",
       "                                              comment  \n",
       "49455           진심 소설읽으면서 현웃터지며가 읽는건 이게처음ㅋㅋㅋㅋㅋㅋ필력무엇?   \n",
       "53690  진짜 필력 무엇? 천상계사람이네 ㅋㅋㅋ이해안되는 상황,문장,단어 한개도 없네  굿잡  "
      ]
     },
     "execution_count": 21,
     "metadata": {},
     "output_type": "execute_result"
    }
   ],
   "source": [
    "alpha[alpha['nick_name'].isnull()]"
   ]
  },
  {
   "cell_type": "code",
   "execution_count": 22,
   "id": "2dfc0efe",
   "metadata": {},
   "outputs": [],
   "source": [
    "#alpha['date'] = alpha['date'].str.replace(\"[^ㄱ-ㅎㅏ-ㅣ가-힣 ]\",\"\")\n",
    "alpha['date'] = alpha['date'].str.replace(\"T\",\" \")\n",
    "# for i in  range(len(alpha['date'])):\n",
    "#     alpha['date'][i] = alpha['date'][i][:-5]\n",
    "alpha['date']=alpha['date'].apply(lambda x : x[:-5])   "
   ]
  },
  {
   "cell_type": "code",
   "execution_count": 23,
   "id": "5d8203bc",
   "metadata": {},
   "outputs": [
    {
     "data": {
      "text/plain": [
       "87544"
      ]
     },
     "execution_count": 23,
     "metadata": {},
     "output_type": "execute_result"
    }
   ],
   "source": [
    "len(alpha['comment'].unique())"
   ]
  },
  {
   "cell_type": "code",
   "execution_count": 24,
   "id": "c5362c64",
   "metadata": {},
   "outputs": [],
   "source": [
    "# 시계열 전처리\n",
    "alpha['date1']=alpha['date'].apply(lambda x : x[:-9])\n",
    "#total_data['연']=total_data['날짜'].apply(lambda x : x[:4])\n",
    "#impacta['날짜'] = pd.to_datetime(impacta['날짜'], format='%Y%m%d')\n",
    "#total_data['날짜']=total_data['날짜'].astype(str)\n",
    "# impacta['연월'] = impacta['날짜'].dt.date\n",
    "# impacta['연'] = impacta['날짜'].dt.year\n",
    "# impacta['월'] = impacta['날짜'].dt.month\n",
    "\n",
    "# 데이터값 전처리\n",
    "#del bmax['Unnamed: 0']\n",
    "#alpha.drop_duplicates(subset = ['comment'], inplace=True) # 중복 제거\n",
    "# bmax['내용'] = bmax['내용'].str.replace(\"[^ㄱ-ㅎㅏ-ㅣ가-힣 ]\",\"\") # 정규 표현식 수행\n",
    "# bmax['내용'].replace('', np.nan, inplace=True) # 공백은 Null 값으로 변경\n",
    "# aro.dropna(how= 'any', inplace = True\n",
    "           \n",
    "           \n",
    "           "
   ]
  },
  {
   "cell_type": "code",
   "execution_count": 26,
   "id": "aa985fa5",
   "metadata": {
    "scrolled": true
   },
   "outputs": [
    {
     "data": {
      "text/html": [
       "<div>\n",
       "<style scoped>\n",
       "    .dataframe tbody tr th:only-of-type {\n",
       "        vertical-align: middle;\n",
       "    }\n",
       "\n",
       "    .dataframe tbody tr th {\n",
       "        vertical-align: top;\n",
       "    }\n",
       "\n",
       "    .dataframe thead th {\n",
       "        text-align: right;\n",
       "    }\n",
       "</style>\n",
       "<table border=\"1\" class=\"dataframe\">\n",
       "  <thead>\n",
       "    <tr style=\"text-align: right;\">\n",
       "      <th></th>\n",
       "      <th>date</th>\n",
       "      <th>nick_name</th>\n",
       "      <th>comment</th>\n",
       "      <th>date1</th>\n",
       "    </tr>\n",
       "  </thead>\n",
       "  <tbody>\n",
       "    <tr>\n",
       "      <th>919689</th>\n",
       "      <td>2022-05-08 19:42:24</td>\n",
       "      <td>꼬깔낭자</td>\n",
       "      <td>이 검은 이별의 선물? 노노비싼거 ㅋㅋㅋ</td>\n",
       "      <td>2022-05-08</td>\n",
       "    </tr>\n",
       "    <tr>\n",
       "      <th>919690</th>\n",
       "      <td>2022-05-08 19:41:40</td>\n",
       "      <td>ll</td>\n",
       "      <td>아이고 우리 리틀 장무닌ㅜ</td>\n",
       "      <td>2022-05-08</td>\n",
       "    </tr>\n",
       "    <tr>\n",
       "      <th>919691</th>\n",
       "      <td>2022-05-08 19:40:43</td>\n",
       "      <td>펭코</td>\n",
       "      <td>📌......난세가 뭔지도 모르는 것들이.천마가 올 거예요.</td>\n",
       "      <td>2022-05-08</td>\n",
       "    </tr>\n",
       "    <tr>\n",
       "      <th>919693</th>\n",
       "      <td>2022-05-08 19:39:26</td>\n",
       "      <td>dkfu****</td>\n",
       "      <td>걸아😊</td>\n",
       "      <td>2022-05-08</td>\n",
       "    </tr>\n",
       "    <tr>\n",
       "      <th>919694</th>\n",
       "      <td>2022-05-08 19:39:20</td>\n",
       "      <td>esto****</td>\n",
       "      <td>아평..아명을 부르는 매화검존.좀 슬프고 아릴듯하네요. 다늙어버린 이의  영웅이란게...</td>\n",
       "      <td>2022-05-08</td>\n",
       "    </tr>\n",
       "  </tbody>\n",
       "</table>\n",
       "</div>"
      ],
      "text/plain": [
       "                       date nick_name  \\\n",
       "919689  2022-05-08 19:42:24      꼬깔낭자   \n",
       "919690  2022-05-08 19:41:40        ll   \n",
       "919691  2022-05-08 19:40:43        펭코   \n",
       "919693  2022-05-08 19:39:26  dkfu****   \n",
       "919694  2022-05-08 19:39:20  esto****   \n",
       "\n",
       "                                                  comment       date1  \n",
       "919689                             이 검은 이별의 선물? 노노비싼거 ㅋㅋㅋ  2022-05-08  \n",
       "919690                                     아이고 우리 리틀 장무닌ㅜ  2022-05-08  \n",
       "919691                  📌......난세가 뭔지도 모르는 것들이.천마가 올 거예요.  2022-05-08  \n",
       "919693                                                걸아😊  2022-05-08  \n",
       "919694  아평..아명을 부르는 매화검존.좀 슬프고 아릴듯하네요. 다늙어버린 이의  영웅이란게...  2022-05-08  "
      ]
     },
     "execution_count": 26,
     "metadata": {},
     "output_type": "execute_result"
    }
   ],
   "source": [
    "alpha.tail()"
   ]
  },
  {
   "cell_type": "code",
   "execution_count": 42,
   "id": "a2310a02",
   "metadata": {
    "scrolled": true
   },
   "outputs": [
    {
     "name": "stdout",
     "output_type": "stream",
     "text": [
      "<class 'pandas.core.frame.DataFrame'>\n",
      "Int64Index: 98296 entries, 0 to 1027854\n",
      "Data columns (total 3 columns):\n",
      " #   Column     Non-Null Count  Dtype \n",
      "---  ------     --------------  ----- \n",
      " 0   date       98296 non-null  object\n",
      " 1   nick_name  98294 non-null  object\n",
      " 2   comment    98296 non-null  object\n",
      "dtypes: object(3)\n",
      "memory usage: 3.0+ MB\n"
     ]
    }
   ],
   "source": [
    "alpha.info()"
   ]
  },
  {
   "cell_type": "markdown",
   "id": "3c664dc0",
   "metadata": {},
   "source": [
    "## 감성분석"
   ]
  },
  {
   "cell_type": "code",
   "execution_count": null,
   "id": "e22ac7b7",
   "metadata": {},
   "outputs": [],
   "source": []
  }
 ],
 "metadata": {
  "kernelspec": {
   "display_name": "Python 3 (ipykernel)",
   "language": "python",
   "name": "python3"
  },
  "language_info": {
   "codemirror_mode": {
    "name": "ipython",
    "version": 3
   },
   "file_extension": ".py",
   "mimetype": "text/x-python",
   "name": "python",
   "nbconvert_exporter": "python",
   "pygments_lexer": "ipython3",
   "version": "3.9.5"
  }
 },
 "nbformat": 4,
 "nbformat_minor": 5
}
