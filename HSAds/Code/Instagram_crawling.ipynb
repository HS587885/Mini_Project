{
 "cells": [
  {
   "cell_type": "code",
   "execution_count": 15,
   "id": "85178594",
   "metadata": {},
   "outputs": [],
   "source": [
    "import requests\n",
    "from bs4 import BeautifulSoup\n",
    "import pymysql\n",
    "from  selenium import webdriver\n",
    "from selenium.webdriver.common.keys import Keys\n",
    "import time as time\n",
    "import getpass\n",
    "import urllib.request\n",
    "import random\n",
    " from time import sleep\n",
    "import pandas as pd\n",
    "import numpy as np\n",
    "import matplotlib.pyplot as plt\n",
    "%matplotlib inline"
   ]
  },
  {
   "cell_type": "code",
   "execution_count": 16,
   "id": "d245f98b",
   "metadata": {},
   "outputs": [],
   "source": [
    "driver = webdriver.Chrome(\"C:/Users/gigic/ds_study/driver/chromedriver.exe\") # Chromedriver PATH\n",
    "driver.get(\"https://www.instagram.com/accounts/login/\")\n",
    "driver.maximize_window()"
   ]
  },
  {
   "cell_type": "code",
   "execution_count": 17,
   "id": "f1b31af5",
   "metadata": {},
   "outputs": [
    {
     "name": "stdout",
     "output_type": "stream",
     "text": [
      "Input ID : ········\n",
      "Input PWD : ········\n",
      "Input HashTag # : #아로나민골드\n"
     ]
    }
   ],
   "source": [
    "username = getpass.getpass(\"Input ID : \")# User ID\n",
    "password = getpass.getpass(\"Input PWD : \")# User PWD, 특히 getpass를 통해서 비밀번호 정보를 숨길 수도 있다. 잘 배워두자 \n",
    "hashTag = input(\"Input HashTag # : \")# Search #\n",
    " \n",
    "element_id = driver.find_element_by_name(\"username\")\n",
    "element_id.send_keys(username)\n",
    "element_password = driver.find_element_by_name(\"password\")\n",
    "element_password.send_keys(password)\n",
    " \n",
    "sleep(1.5)\n",
    "\n",
    "#driver.close()"
   ]
  },
  {
   "cell_type": "code",
   "execution_count": 18,
   "id": "3e625a45",
   "metadata": {},
   "outputs": [],
   "source": [
    "##로그인버튼 클릭\n",
    "driver.find_element_by_css_selector('.sqdOP.L3NKy.y3zKF').click()\n",
    "driver.find_element_by_css_selector('#react-root > div > div > section > main > div > div > div > div > button').click()\n",
    "driver.find_element_by_css_selector('#react-root > div > div > section > main > div > div > div > div > button').click()\n",
    "driver.find_element_by_css_selector('#mount_0_0_Ab > div > div:nth-child(1) > div > div:nth-child(4) > div > div > div.rq0escxv.l9j0dhe7.du4w35lb > div > div.iqfcb0g7.tojvnm2t.a6sixzi8.k5wvi7nf.q3lfd5jv.pk4s997a.bipmatt0.cebpdrjk.qowsmv63.owwhemhu.dp1hu0rb.dhp61c6y.l9j0dhe7.iyyx5f41.a8s20v7p > div > div > div > div > div > div > div > div._a9-z > button._a9--._a9_1').click() \n"
   ]
  },
  {
   "cell_type": "code",
   "execution_count": 19,
   "id": "f17c8a80",
   "metadata": {},
   "outputs": [],
   "source": []
  },
  {
   "cell_type": "code",
   "execution_count": 20,
   "id": "fd50f107",
   "metadata": {},
   "outputs": [],
   "source": []
  },
  {
   "cell_type": "code",
   "execution_count": 21,
   "id": "d69d6be9",
   "metadata": {},
   "outputs": [],
   "source": [
    "driver.close()"
   ]
  },
  {
   "cell_type": "code",
   "execution_count": null,
   "id": "9bcb12bf",
   "metadata": {},
   "outputs": [],
   "source": []
  },
  {
   "cell_type": "code",
   "execution_count": null,
   "id": "c52c54e5",
   "metadata": {},
   "outputs": [],
   "source": []
  },
  {
   "cell_type": "code",
   "execution_count": null,
   "id": "48ce5cd3",
   "metadata": {},
   "outputs": [],
   "source": []
  },
  {
   "cell_type": "code",
   "execution_count": null,
   "id": "a6002fb3",
   "metadata": {},
   "outputs": [],
   "source": []
  },
  {
   "cell_type": "code",
   "execution_count": null,
   "id": "b417dd18",
   "metadata": {},
   "outputs": [],
   "source": []
  },
  {
   "cell_type": "code",
   "execution_count": null,
   "id": "23d91a9a",
   "metadata": {},
   "outputs": [],
   "source": []
  }
 ],
 "metadata": {
  "kernelspec": {
   "display_name": "Python 3 (ipykernel)",
   "language": "python",
   "name": "python3"
  },
  "language_info": {
   "codemirror_mode": {
    "name": "ipython",
    "version": 3
   },
   "file_extension": ".py",
   "mimetype": "text/x-python",
   "name": "python",
   "nbconvert_exporter": "python",
   "pygments_lexer": "ipython3",
   "version": "3.9.5"
  }
 },
 "nbformat": 4,
 "nbformat_minor": 5
}
