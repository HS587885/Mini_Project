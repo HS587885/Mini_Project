{
  "nbformat": 4,
  "nbformat_minor": 0,
  "metadata": {
    "colab": {
      "name": "LSTM_B-max_meta_model.ipynb",
      "provenance": [],
      "collapsed_sections": [],
      "include_colab_link": true
    },
    "kernelspec": {
      "name": "python3",
      "display_name": "Python 3"
    },
    "language_info": {
      "name": "python"
    },
    "accelerator": "GPU",
    "gpuClass": "standard"
  },
  "cells": [
    {
      "cell_type": "markdown",
      "metadata": {
        "id": "view-in-github",
        "colab_type": "text"
      },
      "source": [
        "<a href=\"https://colab.research.google.com/github/HS587885/Mini_Project/blob/main/LSTM_B_max_meta_model.ipynb\" target=\"_parent\"><img src=\"https://colab.research.google.com/assets/colab-badge.svg\" alt=\"Open In Colab\"/></a>"
      ]
    },
    {
      "cell_type": "code",
      "execution_count": null,
      "metadata": {
        "id": "PNQuMlyZPdao"
      },
      "outputs": [],
      "source": [
        "import pandas as pd\n",
        "from tqdm import tqdm\n",
        "import numpy as np\n",
        "import re\n",
        "import pickle\n",
        "import tensorflow as tf\n",
        "import matplotlib.pyplot as plt\n",
        "import urllib.request\n",
        "from collections import Counter\n",
        "from konlpy.tag import Mecab\n",
        "from sklearn.model_selection import train_test_split\n",
        "from tensorflow.keras.preprocessing.text import Tokenizer\n",
        "from tensorflow.keras.preprocessing.sequence import pad_sequences\n",
        "from tensorflow.keras.datasets import imdb\n",
        "from tensorflow.keras.preprocessing import sequence\n",
        "from tensorflow.keras.utils import to_categorical\n",
        "from tensorflow.keras.models import Sequential\n",
        "from tensorflow.keras.layers import Embedding,LSTM,Dense, Bidirectional, GRU\n",
        "from tensorflow.keras.models import load_model\n",
        "from tensorflow.keras.callbacks import EarlyStopping, ModelCheckpoint"
      ]
    },
    {
      "cell_type": "code",
      "source": [
        ""
      ],
      "metadata": {
        "id": "j95rT6YGqMw9"
      },
      "execution_count": null,
      "outputs": []
    },
    {
      "cell_type": "code",
      "source": [
        "!pip install konlpy"
      ],
      "metadata": {
        "colab": {
          "base_uri": "https://localhost:8080/"
        },
        "id": "_fZPtpn9_7Nv",
        "outputId": "492e834b-9d7c-4b31-9ff2-bceac9798430"
      },
      "execution_count": null,
      "outputs": [
        {
          "output_type": "stream",
          "name": "stdout",
          "text": [
            "Looking in indexes: https://pypi.org/simple, https://us-python.pkg.dev/colab-wheels/public/simple/\n",
            "Requirement already satisfied: konlpy in /usr/local/lib/python3.7/dist-packages (0.6.0)\n",
            "Requirement already satisfied: lxml>=4.1.0 in /usr/local/lib/python3.7/dist-packages (from konlpy) (4.2.6)\n",
            "Requirement already satisfied: JPype1>=0.7.0 in /usr/local/lib/python3.7/dist-packages (from konlpy) (1.4.0)\n",
            "Requirement already satisfied: numpy>=1.6 in /usr/local/lib/python3.7/dist-packages (from konlpy) (1.21.6)\n",
            "Requirement already satisfied: typing-extensions in /usr/local/lib/python3.7/dist-packages (from JPype1>=0.7.0->konlpy) (4.1.1)\n"
          ]
        }
      ]
    },
    {
      "cell_type": "code",
      "source": [
        "\n",
        "%%bash\n",
        "apt-get update\n",
        "apt-get install g++ openjdk-8-jdk python-dev python3-dev\n",
        "pip3 install JPype1\n",
        "pip3 install konlpy"
      ],
      "metadata": {
        "id": "rQXbJGBgdDkl",
        "colab": {
          "base_uri": "https://localhost:8080/"
        },
        "outputId": "c841a225-2417-48b4-aab2-8755fa506495"
      },
      "execution_count": null,
      "outputs": [
        {
          "output_type": "stream",
          "name": "stdout",
          "text": [
            "Hit:1 https://cloud.r-project.org/bin/linux/ubuntu bionic-cran40/ InRelease\n",
            "Hit:2 https://developer.download.nvidia.com/compute/cuda/repos/ubuntu1804/x86_64  InRelease\n",
            "Hit:3 http://ppa.launchpad.net/c2d4u.team/c2d4u4.0+/ubuntu bionic InRelease\n",
            "Hit:4 http://archive.ubuntu.com/ubuntu bionic InRelease\n",
            "Hit:5 http://ppa.launchpad.net/cran/libgit2/ubuntu bionic InRelease\n",
            "Hit:6 http://archive.ubuntu.com/ubuntu bionic-updates InRelease\n",
            "Ign:7 https://developer.download.nvidia.com/compute/machine-learning/repos/ubuntu1804/x86_64  InRelease\n",
            "Hit:8 https://developer.download.nvidia.com/compute/machine-learning/repos/ubuntu1804/x86_64  Release\n",
            "Hit:9 http://archive.ubuntu.com/ubuntu bionic-backports InRelease\n",
            "Hit:10 http://ppa.launchpad.net/deadsnakes/ppa/ubuntu bionic InRelease\n",
            "Hit:11 http://ppa.launchpad.net/graphics-drivers/ppa/ubuntu bionic InRelease\n",
            "Hit:12 http://security.ubuntu.com/ubuntu bionic-security InRelease\n",
            "Reading package lists...\n",
            "Reading package lists...\n",
            "Building dependency tree...\n",
            "Reading state information...\n",
            "python-dev is already the newest version (2.7.15~rc1-1).\n",
            "g++ is already the newest version (4:7.4.0-1ubuntu2.3).\n",
            "python3-dev is already the newest version (3.6.7-1~18.04).\n",
            "openjdk-8-jdk is already the newest version (8u312-b07-0ubuntu1~18.04).\n",
            "The following package was automatically installed and is no longer required:\n",
            "  libnvidia-common-460\n",
            "Use 'apt autoremove' to remove it.\n",
            "0 upgraded, 0 newly installed, 0 to remove and 66 not upgraded.\n",
            "Looking in indexes: https://pypi.org/simple, https://us-python.pkg.dev/colab-wheels/public/simple/\n",
            "Requirement already satisfied: JPype1 in /usr/local/lib/python3.7/dist-packages (1.4.0)\n",
            "Requirement already satisfied: typing-extensions in /usr/local/lib/python3.7/dist-packages (from JPype1) (4.1.1)\n",
            "Looking in indexes: https://pypi.org/simple, https://us-python.pkg.dev/colab-wheels/public/simple/\n",
            "Requirement already satisfied: konlpy in /usr/local/lib/python3.7/dist-packages (0.6.0)\n",
            "Requirement already satisfied: JPype1>=0.7.0 in /usr/local/lib/python3.7/dist-packages (from konlpy) (1.4.0)\n",
            "Requirement already satisfied: numpy>=1.6 in /usr/local/lib/python3.7/dist-packages (from konlpy) (1.21.6)\n",
            "Requirement already satisfied: lxml>=4.1.0 in /usr/local/lib/python3.7/dist-packages (from konlpy) (4.2.6)\n",
            "Requirement already satisfied: typing-extensions in /usr/local/lib/python3.7/dist-packages (from JPype1>=0.7.0->konlpy) (4.1.1)\n"
          ]
        }
      ]
    },
    {
      "cell_type": "code",
      "source": [
        "%env JAVA_HOME \"/usr/lib/jvm/java-8-openjdk-amd64\""
      ],
      "metadata": {
        "colab": {
          "base_uri": "https://localhost:8080/"
        },
        "id": "npbb9DZvGK8I",
        "outputId": "691b789a-4e85-4ea3-9ebb-f7adb95239ca"
      },
      "execution_count": null,
      "outputs": [
        {
          "output_type": "stream",
          "name": "stdout",
          "text": [
            "env: JAVA_HOME=\"/usr/lib/jvm/java-8-openjdk-amd64\"\n"
          ]
        }
      ]
    },
    {
      "cell_type": "code",
      "source": [
        "%%bash\n",
        "bash <(curl -s https://raw.githubusercontent.com/konlpy/konlpy/master/scripts/mecab.sh)\n",
        "pip3 install /tmp/mecab-python-0.996\n"
      ],
      "metadata": {
        "colab": {
          "base_uri": "https://localhost:8080/"
        },
        "id": "_TsqJhYeGPpW",
        "outputId": "97b3e2e4-87b0-4851-d640-5b3e577e400a"
      },
      "execution_count": null,
      "outputs": [
        {
          "output_type": "stream",
          "name": "stdout",
          "text": [
            "mecab-ko is already installed\n",
            "mecab-ko-dic is already installed\n",
            "mecab-python is already installed\n",
            "Done.\n",
            "Looking in indexes: https://pypi.org/simple, https://us-python.pkg.dev/colab-wheels/public/simple/\n",
            "Processing /tmp/mecab-python-0.996\n",
            "Building wheels for collected packages: mecab-python\n",
            "  Building wheel for mecab-python (setup.py): started\n",
            "  Building wheel for mecab-python (setup.py): finished with status 'done'\n",
            "  Created wheel for mecab-python: filename=mecab_python-0.996_ko_0.9.2-cp37-cp37m-linux_x86_64.whl size=141806 sha256=393ebdbd0e1f39afa3c52299d514f70ba32d3248f4e0bd238de79a40d778b60f\n",
            "  Stored in directory: /root/.cache/pip/wheels/40/7b/9f/2922869bef86c3354ae7034f7a3647c573ee1997c2dad0290a\n",
            "Failed to build mecab-python\n",
            "Installing collected packages: mecab-python\n",
            "  Attempting uninstall: mecab-python\n",
            "    Found existing installation: mecab-python 0.996-ko-0.9.2\n",
            "    Uninstalling mecab-python-0.996-ko-0.9.2:\n",
            "      Successfully uninstalled mecab-python-0.996-ko-0.9.2\n",
            "    Running setup.py install for mecab-python: started\n",
            "    Running setup.py install for mecab-python: finished with status 'done'\n",
            "Successfully installed mecab-python-0.996-ko-0.9.2\n"
          ]
        },
        {
          "output_type": "stream",
          "name": "stderr",
          "text": [
            "  DEPRECATION: A future pip version will change local packages to be built in-place without first copying to a temporary directory. We recommend you use --use-feature=in-tree-build to test your packages with this new behavior before it becomes the default.\n",
            "   pip 21.3 will remove support for this functionality. You can find discussion regarding this at https://github.com/pypa/pip/issues/7555.\n",
            "  WARNING: Built wheel for mecab-python is invalid: Metadata 1.2 mandates PEP 440 version, but '0.996-ko-0.9.2' is not\n",
            "  DEPRECATION: mecab-python was installed using the legacy 'setup.py install' method, because a wheel could not be built for it. A possible replacement is to fix the wheel build issue reported above. You can find discussion regarding this at https://github.com/pypa/pip/issues/8368.\n"
          ]
        }
      ]
    },
    {
      "cell_type": "code",
      "source": [
        "bmax = pd.read_excel('/content/B-max_meta.xlsx')\n",
        "print(bmax.head())\n",
        "print(len(bmax))\n"
      ],
      "metadata": {
        "colab": {
          "base_uri": "https://localhost:8080/"
        },
        "id": "0NZAao7N7Lhk",
        "outputId": "11e78409-cfd0-4023-b0a7-e62d002d9c0a"
      },
      "execution_count": null,
      "outputs": [
        {
          "output_type": "stream",
          "name": "stdout",
          "text": [
            "                                             comment  제품에 대한 긍부정2\n",
            "0                 드디어샀다!~ . 비맥스메타~ 찾으러산만리~ 육체피로야안녕\\n            1\n",
            "1   #남포동약국거리 그중에서도 유명한 세x약국에서 영양제 구입 #빈블리 #영양제 #텐...            1\n",
            "2  //;// #비맥스메타  #비맥스비비   #비맥스성지 #비맥스최저가 #영양제 #텐텐...            1\n",
            "3  오늘의루트  안산기흥안산안양광명안산 잘 돌아 댕겼다 ㅋㅋㅋㅋㅋㅋ . . . #안산 ...            3\n",
            "4  #뽀이약사_복약지도 비타민B . ️지난번에 이어서 두번째 피드입니다 . . #비타민...            1\n",
            "500\n"
          ]
        }
      ]
    },
    {
      "cell_type": "code",
      "source": [
        "bmax.head()\n",
        "bmax.rename(columns= {'제품에 대한 긍부정2':'label'}, inplace= True)"
      ],
      "metadata": {
        "id": "XgWxPjEW-DDk"
      },
      "execution_count": null,
      "outputs": []
    },
    {
      "cell_type": "code",
      "source": [
        "bmax['label'] = bmax['label'].replace(3, 2)"
      ],
      "metadata": {
        "id": "lqWqLDSYeCAK"
      },
      "execution_count": null,
      "outputs": []
    },
    {
      "cell_type": "code",
      "source": [
        "bmax['comment'].nunique(), bmax['label'].nunique()\n"
      ],
      "metadata": {
        "colab": {
          "base_uri": "https://localhost:8080/"
        },
        "id": "FQ9GmOBDQyXO",
        "outputId": "c557044d-32ea-4dcb-8b0c-548e60717f94"
      },
      "execution_count": null,
      "outputs": [
        {
          "output_type": "execute_result",
          "data": {
            "text/plain": [
              "(492, 2)"
            ]
          },
          "metadata": {},
          "execution_count": 16
        }
      ]
    },
    {
      "cell_type": "code",
      "source": [
        "train_data, test_data = train_test_split(bmax, test_size = 0.1, random_state = 42)\n",
        "print('훈련용 리뷰의 개수 :', len(train_data))\n",
        "print('테스트용 리뷰의 개수 :', len(test_data))"
      ],
      "metadata": {
        "colab": {
          "base_uri": "https://localhost:8080/"
        },
        "id": "lDKKUY0uQyZl",
        "outputId": "1a3fe4e7-a2b9-4711-c27f-4be8b185f460"
      },
      "execution_count": null,
      "outputs": [
        {
          "output_type": "stream",
          "name": "stdout",
          "text": [
            "훈련용 리뷰의 개수 : 450\n",
            "테스트용 리뷰의 개수 : 50\n"
          ]
        }
      ]
    },
    {
      "cell_type": "code",
      "source": [
        "train_data['label'].value_counts().plot(kind = 'bar')"
      ],
      "metadata": {
        "colab": {
          "base_uri": "https://localhost:8080/",
          "height": 280
        },
        "id": "udSe_wEQQyb-",
        "outputId": "3f984407-2d07-4956-8796-6011cc849890"
      },
      "execution_count": null,
      "outputs": [
        {
          "output_type": "execute_result",
          "data": {
            "text/plain": [
              "<matplotlib.axes._subplots.AxesSubplot at 0x7f229fb8cb10>"
            ]
          },
          "metadata": {},
          "execution_count": 18
        },
        {
          "output_type": "display_data",
          "data": {
            "text/plain": [
              "<Figure size 432x288 with 1 Axes>"
            ],
            "image/png": "[encoded data removed]"
          },
          "metadata": {
            "needs_background": "light"
          }
        }
      ]
    },
    {
      "cell_type": "code",
      "source": [
        "print(train_data.groupby('label').size().reset_index(name = 'count'))"
      ],
      "metadata": {
        "colab": {
          "base_uri": "https://localhost:8080/"
        },
        "id": "Rn0-GF7TQyeT",
        "outputId": "0ba13656-41e4-4bd5-df16-a162cd755938"
      },
      "execution_count": null,
      "outputs": [
        {
          "output_type": "stream",
          "name": "stdout",
          "text": [
            "   label  count\n",
            "0      1    256\n",
            "1      2    194\n"
          ]
        }
      ]
    },
    {
      "cell_type": "code",
      "source": [
        "train_data['comment'] = train_data['comment'].str.replace(\"[^ㄱ-ㅎㅏ-ㅣ가-힣 ]\",\"\")\n",
        "train_data['comment'].replace('', np.nan, inplace=True)\n",
        "train_data = train_data.dropna(how='any') # Null 값 제거\n",
        "print(train_data.isnull().sum())"
      ],
      "metadata": {
        "colab": {
          "base_uri": "https://localhost:8080/"
        },
        "id": "19AMWhSTQygp",
        "outputId": "2f68e40f-4ce0-4ca5-e4fb-73919696aa83"
      },
      "execution_count": null,
      "outputs": [
        {
          "output_type": "stream",
          "name": "stdout",
          "text": [
            "comment    0\n",
            "label      0\n",
            "dtype: int64\n"
          ]
        },
        {
          "output_type": "stream",
          "name": "stderr",
          "text": [
            "/usr/local/lib/python3.7/dist-packages/ipykernel_launcher.py:1: FutureWarning: The default value of regex will change from True to False in a future version.\n",
            "  \"\"\"Entry point for launching an IPython kernel.\n"
          ]
        }
      ]
    },
    {
      "cell_type": "code",
      "source": [
        "test_data.drop_duplicates(subset = ['comment'], inplace=True) # 중복 제거\n",
        "test_data['comment'] = test_data['comment'].str.replace(\"[^ㄱ-ㅎㅏ-ㅣ가-힣 ]\",\"\") # 정규 표현식 수행\n",
        "test_data['comment'].replace('', np.nan, inplace=True) # 공백은 Null 값으로 변경\n",
        "test_data = test_data.dropna(how='any') # Null 값 제거\n",
        "print('전처리 후 테스트용 샘플의 개수 :',len(test_data))"
      ],
      "metadata": {
        "colab": {
          "base_uri": "https://localhost:8080/"
        },
        "id": "ySUxynMvQyi_",
        "outputId": "c3a23745-c6c3-495e-ebaa-21f36c242895"
      },
      "execution_count": null,
      "outputs": [
        {
          "output_type": "stream",
          "name": "stdout",
          "text": [
            "전처리 후 테스트용 샘플의 개수 : 50\n"
          ]
        },
        {
          "output_type": "stream",
          "name": "stderr",
          "text": [
            "/usr/local/lib/python3.7/dist-packages/ipykernel_launcher.py:2: FutureWarning: The default value of regex will change from True to False in a future version.\n",
            "  \n"
          ]
        }
      ]
    },
    {
      "cell_type": "code",
      "source": [
        "stopwords = ['도', '는', '다', '의', '가', '이', '은', '한', '에', '하', '고', '을', \n",
        "'를', '인', '듯', '과', '와', '네', '들', '듯', '지', '임', '게', '만', '게임', '겜', '되', '음', '면'\n",
        "'가탄', '태전동', '칠곡','장영실', '에디슨','양제', '보드게임','하하호호', '지금',\n",
        "             '실버','로나', '골드','우루사','오늘', '그램', '우리', '차이', '그램',  '하나', '일동제약', '김혜윤', '강동호'\n",
        "             '박카스', '이진혁',' 공진단', '세라', '진짜','주년''문재인', '대통령','시우민', '우루사', '비콤','마멜공쥬',\n",
        "            '현미', '곤약', '밥', '고구마', '치즈', '롤', '스테이크', '물', '물', '컵','띵가띵', '놀고잇엇어','길용우', '배우', '까스', '명수',\n",
        "            '자가', '키트', '코로나', '와인', '모주', '코스피', '종목', '일동', '전속계약', '오윤수', '씨앤코', '전속계약', \n",
        "             '김규리', '최', '희서', '한솥', '밥', '배우', '조우진', '포벨', '종근당', '임팩타민', '아시', '맥스'\n",
        "\n",
        "]\n"
      ],
      "metadata": {
        "id": "BAgOdJrGQylT"
      },
      "execution_count": null,
      "outputs": []
    },
    {
      "cell_type": "code",
      "source": [
        "train_data['comment']"
      ],
      "metadata": {
        "colab": {
          "base_uri": "https://localhost:8080/"
        },
        "id": "psOPMCUjHLlP",
        "outputId": "43e5088d-8287-42f2-a980-af4e9f27f4d7"
      },
      "execution_count": null,
      "outputs": [
        {
          "output_type": "execute_result",
          "data": {
            "text/plain": [
              "72         간만에 영양제 샷  점심  오메가 알 마그네슘 알 판토텐산 알 나아신 알 비맥스메\n",
              "182         정부재난지원금사용처 경기재난지원금 구리지역화폐 정부재난지원금 비맥스메타 비맥스 \n",
              "131             운동하려면 건강해야지     영양제 비타민 헬스타그램 헬린이 종합비타민 \n",
              "410    안녕하세요   오늘은 녹십자의 대표 종합영양제 비맥스의 시리즈인 비맥스골드 비맥스액...\n",
              "193     비맥스 카카오톡이모티콘 이모티콘으로 가수 비를 보낼수 있습니다 다운후 유효기간 있어요 \n",
              "                             ...                        \n",
              "106    녹용이 들어간 비맥스 에버 출시  기존 제품의 단점은 개선하고 주요 보약 성분까지 넣어 \n",
              "270    비타민 비맥스 비맥스메타 부작용 후기 영양제  안녕하세요 청년봉달입니다오늘도 광고없...\n",
              "348           공유 고함량 비타민군 함유 종합비타민제 종 전격 리뷰 해봤습니다 비맥스 메타\n",
              "435                                        흰쥐의 해 년을 맞이하기\n",
              "102                창곤이형이 추천해준 비멕스메타  상현역 기분좋은약국 친절한약사 추천\n",
              "Name: comment, Length: 446, dtype: object"
            ]
          },
          "metadata": {},
          "execution_count": 23
        }
      ]
    },
    {
      "cell_type": "code",
      "source": [
        "mecab = Mecab() \n",
        "\n",
        "train_data['tokenized'] = train_data['comment'].apply(mecab.morphs)\n",
        "train_data['tokenized'] = train_data['tokenized'].apply(lambda x: [item for item in x if item not in stopwords])\n",
        "test_data['tokenized'] = test_data['comment'].apply(mecab.morphs)\n",
        "test_data['tokenized'] = test_data['tokenized'].apply(lambda x: [item for item in x if item not in stopwords])"
      ],
      "metadata": {
        "id": "sY-3PQr0Qyn5"
      },
      "execution_count": null,
      "outputs": []
    },
    {
      "cell_type": "code",
      "source": [
        "negative_words = np.hstack(train_data[train_data.label == 2]['tokenized'].values)\n",
        "#middlePoint_words = np.hstack(train_data[train_data.label == 3]['tokenized'].values)\n",
        "positive_words = np.hstack(train_data[train_data.label == 1]['tokenized'].values)"
      ],
      "metadata": {
        "id": "ZwwSpiRFQyqP"
      },
      "execution_count": null,
      "outputs": []
    },
    {
      "cell_type": "code",
      "source": [
        "negative_word_count = Counter(negative_words)\n",
        "print(negative_word_count.most_common(20))"
      ],
      "metadata": {
        "colab": {
          "base_uri": "https://localhost:8080/"
        },
        "id": "XBOb6rzCJA96",
        "outputId": "f94def43-3851-4af7-bf99-da57d96e91a0"
      },
      "execution_count": null,
      "outputs": [
        {
          "output_type": "stream",
          "name": "stdout",
          "text": [
            "[('비타민', 578), ('있', 523), ('약국', 511), ('비', 437), ('먹', 318), ('로', 282), ('습니다', 279), ('으로', 264), ('어', 235), ('시', 221), ('제품', 205), ('메타', 188), ('해', 159), ('성분', 154), ('것', 152), ('에서', 148), ('면', 147), ('좋', 143), ('적', 142), ('기', 140)]\n"
          ]
        }
      ]
    },
    {
      "cell_type": "code",
      "source": [
        "positive_word_count = Counter(positive_words)\n",
        "print(positive_word_count.most_common(20))"
      ],
      "metadata": {
        "colab": {
          "base_uri": "https://localhost:8080/"
        },
        "id": "yU85CDBYJBTy",
        "outputId": "1f76a565-2649-4cb2-f740-76e05fc598a8"
      },
      "execution_count": null,
      "outputs": [
        {
          "output_type": "stream",
          "name": "stdout",
          "text": [
            "[('비', 854), ('먹', 688), ('비타민', 679), ('있', 678), ('메타', 534), ('어', 414), ('약국', 410), ('로', 371), ('으로', 351), ('시', 291), ('좋', 284), ('었', 271), ('는데', 261), ('기', 261), ('에서', 261), ('면', 239), ('나', 230), ('것', 230), ('습니다', 228), ('보', 226)]\n"
          ]
        }
      ]
    },
    {
      "cell_type": "code",
      "source": [
        "# middlePoint_word_count =  Counter(middlePoint_words)\n",
        "# print(middlePoint_word_count.most_common(20))"
      ],
      "metadata": {
        "id": "dGouH-v7JBWV"
      },
      "execution_count": null,
      "outputs": []
    },
    {
      "cell_type": "code",
      "source": [
        "fig,(ax1,ax2) = plt.subplots(1,2,figsize=(10,5))\n",
        "text_len = train_data[train_data['label']==1]['tokenized'].map(lambda x: len(x))\n",
        "ax1.hist(text_len, color='red')\n",
        "ax1.set_title('Positive Reviews')\n",
        "ax1.set_xlabel('length of samples')\n",
        "ax1.set_ylabel('number of samples')\n",
        "print('긍정 리뷰의 평균 길이 :', np.mean(text_len))\n",
        "\n",
        "text_len = train_data[train_data['label']==2]['tokenized'].map(lambda x: len(x))\n",
        "ax2.hist(text_len, color='blue')\n",
        "ax2.set_title('Negative Reviews')\n",
        "fig.suptitle('Words in texts')\n",
        "ax2.set_xlabel('length of samples')\n",
        "ax2.set_ylabel('number of samples')\n",
        "print('부정 리뷰의 평균 길이 :', np.mean(text_len))\n",
        "plt.show()"
      ],
      "metadata": {
        "colab": {
          "base_uri": "https://localhost:8080/",
          "height": 406
        },
        "id": "g3iAkcxuJBYi",
        "outputId": "06efa7c0-ad8b-40af-b76f-4b4d8deb9213"
      },
      "execution_count": null,
      "outputs": [
        {
          "output_type": "stream",
          "name": "stdout",
          "text": [
            "긍정 리뷰의 평균 길이 : 167.9296875\n",
            "부정 리뷰의 평균 길이 : 162.18421052631578\n"
          ]
        },
        {
          "output_type": "display_data",
          "data": {
            "text/plain": [
              "<Figure size 720x360 with 2 Axes>"
            ],
            "image/png": "[encoded data removed]"
          },
          "metadata": {
            "needs_background": "light"
          }
        }
      ]
    },
    {
      "cell_type": "code",
      "source": [
        "# fig,(ax1) = plt.subplots(1,figsize=(10,5))\n",
        "# text_len = train_data[train_data['label']==3]['tokenized'].map(lambda x: len(x))\n",
        "# ax1.hist(text_len, color='green')\n",
        "# ax1.set_title('Neutral Reviews')\n",
        "# ax1.set_xlabel('length of samples')\n",
        "# ax1.set_ylabel('number of samples')\n",
        "# print('중립 리뷰의 평균 길이 :', np.mean(text_len))"
      ],
      "metadata": {
        "id": "4w9S5a5EJBa6"
      },
      "execution_count": null,
      "outputs": []
    },
    {
      "cell_type": "code",
      "source": [
        "X_train = train_data['tokenized'].values\n",
        "y_train = train_data['label'].values\n",
        "X_test= test_data['tokenized'].values\n",
        "y_test = test_data['label'].values"
      ],
      "metadata": {
        "id": "lEdnuEgyJBdk"
      },
      "execution_count": null,
      "outputs": []
    },
    {
      "cell_type": "code",
      "source": [
        "tokenizer = Tokenizer()\n",
        "tokenizer.fit_on_texts(X_train)"
      ],
      "metadata": {
        "id": "-Htc9O5wJBfh"
      },
      "execution_count": null,
      "outputs": []
    },
    {
      "cell_type": "markdown",
      "source": [
        "단어 집합이 생성되는 동시에 각 단어에 고유한 정수가 부여되었습니다. 이는 tokenizer.word_index를 출력하여 확인 가능합니다. 등장 횟수가 1회인 단어들은 자연어 처리에서 배제하고자 합니다. 이 단어들이 이 데이터에서 얼만큼의 비중을 차지하는지 확인해봅시다."
      ],
      "metadata": {
        "id": "d2F1OomLL6U4"
      }
    },
    {
      "cell_type": "code",
      "source": [
        "threshold = 2\n",
        "total_cnt = len(tokenizer.word_index) # 단어의 수\n",
        "rare_cnt = 0 # 등장 빈도수가 threshold보다 작은 단어의 개수를 카운트\n",
        "total_freq = 0 # 훈련 데이터의 전체 단어 빈도수 총 합\n",
        "rare_freq = 0 # 등장 빈도수가 threshold보다 작은 단어의 등장 빈도수의 총 합\n",
        "\n",
        "# 단어와 빈도수의 쌍(pair)을 key와 value로 받는다.\n",
        "for key, value in tokenizer.word_counts.items():\n",
        "    total_freq = total_freq + value\n",
        "\n",
        "    # 단어의 등장 빈도수가 threshold보다 작으면\n",
        "    if(value < threshold):\n",
        "        rare_cnt = rare_cnt + 1\n",
        "        rare_freq = rare_freq + value\n",
        "\n",
        "print('단어 집합(vocabulary)의 크기 :',total_cnt)\n",
        "print('등장 빈도가 %s번 이하인 희귀 단어의 수: %s'%(threshold - 1, rare_cnt))\n",
        "print(\"단어 집합에서 희귀 단어의 비율:\", (rare_cnt / total_cnt)*100)\n",
        "print(\"전체 등장 빈도에서 희귀 단어 등장 빈도 비율:\", (rare_freq / total_freq)*100)"
      ],
      "metadata": {
        "colab": {
          "base_uri": "https://localhost:8080/"
        },
        "id": "S_eFo0AaJA7a",
        "outputId": "65d449c4-4713-4acf-9763-0d4dd62cf794"
      },
      "execution_count": null,
      "outputs": [
        {
          "output_type": "stream",
          "name": "stdout",
          "text": [
            "단어 집합(vocabulary)의 크기 : 8113\n",
            "등장 빈도가 1번 이하인 희귀 단어의 수: 3799\n",
            "단어 집합에서 희귀 단어의 비율: 46.826081597436215\n",
            "전체 등장 빈도에서 희귀 단어 등장 빈도 비율: 5.147347740667977\n"
          ]
        }
      ]
    },
    {
      "cell_type": "code",
      "source": [
        "# 전체 단어 개수 중 빈도수 2이하인 단어 개수는 제거.\n",
        "# 0번 패딩 토큰과 1번 OOV 토큰을 고려하여 +2\n",
        "vocab_size = total_cnt - rare_cnt + 2\n",
        "print('단어 집합의 크기 :',vocab_size)"
      ],
      "metadata": {
        "colab": {
          "base_uri": "https://localhost:8080/"
        },
        "id": "Jje-AaRxL4kQ",
        "outputId": "c4683e33-177c-4a19-c5f0-c4009ad9337e"
      },
      "execution_count": null,
      "outputs": [
        {
          "output_type": "stream",
          "name": "stdout",
          "text": [
            "단어 집합의 크기 : 4316\n"
          ]
        }
      ]
    },
    {
      "cell_type": "code",
      "source": [
        "tokenizer = Tokenizer(vocab_size, oov_token = 'OOV') \n",
        "tokenizer.fit_on_texts(X_train)\n",
        "X_train = tokenizer.texts_to_sequences(X_train)\n",
        "X_test = tokenizer.texts_to_sequences(X_test)"
      ],
      "metadata": {
        "id": "WNJcAjc0L4h1"
      },
      "execution_count": null,
      "outputs": []
    },
    {
      "cell_type": "code",
      "source": [
        "print(X_train[:3])"
      ],
      "metadata": {
        "colab": {
          "base_uri": "https://localhost:8080/"
        },
        "id": "Ik3gigQIL4fd",
        "outputId": "099293bf-5ff9-487d-c7c5-1d802e36c523"
      },
      "execution_count": null,
      "outputs": [
        {
          "output_type": "stream",
          "name": "stdout",
          "text": [
            "[[1, 23, 1769, 378, 113, 36, 84, 36, 451, 36, 24, 1281, 36, 2, 164, 219], [2061, 692, 624, 198, 1282, 3127, 692, 624, 3128, 1398, 2470, 2061, 692, 624, 2, 7, 2], [310, 1399, 81, 1556, 23, 3, 1283, 144, 1, 76, 3]]\n"
          ]
        }
      ]
    },
    {
      "cell_type": "code",
      "source": [
        "print(X_test[:3])"
      ],
      "metadata": {
        "colab": {
          "base_uri": "https://localhost:8080/"
        },
        "id": "yT71YcnQL4c9",
        "outputId": "9754df62-c2be-4341-c6d0-1467ff3453b2"
      },
      "execution_count": null,
      "outputs": [
        {
          "output_type": "stream",
          "name": "stdout",
          "text": [
            "[[240, 319, 3, 371, 1, 1021, 4095, 16, 396, 379, 1578, 4, 12, 88, 61, 14, 157, 18, 290, 147, 168, 1578, 61, 32, 97, 421, 6, 63, 1736, 290, 105, 3, 677, 43, 60, 1, 88, 18, 197, 2, 7, 32, 379, 877, 1152, 79, 30, 579, 241, 4, 12, 2, 7, 621, 240, 390, 424, 236, 1060, 518, 621, 240, 14, 758, 157, 18, 3, 18, 32, 2, 7, 190, 108, 99, 72, 3, 233, 782, 54, 230, 51, 93, 184, 169, 8, 397, 53, 165, 64, 81, 2911, 1, 58, 325, 1164, 190, 14, 3, 18, 290, 697, 12, 2, 164, 219, 285, 157, 18, 2, 7, 47, 290, 165, 64, 622, 79, 32, 1894, 157, 18, 241, 20, 253, 266, 60, 2, 7, 2, 340, 10, 5, 15, 191, 128, 258, 550, 45, 829, 735, 3, 1941, 27, 2671, 536, 68, 395, 40, 550, 45, 191, 225, 5, 9, 22, 170, 136, 67, 541, 236, 20, 22, 741, 45, 12, 80, 97, 421, 6, 14, 59, 28, 12], [395, 131, 61, 96, 49, 55, 24, 115, 995, 1, 1, 40, 1, 479, 74, 632, 100, 468, 1, 1, 2346], [1, 160, 1, 222, 576, 1, 148, 1, 80, 181, 94, 3226, 29, 10, 1, 1, 60, 1, 1, 1, 52, 1369, 809, 1, 1, 80, 1, 1, 1, 1738, 343, 751, 1, 1748, 88, 1, 194, 1, 259, 1, 3765, 3105, 1, 148, 125, 38, 1264, 1, 1, 1793, 890, 88, 1, 194, 1, 109, 2005, 1, 2830, 60, 4185, 1138, 261, 1, 1, 90, 1, 3375, 261, 1, 1, 1, 555, 5, 15, 128, 258, 102, 1, 449, 5, 1, 555, 732, 1, 1, 105, 1, 1, 24, 185, 1, 375, 761, 847, 3080, 745, 1, 1018, 3904, 3591, 71, 2433, 1991, 42, 389, 745, 1, 375, 1, 5, 1963, 256, 49, 1, 1654, 1, 1, 1, 5, 1963, 256, 1, 1, 300, 1, 13, 34, 1518, 1, 155, 711, 3826, 1698, 15, 21, 426, 1518, 1, 1, 1, 300, 1, 304, 555, 121, 21, 212, 317]]\n"
          ]
        }
      ]
    },
    {
      "cell_type": "code",
      "source": [
        "# 패딩\n",
        "print('리뷰의 최대 길이 :',max(len(review) for review in X_train))\n",
        "print('리뷰의 평균 길이 :',sum(map(len, X_train))/len(X_train))\n",
        "plt.hist([len(review) for review in X_train], bins=50)\n",
        "plt.xlabel('length of samples')\n",
        "plt.ylabel('number of samples')\n",
        "plt.show()"
      ],
      "metadata": {
        "colab": {
          "base_uri": "https://localhost:8080/",
          "height": 315
        },
        "id": "GXXjizU9L4Tl",
        "outputId": "b8551ea1-3891-4d7a-820e-dacb70f8e33d"
      },
      "execution_count": null,
      "outputs": [
        {
          "output_type": "stream",
          "name": "stdout",
          "text": [
            "리뷰의 최대 길이 : 1462\n",
            "리뷰의 평균 길이 : 165.48206278026905\n"
          ]
        },
        {
          "output_type": "display_data",
          "data": {
            "text/plain": [
              "<Figure size 432x288 with 1 Axes>"
            ],
            "image/png": "[encoded data removed]"
          },
          "metadata": {
            "needs_background": "light"
          }
        }
      ]
    },
    {
      "cell_type": "code",
      "source": [
        "def below_threshold_len(max_len, nested_list):\n",
        "  count = 0\n",
        "  for sentence in nested_list:\n",
        "    if(len(sentence) <= max_len):\n",
        "        count = count + 1\n",
        "  print('전체 샘플 중 길이가 %s 이하인 샘플의 비율: %s'%(max_len, (count / len(nested_list))*100))"
      ],
      "metadata": {
        "id": "BY32oRKVMLOl"
      },
      "execution_count": null,
      "outputs": []
    },
    {
      "cell_type": "code",
      "source": [
        "max_len = 1450\n",
        "below_threshold_len(max_len, X_train)"
      ],
      "metadata": {
        "colab": {
          "base_uri": "https://localhost:8080/"
        },
        "id": "L0uWCmIsMPKs",
        "outputId": "9da698e5-4099-44db-cfde-87cbe6d789ab"
      },
      "execution_count": null,
      "outputs": [
        {
          "output_type": "stream",
          "name": "stdout",
          "text": [
            "전체 샘플 중 길이가 1450 이하인 샘플의 비율: 99.77578475336323\n"
          ]
        }
      ]
    },
    {
      "cell_type": "code",
      "source": [
        "X_train = pad_sequences(X_train, maxlen=max_len)\n",
        "X_test = pad_sequences(X_test, maxlen=max_len)"
      ],
      "metadata": {
        "id": "lRFCcBVjMPNg"
      },
      "execution_count": null,
      "outputs": []
    },
    {
      "cell_type": "markdown",
      "source": [
        "# BiLSTM으로 감성 분류하기"
      ],
      "metadata": {
        "id": "YdpltL0bMbtc"
      }
    },
    {
      "cell_type": "code",
      "source": [
        "embedding_dim = 100\n",
        "hidden_units = 128\n",
        "\n",
        "model = Sequential()\n",
        "model.add(Embedding(vocab_size, embedding_dim))\n",
        "model.add(Bidirectional(LSTM(hidden_units))) # Bidirectional LSTM을 사용\n",
        "model.add(Dense(10, activation='relu'))\n",
        "model.add(Dense(1, activation='sigmoid'))\n",
        "\n",
        "es = EarlyStopping(monitor='val_loss', mode='min', verbose=1, patience=100)\n",
        "mc = ModelCheckpoint('best_model.h5', monitor='val_acc', mode='max', verbose=1, save_best_only=True)\n",
        "\n",
        "model.compile(optimizer='adam', loss = 'sparse_categorical_crossentropy', metrics=['acc'])\n",
        "history = model.fit(X_train, y_train, epochs=15, callbacks=[es, mc], batch_size=64, validation_split=0.2)"
      ],
      "metadata": {
        "colab": {
          "base_uri": "https://localhost:8080/"
        },
        "id": "R-L66oNmMPQY",
        "outputId": "a41424b2-69be-495f-af56-de639f323f62"
      },
      "execution_count": null,
      "outputs": [
        {
          "output_type": "stream",
          "name": "stdout",
          "text": [
            "Epoch 1/15\n",
            "6/6 [==============================] - ETA: 0s - loss: nan - acc: 0.0169\n",
            "Epoch 1: val_acc improved from -inf to 0.00000, saving model to best_model.h5\n",
            "6/6 [==============================] - 5s 302ms/step - loss: nan - acc: 0.0169 - val_loss: nan - val_acc: 0.0000e+00\n",
            "Epoch 2/15\n",
            "6/6 [==============================] - ETA: 0s - loss: nan - acc: 0.0000e+00\n",
            "Epoch 2: val_acc did not improve from 0.00000\n",
            "6/6 [==============================] - 1s 153ms/step - loss: nan - acc: 0.0000e+00 - val_loss: nan - val_acc: 0.0000e+00\n",
            "Epoch 3/15\n",
            "6/6 [==============================] - ETA: 0s - loss: nan - acc: 0.0000e+00\n",
            "Epoch 3: val_acc did not improve from 0.00000\n",
            "6/6 [==============================] - 1s 149ms/step - loss: nan - acc: 0.0000e+00 - val_loss: nan - val_acc: 0.0000e+00\n",
            "Epoch 4/15\n",
            "6/6 [==============================] - ETA: 0s - loss: nan - acc: 0.0000e+00\n",
            "Epoch 4: val_acc did not improve from 0.00000\n",
            "6/6 [==============================] - 1s 152ms/step - loss: nan - acc: 0.0000e+00 - val_loss: nan - val_acc: 0.0000e+00\n",
            "Epoch 5/15\n",
            "6/6 [==============================] - ETA: 0s - loss: nan - acc: 0.0000e+00\n",
            "Epoch 5: val_acc did not improve from 0.00000\n",
            "6/6 [==============================] - 1s 152ms/step - loss: nan - acc: 0.0000e+00 - val_loss: nan - val_acc: 0.0000e+00\n",
            "Epoch 6/15\n",
            "6/6 [==============================] - ETA: 0s - loss: nan - acc: 0.0000e+00\n",
            "Epoch 6: val_acc did not improve from 0.00000\n",
            "6/6 [==============================] - 1s 152ms/step - loss: nan - acc: 0.0000e+00 - val_loss: nan - val_acc: 0.0000e+00\n",
            "Epoch 7/15\n",
            "6/6 [==============================] - ETA: 0s - loss: nan - acc: 0.0000e+00\n",
            "Epoch 7: val_acc did not improve from 0.00000\n",
            "6/6 [==============================] - 1s 149ms/step - loss: nan - acc: 0.0000e+00 - val_loss: nan - val_acc: 0.0000e+00\n",
            "Epoch 8/15\n",
            "6/6 [==============================] - ETA: 0s - loss: nan - acc: 0.0000e+00\n",
            "Epoch 8: val_acc did not improve from 0.00000\n",
            "6/6 [==============================] - 1s 148ms/step - loss: nan - acc: 0.0000e+00 - val_loss: nan - val_acc: 0.0000e+00\n",
            "Epoch 9/15\n",
            "6/6 [==============================] - ETA: 0s - loss: nan - acc: 0.0000e+00\n",
            "Epoch 9: val_acc did not improve from 0.00000\n",
            "6/6 [==============================] - 1s 145ms/step - loss: nan - acc: 0.0000e+00 - val_loss: nan - val_acc: 0.0000e+00\n",
            "Epoch 10/15\n",
            "6/6 [==============================] - ETA: 0s - loss: nan - acc: 0.0000e+00\n",
            "Epoch 10: val_acc did not improve from 0.00000\n",
            "6/6 [==============================] - 1s 151ms/step - loss: nan - acc: 0.0000e+00 - val_loss: nan - val_acc: 0.0000e+00\n",
            "Epoch 11/15\n",
            "6/6 [==============================] - ETA: 0s - loss: nan - acc: 0.0000e+00\n",
            "Epoch 11: val_acc did not improve from 0.00000\n",
            "6/6 [==============================] - 1s 148ms/step - loss: nan - acc: 0.0000e+00 - val_loss: nan - val_acc: 0.0000e+00\n",
            "Epoch 12/15\n",
            "6/6 [==============================] - ETA: 0s - loss: nan - acc: 0.0000e+00\n",
            "Epoch 12: val_acc did not improve from 0.00000\n",
            "6/6 [==============================] - 1s 150ms/step - loss: nan - acc: 0.0000e+00 - val_loss: nan - val_acc: 0.0000e+00\n",
            "Epoch 13/15\n",
            "6/6 [==============================] - ETA: 0s - loss: nan - acc: 0.0000e+00\n",
            "Epoch 13: val_acc did not improve from 0.00000\n",
            "6/6 [==============================] - 1s 150ms/step - loss: nan - acc: 0.0000e+00 - val_loss: nan - val_acc: 0.0000e+00\n",
            "Epoch 14/15\n",
            "6/6 [==============================] - ETA: 0s - loss: nan - acc: 0.0000e+00\n",
            "Epoch 14: val_acc did not improve from 0.00000\n",
            "6/6 [==============================] - 1s 151ms/step - loss: nan - acc: 0.0000e+00 - val_loss: nan - val_acc: 0.0000e+00\n",
            "Epoch 15/15\n",
            "6/6 [==============================] - ETA: 0s - loss: nan - acc: 0.0000e+00\n",
            "Epoch 15: val_acc did not improve from 0.00000\n",
            "6/6 [==============================] - 1s 150ms/step - loss: nan - acc: 0.0000e+00 - val_loss: nan - val_acc: 0.0000e+00\n"
          ]
        }
      ]
    },
    {
      "cell_type": "code",
      "source": [
        "# embedding_dim = 100\n",
        "# hidden_units = 128\n",
        "\n",
        "# model = Sequential()\n",
        "# model.add(Embedding(vocab_size, embedding_dim))\n",
        "# model.add(GRU(hidden_units))\n",
        "# model.add(Dense(2, activation='sigmoid'))\n",
        "\n",
        "# es = EarlyStopping(monitor='val_loss', mode='min', verbose=1, patience=4)\n",
        "# mc = ModelCheckpoint('best_model.h5', monitor='val_acc', mode='max', verbose=1, save_best_only=True)\n",
        "\n",
        "# model.compile(optimizer='rmsprop', loss='binary_crossentropy', metrics=['acc'])\n",
        "# history = model.fit(X_train, y_train, epochs=5, callbacks=[es, mc], batch_size=64, validation_split=0.2)"
      ],
      "metadata": {
        "id": "r2Jfy6TrjNwR"
      },
      "execution_count": null,
      "outputs": []
    },
    {
      "cell_type": "code",
      "source": [
        "loaded_model = load_model('best_model.h5')\n",
        "print(\"테스트 정확도: %.4f\" % (loaded_model.evaluate(X_test, y_test)[1]))"
      ],
      "metadata": {
        "colab": {
          "base_uri": "https://localhost:8080/"
        },
        "id": "iRV3sijIMPTD",
        "outputId": "f1ff8f14-ec15-415b-fb69-7c015790893d"
      },
      "execution_count": null,
      "outputs": [
        {
          "output_type": "stream",
          "name": "stdout",
          "text": [
            "2/2 [==============================] - 1s 88ms/step - loss: nan - acc: 0.0000e+00\n",
            "테스트 정확도: 0.0000\n"
          ]
        }
      ]
    },
    {
      "cell_type": "code",
      "source": [
        "def sentiment_predict(new_sentence):\n",
        "  new_sentence = re.sub(r'[^ㄱ-ㅎㅏ-ㅣ가-힣 ]','', new_sentence)\n",
        "  new_sentence = mecab.morphs(new_sentence) # 토큰화\n",
        "  new_sentence = [word for word in new_sentence if not word in stopwords] # 불용어 제거\n",
        "  encoded = tokenizer.texts_to_sequences([new_sentence]) # 정수 인코딩\n",
        "  pad_new = pad_sequences(encoded, maxlen = max_len) # 패딩\n",
        "  score = float(loaded_model.predict(pad_new)) # 예측\n",
        "  if(score > 0.5):\n",
        "    print(\"{:.2f}% 확률로 긍정 리뷰입니다.\".format(score * 100))\n",
        "  else:\n",
        "    print(\"{:.2f}% 확률로 부정 리뷰입니다.\".format((1 - score) * 100))"
      ],
      "metadata": {
        "id": "C5OdBxs2MPpb"
      },
      "execution_count": null,
      "outputs": []
    },
    {
      "cell_type": "code",
      "source": [
        "sentiment_predict('노잼 ..완전 재미 없음 ㅉㅉ')"
      ],
      "metadata": {
        "colab": {
          "base_uri": "https://localhost:8080/"
        },
        "id": "u1Kz1uQJMPse",
        "outputId": "1dea0937-3603-4451-83dc-eafc9c37c896"
      },
      "execution_count": null,
      "outputs": [
        {
          "output_type": "stream",
          "name": "stdout",
          "text": [
            "50.48% 확률로 긍정 리뷰입니다.\n"
          ]
        }
      ]
    },
    {
      "cell_type": "code",
      "source": [
        "sentiment_predict('드래곤 ')"
      ],
      "metadata": {
        "colab": {
          "base_uri": "https://localhost:8080/"
        },
        "id": "w51BjlDrMPwo",
        "outputId": "c32f76e6-2a86-4672-d28a-e00c7c6be260"
      },
      "execution_count": null,
      "outputs": [
        {
          "output_type": "stream",
          "name": "stdout",
          "text": [
            "50.50% 확률로 긍정 리뷰입니다.\n"
          ]
        }
      ]
    },
    {
      "cell_type": "code",
      "source": [
        ""
      ],
      "metadata": {
        "id": "IDede-OZMP0Y"
      },
      "execution_count": null,
      "outputs": []
    },
    {
      "cell_type": "code",
      "source": [
        ""
      ],
      "metadata": {
        "id": "RiEqPT1MMP3C"
      },
      "execution_count": null,
      "outputs": []
    }
  ]
}