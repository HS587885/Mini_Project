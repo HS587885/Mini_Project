{
  "nbformat": 4,
  "nbformat_minor": 0,
  "metadata": {
    "colab": {
      "name": "아로나미골드_채널별추이.ipynb",
      "provenance": [],
      "authorship_tag": "ABX9TyNfRHrqdMlHn0rB3tnQiUMn",
      "include_colab_link": true
    },
    "kernelspec": {
      "name": "python3",
      "display_name": "Python 3"
    },
    "language_info": {
      "name": "python"
    }
  },
  "cells": [
    {
      "cell_type": "markdown",
      "metadata": {
        "id": "view-in-github",
        "colab_type": "text"
      },
      "source": [
        "<a href=\"https://colab.research.google.com/github/HS587885/Mini_Project/blob/main/%EC%95%84%EB%A1%9C%EB%82%98%EB%AF%B8%EA%B3%A8%EB%93%9C_%EC%B1%84%EB%84%90%EB%B3%84%EC%B6%94%EC%9D%B4.ipynb\" target=\"_parent\"><img src=\"https://colab.research.google.com/assets/colab-badge.svg\" alt=\"Open In Colab\"/></a>"
      ]
    },
    {
      "cell_type": "code",
      "execution_count": null,
      "metadata": {
        "colab": {
          "base_uri": "https://localhost:8080/"
        },
        "id": "1_dzdeRH9G5B",
        "outputId": "e797da91-4021-4f20-ca7e-1eba309ea38f"
      },
      "outputs": [
        {
          "output_type": "stream",
          "name": "stdout",
          "text": [
            "Looking in indexes: https://pypi.org/simple, https://us-python.pkg.dev/colab-wheels/public/simple/\n",
            "Requirement already satisfied: konlpy in /usr/local/lib/python3.7/dist-packages (0.6.0)\n",
            "Requirement already satisfied: JPype1>=0.7.0 in /usr/local/lib/python3.7/dist-packages (from konlpy) (1.4.0)\n",
            "Requirement already satisfied: numpy>=1.6 in /usr/local/lib/python3.7/dist-packages (from konlpy) (1.21.6)\n",
            "Requirement already satisfied: lxml>=4.1.0 in /usr/local/lib/python3.7/dist-packages (from konlpy) (4.2.6)\n",
            "Requirement already satisfied: typing-extensions in /usr/local/lib/python3.7/dist-packages (from JPype1>=0.7.0->konlpy) (4.1.1)\n"
          ]
        }
      ],
      "source": [
        "!pip install konlpy"
      ]
    },
    {
      "cell_type": "code",
      "source": [
        "import re\n",
        "import pandas as pd\n",
        "import numpy as np\n",
        "import matplotlib.pyplot as plt\n",
        "import urllib.request\n",
        "from collections import Counter\n",
        "from konlpy.tag import Mecab\n",
        "from sklearn.model_selection import train_test_split\n",
        "from tensorflow.keras.preprocessing.text import Tokenizer\n",
        "from tensorflow.keras.preprocessing.sequence import pad_sequences\n",
        "import pandas as pd\n",
        "import numpy as np\n",
        "import pickle\n",
        "from pprint import pprint\n",
        "import re\n",
        "#from wordcloud import WordCloud\n",
        "\n",
        "from google.colab import drive\n",
        "drive.mount(\"/content/drive/\")"
      ],
      "metadata": {
        "colab": {
          "base_uri": "https://localhost:8080/"
        },
        "id": "egXEmY029MFg",
        "outputId": "698bcef9-b79c-4108-fdc7-1af98c02df27"
      },
      "execution_count": null,
      "outputs": [
        {
          "output_type": "stream",
          "name": "stdout",
          "text": [
            "Drive already mounted at /content/drive/; to attempt to forcibly remount, call drive.mount(\"/content/drive/\", force_remount=True).\n"
          ]
        }
      ]
    },
    {
      "cell_type": "code",
      "source": [
        "aro = pd.read_csv('/content/drive/Shareddrives/흐사드/0702_0706_파일정리/아로나민/아로나민골드_2019_2022.csv', encoding = 'utf-8')\n",
        "aro.tail()"
      ],
      "metadata": {
        "colab": {
          "base_uri": "https://localhost:8080/",
          "height": 206
        },
        "id": "rasxuBCj9MIL",
        "outputId": "a5d161ab-3786-436a-cbea-e6f36f30c625"
      },
      "execution_count": null,
      "outputs": [
        {
          "output_type": "execute_result",
          "data": {
            "text/plain": [
              "      Unnamed: 0  Unnamed: 0.1        날짜  \\\n",
              "4156        6363          1399  20220316   \n",
              "4157        6364          1400  20220315   \n",
              "4158        6365          1401  20220314   \n",
              "4159        6366          1402  20220313   \n",
              "4160        6367          1403  20220312   \n",
              "\n",
              "                                                     제목 언론사명          분류  \\\n",
              "4156  나 아로나민골드 안 맞아 띵해지는.. 종합비타민 하나 사야겠.. \\n루테인 오메가3...  NaN  트위터(RT 포함)   \n",
              "4157  @Ssomebody_KR 비타민 쏜리서치 투퍼데이 피로회복 아로나민골드 양늘어나는거...  NaN  트위터(RT 포함)   \n",
              "4158  @twt_VAV 너는 내 멀티비타민, 박카스, 우루사, 아로나민골드, 오메가3 야~...  NaN  트위터(RT 포함)   \n",
              "4159  그 시절 길용우 배우가 나온 아로나민 골드 광고\\n\\n아내가 \"쉬는 날엔 계속 잠만...  NaN  트위터(RT 포함)   \n",
              "4160                        아로나민골드 전에 한알 얻어먹어봤는데 괜찮았던기억  NaN  트위터(RT 포함)   \n",
              "\n",
              "        연도  달  \n",
              "4156  2022  3  \n",
              "4157  2022  3  \n",
              "4158  2022  3  \n",
              "4159  2022  3  \n",
              "4160  2022  3  "
            ],
            "text/html": [
              "\n",
              "  <div id=\"df-154f7ea2-493e-4927-befa-98032da4d10c\">\n",
              "    <div class=\"colab-df-container\">\n",
              "      <div>\n",
              "<style scoped>\n",
              "    .dataframe tbody tr th:only-of-type {\n",
              "        vertical-align: middle;\n",
              "    }\n",
              "\n",
              "    .dataframe tbody tr th {\n",
              "        vertical-align: top;\n",
              "    }\n",
              "\n",
              "    .dataframe thead th {\n",
              "        text-align: right;\n",
              "    }\n",
              "</style>\n",
              "<table border=\"1\" class=\"dataframe\">\n",
              "  <thead>\n",
              "    <tr style=\"text-align: right;\">\n",
              "      <th></th>\n",
              "      <th>Unnamed: 0</th>\n",
              "      <th>Unnamed: 0.1</th>\n",
              "      <th>날짜</th>\n",
              "      <th>제목</th>\n",
              "      <th>언론사명</th>\n",
              "      <th>분류</th>\n",
              "      <th>연도</th>\n",
              "      <th>달</th>\n",
              "    </tr>\n",
              "  </thead>\n",
              "  <tbody>\n",
              "    <tr>\n",
              "      <th>4156</th>\n",
              "      <td>6363</td>\n",
              "      <td>1399</td>\n",
              "      <td>20220316</td>\n",
              "      <td>나 아로나민골드 안 맞아 띵해지는.. 종합비타민 하나 사야겠.. \\n루테인 오메가3...</td>\n",
              "      <td>NaN</td>\n",
              "      <td>트위터(RT 포함)</td>\n",
              "      <td>2022</td>\n",
              "      <td>3</td>\n",
              "    </tr>\n",
              "    <tr>\n",
              "      <th>4157</th>\n",
              "      <td>6364</td>\n",
              "      <td>1400</td>\n",
              "      <td>20220315</td>\n",
              "      <td>@Ssomebody_KR 비타민 쏜리서치 투퍼데이 피로회복 아로나민골드 양늘어나는거...</td>\n",
              "      <td>NaN</td>\n",
              "      <td>트위터(RT 포함)</td>\n",
              "      <td>2022</td>\n",
              "      <td>3</td>\n",
              "    </tr>\n",
              "    <tr>\n",
              "      <th>4158</th>\n",
              "      <td>6365</td>\n",
              "      <td>1401</td>\n",
              "      <td>20220314</td>\n",
              "      <td>@twt_VAV 너는 내 멀티비타민, 박카스, 우루사, 아로나민골드, 오메가3 야~...</td>\n",
              "      <td>NaN</td>\n",
              "      <td>트위터(RT 포함)</td>\n",
              "      <td>2022</td>\n",
              "      <td>3</td>\n",
              "    </tr>\n",
              "    <tr>\n",
              "      <th>4159</th>\n",
              "      <td>6366</td>\n",
              "      <td>1402</td>\n",
              "      <td>20220313</td>\n",
              "      <td>그 시절 길용우 배우가 나온 아로나민 골드 광고\\n\\n아내가 \"쉬는 날엔 계속 잠만...</td>\n",
              "      <td>NaN</td>\n",
              "      <td>트위터(RT 포함)</td>\n",
              "      <td>2022</td>\n",
              "      <td>3</td>\n",
              "    </tr>\n",
              "    <tr>\n",
              "      <th>4160</th>\n",
              "      <td>6367</td>\n",
              "      <td>1403</td>\n",
              "      <td>20220312</td>\n",
              "      <td>아로나민골드 전에 한알 얻어먹어봤는데 괜찮았던기억</td>\n",
              "      <td>NaN</td>\n",
              "      <td>트위터(RT 포함)</td>\n",
              "      <td>2022</td>\n",
              "      <td>3</td>\n",
              "    </tr>\n",
              "  </tbody>\n",
              "</table>\n",
              "</div>\n",
              "      <button class=\"colab-df-convert\" onclick=\"convertToInteractive('df-154f7ea2-493e-4927-befa-98032da4d10c')\"\n",
              "              title=\"Convert this dataframe to an interactive table.\"\n",
              "              style=\"display:none;\">\n",
              "        \n",
              "  <svg xmlns=\"http://www.w3.org/2000/svg\" height=\"24px\"viewBox=\"0 0 24 24\"\n",
              "       width=\"24px\">\n",
              "    <path d=\"M0 0h24v24H0V0z\" fill=\"none\"/>\n",
              "    <path d=\"M18.56 5.44l.94 2.06.94-2.06 2.06-.94-2.06-.94-.94-2.06-.94 2.06-2.06.94zm-11 1L8.5 8.5l.94-2.06 2.06-.94-2.06-.94L8.5 2.5l-.94 2.06-2.06.94zm10 10l.94 2.06.94-2.06 2.06-.94-2.06-.94-.94-2.06-.94 2.06-2.06.94z\"/><path d=\"M17.41 7.96l-1.37-1.37c-.4-.4-.92-.59-1.43-.59-.52 0-1.04.2-1.43.59L10.3 9.45l-7.72 7.72c-.78.78-.78 2.05 0 2.83L4 21.41c.39.39.9.59 1.41.59.51 0 1.02-.2 1.41-.59l7.78-7.78 2.81-2.81c.8-.78.8-2.07 0-2.86zM5.41 20L4 18.59l7.72-7.72 1.47 1.35L5.41 20z\"/>\n",
              "  </svg>\n",
              "      </button>\n",
              "      \n",
              "  <style>\n",
              "    .colab-df-container {\n",
              "      display:flex;\n",
              "      flex-wrap:wrap;\n",
              "      gap: 12px;\n",
              "    }\n",
              "\n",
              "    .colab-df-convert {\n",
              "      background-color: #E8F0FE;\n",
              "      border: none;\n",
              "      border-radius: 50%;\n",
              "      cursor: pointer;\n",
              "      display: none;\n",
              "      fill: #1967D2;\n",
              "      height: 32px;\n",
              "      padding: 0 0 0 0;\n",
              "      width: 32px;\n",
              "    }\n",
              "\n",
              "    .colab-df-convert:hover {\n",
              "      background-color: #E2EBFA;\n",
              "      box-shadow: 0px 1px 2px rgba(60, 64, 67, 0.3), 0px 1px 3px 1px rgba(60, 64, 67, 0.15);\n",
              "      fill: #174EA6;\n",
              "    }\n",
              "\n",
              "    [theme=dark] .colab-df-convert {\n",
              "      background-color: #3B4455;\n",
              "      fill: #D2E3FC;\n",
              "    }\n",
              "\n",
              "    [theme=dark] .colab-df-convert:hover {\n",
              "      background-color: #434B5C;\n",
              "      box-shadow: 0px 1px 3px 1px rgba(0, 0, 0, 0.15);\n",
              "      filter: drop-shadow(0px 1px 2px rgba(0, 0, 0, 0.3));\n",
              "      fill: #FFFFFF;\n",
              "    }\n",
              "  </style>\n",
              "\n",
              "      <script>\n",
              "        const buttonEl =\n",
              "          document.querySelector('#df-154f7ea2-493e-4927-befa-98032da4d10c button.colab-df-convert');\n",
              "        buttonEl.style.display =\n",
              "          google.colab.kernel.accessAllowed ? 'block' : 'none';\n",
              "\n",
              "        async function convertToInteractive(key) {\n",
              "          const element = document.querySelector('#df-154f7ea2-493e-4927-befa-98032da4d10c');\n",
              "          const dataTable =\n",
              "            await google.colab.kernel.invokeFunction('convertToInteractive',\n",
              "                                                     [key], {});\n",
              "          if (!dataTable) return;\n",
              "\n",
              "          const docLinkHtml = 'Like what you see? Visit the ' +\n",
              "            '<a target=\"_blank\" href=https://colab.research.google.com/notebooks/data_table.ipynb>data table notebook</a>'\n",
              "            + ' to learn more about interactive tables.';\n",
              "          element.innerHTML = '';\n",
              "          dataTable['output_type'] = 'display_data';\n",
              "          await google.colab.output.renderOutput(dataTable, element);\n",
              "          const docLink = document.createElement('div');\n",
              "          docLink.innerHTML = docLinkHtml;\n",
              "          element.appendChild(docLink);\n",
              "        }\n",
              "      </script>\n",
              "    </div>\n",
              "  </div>\n",
              "  "
            ]
          },
          "metadata": {},
          "execution_count": 3
        }
      ]
    },
    {
      "cell_type": "code",
      "source": [
        "del aro['Unnamed: 0']\n",
        "del aro['Unnamed: 0.1']\n",
        "del aro['언론사명']"
      ],
      "metadata": {
        "id": "lAbLjmap9MKj"
      },
      "execution_count": null,
      "outputs": []
    },
    {
      "cell_type": "code",
      "source": [
        "aro.tail()"
      ],
      "metadata": {
        "colab": {
          "base_uri": "https://localhost:8080/",
          "height": 206
        },
        "id": "xaN1_6On9MNN",
        "outputId": "e6bf3673-e427-4b63-e3cf-482a91cb8a7d"
      },
      "execution_count": null,
      "outputs": [
        {
          "output_type": "execute_result",
          "data": {
            "text/plain": [
              "            날짜                                                 제목          분류  \\\n",
              "4156  20220316  나 아로나민골드 안 맞아 띵해지는.. 종합비타민 하나 사야겠.. \\n루테인 오메가3...  트위터(RT 포함)   \n",
              "4157  20220315  @Ssomebody_KR 비타민 쏜리서치 투퍼데이 피로회복 아로나민골드 양늘어나는거...  트위터(RT 포함)   \n",
              "4158  20220314  @twt_VAV 너는 내 멀티비타민, 박카스, 우루사, 아로나민골드, 오메가3 야~...  트위터(RT 포함)   \n",
              "4159  20220313  그 시절 길용우 배우가 나온 아로나민 골드 광고\\n\\n아내가 \"쉬는 날엔 계속 잠만...  트위터(RT 포함)   \n",
              "4160  20220312                        아로나민골드 전에 한알 얻어먹어봤는데 괜찮았던기억  트위터(RT 포함)   \n",
              "\n",
              "        연도  달  \n",
              "4156  2022  3  \n",
              "4157  2022  3  \n",
              "4158  2022  3  \n",
              "4159  2022  3  \n",
              "4160  2022  3  "
            ],
            "text/html": [
              "\n",
              "  <div id=\"df-8620cabc-f167-406a-8306-14daae4d0cbc\">\n",
              "    <div class=\"colab-df-container\">\n",
              "      <div>\n",
              "<style scoped>\n",
              "    .dataframe tbody tr th:only-of-type {\n",
              "        vertical-align: middle;\n",
              "    }\n",
              "\n",
              "    .dataframe tbody tr th {\n",
              "        vertical-align: top;\n",
              "    }\n",
              "\n",
              "    .dataframe thead th {\n",
              "        text-align: right;\n",
              "    }\n",
              "</style>\n",
              "<table border=\"1\" class=\"dataframe\">\n",
              "  <thead>\n",
              "    <tr style=\"text-align: right;\">\n",
              "      <th></th>\n",
              "      <th>날짜</th>\n",
              "      <th>제목</th>\n",
              "      <th>분류</th>\n",
              "      <th>연도</th>\n",
              "      <th>달</th>\n",
              "    </tr>\n",
              "  </thead>\n",
              "  <tbody>\n",
              "    <tr>\n",
              "      <th>4156</th>\n",
              "      <td>20220316</td>\n",
              "      <td>나 아로나민골드 안 맞아 띵해지는.. 종합비타민 하나 사야겠.. \\n루테인 오메가3...</td>\n",
              "      <td>트위터(RT 포함)</td>\n",
              "      <td>2022</td>\n",
              "      <td>3</td>\n",
              "    </tr>\n",
              "    <tr>\n",
              "      <th>4157</th>\n",
              "      <td>20220315</td>\n",
              "      <td>@Ssomebody_KR 비타민 쏜리서치 투퍼데이 피로회복 아로나민골드 양늘어나는거...</td>\n",
              "      <td>트위터(RT 포함)</td>\n",
              "      <td>2022</td>\n",
              "      <td>3</td>\n",
              "    </tr>\n",
              "    <tr>\n",
              "      <th>4158</th>\n",
              "      <td>20220314</td>\n",
              "      <td>@twt_VAV 너는 내 멀티비타민, 박카스, 우루사, 아로나민골드, 오메가3 야~...</td>\n",
              "      <td>트위터(RT 포함)</td>\n",
              "      <td>2022</td>\n",
              "      <td>3</td>\n",
              "    </tr>\n",
              "    <tr>\n",
              "      <th>4159</th>\n",
              "      <td>20220313</td>\n",
              "      <td>그 시절 길용우 배우가 나온 아로나민 골드 광고\\n\\n아내가 \"쉬는 날엔 계속 잠만...</td>\n",
              "      <td>트위터(RT 포함)</td>\n",
              "      <td>2022</td>\n",
              "      <td>3</td>\n",
              "    </tr>\n",
              "    <tr>\n",
              "      <th>4160</th>\n",
              "      <td>20220312</td>\n",
              "      <td>아로나민골드 전에 한알 얻어먹어봤는데 괜찮았던기억</td>\n",
              "      <td>트위터(RT 포함)</td>\n",
              "      <td>2022</td>\n",
              "      <td>3</td>\n",
              "    </tr>\n",
              "  </tbody>\n",
              "</table>\n",
              "</div>\n",
              "      <button class=\"colab-df-convert\" onclick=\"convertToInteractive('df-8620cabc-f167-406a-8306-14daae4d0cbc')\"\n",
              "              title=\"Convert this dataframe to an interactive table.\"\n",
              "              style=\"display:none;\">\n",
              "        \n",
              "  <svg xmlns=\"http://www.w3.org/2000/svg\" height=\"24px\"viewBox=\"0 0 24 24\"\n",
              "       width=\"24px\">\n",
              "    <path d=\"M0 0h24v24H0V0z\" fill=\"none\"/>\n",
              "    <path d=\"M18.56 5.44l.94 2.06.94-2.06 2.06-.94-2.06-.94-.94-2.06-.94 2.06-2.06.94zm-11 1L8.5 8.5l.94-2.06 2.06-.94-2.06-.94L8.5 2.5l-.94 2.06-2.06.94zm10 10l.94 2.06.94-2.06 2.06-.94-2.06-.94-.94-2.06-.94 2.06-2.06.94z\"/><path d=\"M17.41 7.96l-1.37-1.37c-.4-.4-.92-.59-1.43-.59-.52 0-1.04.2-1.43.59L10.3 9.45l-7.72 7.72c-.78.78-.78 2.05 0 2.83L4 21.41c.39.39.9.59 1.41.59.51 0 1.02-.2 1.41-.59l7.78-7.78 2.81-2.81c.8-.78.8-2.07 0-2.86zM5.41 20L4 18.59l7.72-7.72 1.47 1.35L5.41 20z\"/>\n",
              "  </svg>\n",
              "      </button>\n",
              "      \n",
              "  <style>\n",
              "    .colab-df-container {\n",
              "      display:flex;\n",
              "      flex-wrap:wrap;\n",
              "      gap: 12px;\n",
              "    }\n",
              "\n",
              "    .colab-df-convert {\n",
              "      background-color: #E8F0FE;\n",
              "      border: none;\n",
              "      border-radius: 50%;\n",
              "      cursor: pointer;\n",
              "      display: none;\n",
              "      fill: #1967D2;\n",
              "      height: 32px;\n",
              "      padding: 0 0 0 0;\n",
              "      width: 32px;\n",
              "    }\n",
              "\n",
              "    .colab-df-convert:hover {\n",
              "      background-color: #E2EBFA;\n",
              "      box-shadow: 0px 1px 2px rgba(60, 64, 67, 0.3), 0px 1px 3px 1px rgba(60, 64, 67, 0.15);\n",
              "      fill: #174EA6;\n",
              "    }\n",
              "\n",
              "    [theme=dark] .colab-df-convert {\n",
              "      background-color: #3B4455;\n",
              "      fill: #D2E3FC;\n",
              "    }\n",
              "\n",
              "    [theme=dark] .colab-df-convert:hover {\n",
              "      background-color: #434B5C;\n",
              "      box-shadow: 0px 1px 3px 1px rgba(0, 0, 0, 0.15);\n",
              "      filter: drop-shadow(0px 1px 2px rgba(0, 0, 0, 0.3));\n",
              "      fill: #FFFFFF;\n",
              "    }\n",
              "  </style>\n",
              "\n",
              "      <script>\n",
              "        const buttonEl =\n",
              "          document.querySelector('#df-8620cabc-f167-406a-8306-14daae4d0cbc button.colab-df-convert');\n",
              "        buttonEl.style.display =\n",
              "          google.colab.kernel.accessAllowed ? 'block' : 'none';\n",
              "\n",
              "        async function convertToInteractive(key) {\n",
              "          const element = document.querySelector('#df-8620cabc-f167-406a-8306-14daae4d0cbc');\n",
              "          const dataTable =\n",
              "            await google.colab.kernel.invokeFunction('convertToInteractive',\n",
              "                                                     [key], {});\n",
              "          if (!dataTable) return;\n",
              "\n",
              "          const docLinkHtml = 'Like what you see? Visit the ' +\n",
              "            '<a target=\"_blank\" href=https://colab.research.google.com/notebooks/data_table.ipynb>data table notebook</a>'\n",
              "            + ' to learn more about interactive tables.';\n",
              "          element.innerHTML = '';\n",
              "          dataTable['output_type'] = 'display_data';\n",
              "          await google.colab.output.renderOutput(dataTable, element);\n",
              "          const docLink = document.createElement('div');\n",
              "          docLink.innerHTML = docLinkHtml;\n",
              "          element.appendChild(docLink);\n",
              "        }\n",
              "      </script>\n",
              "    </div>\n",
              "  </div>\n",
              "  "
            ]
          },
          "metadata": {},
          "execution_count": 5
        }
      ]
    },
    {
      "cell_type": "code",
      "source": [
        "aro['분류'].unique()"
      ],
      "metadata": {
        "colab": {
          "base_uri": "https://localhost:8080/"
        },
        "id": "rKSRZx-t9MPO",
        "outputId": "52a4f592-7377-4eef-de4d-b784a2a474e0"
      },
      "execution_count": null,
      "outputs": [
        {
          "output_type": "execute_result",
          "data": {
            "text/plain": [
              "array(['기사', 'http://blog.naver.com/moony9320/221455056381',\n",
              "       'http://blog.naver.com/baereerah88/221452479391',\n",
              "       'http://blog.naver.com/hteycssd2/221436580388',\n",
              "       'http://blog.naver.com/w0w_2000/221434639804',\n",
              "       'http://blog.naver.com/lucky1004pharm/221433167360',\n",
              "       'http://blog.naver.com/ddungddi87/221432119654',\n",
              "       'http://blog.naver.com/hitwoeun/221477134287',\n",
              "       'http://blog.naver.com/dhrtnr0810/221469166200',\n",
              "       'http://blog.naver.com/ssang1850/221468943729',\n",
              "       'http://blog.naver.com/patent21/221466047080',\n",
              "       'http://blog.naver.com/yangkkuma/221459640793',\n",
              "       'http://blog.naver.com/taewonone1/221500731977',\n",
              "       'http://blog.naver.com/hanse7101/221498025490',\n",
              "       'http://blog.naver.com/tot0622/221497753583',\n",
              "       'http://blog.naver.com/hyunjwing/221495120454',\n",
              "       'http://blog.naver.com/gjtjsdudgh/221493272510',\n",
              "       'http://blog.naver.com/dwtown2002/221478638793',\n",
              "       'http://blog.naver.com/laurannie02/221477696334',\n",
              "       'http://blog.naver.com/s777four/221523980928',\n",
              "       'http://blog.naver.com/75cm/221521007000',\n",
              "       'http://blog.naver.com/imja4853/221520148517',\n",
              "       'http://blog.naver.com/s38576/221517240266',\n",
              "       'http://blog.naver.com/revan0525/221513690285',\n",
              "       'http://blog.naver.com/potato_oven/221512777125',\n",
              "       'http://blog.naver.com/naksechs/221509539268',\n",
              "       'http://blog.naver.com/sgt0724/221508855313',\n",
              "       'http://blog.naver.com/taewonone1/221508772732',\n",
              "       'http://blog.naver.com/wuga486/221505654114',\n",
              "       'http://blog.naver.com/naksechs/221505403182',\n",
              "       'http://blog.naver.com/garamch/221504534432',\n",
              "       'http://blog.naver.com/kopk5393/221503127213',\n",
              "       'http://blog.naver.com/hanse7101/221550012677',\n",
              "       'http://blog.naver.com/k2m_pro/221549649759',\n",
              "       'http://blog.naver.com/ssedps77/221548678611',\n",
              "       'http://blog.naver.com/aa6753/221546980775',\n",
              "       'http://blog.naver.com/naksechs/221546277211',\n",
              "       'http://blog.naver.com/yth4021/221545945956',\n",
              "       'http://blog.naver.com/psz1021/221545300117',\n",
              "       'http://blog.naver.com/baereerah88/221541853089',\n",
              "       'http://blog.naver.com/taewonone1/221540694086',\n",
              "       'http://blog.naver.com/hugmegently/221539227272',\n",
              "       'http://blog.naver.com/yujeank/221537208706',\n",
              "       'http://blog.naver.com/kimjimin3465/221569989080',\n",
              "       'http://blog.naver.com/juntryagain/221568745077',\n",
              "       'http://blog.naver.com/juntryagain/221567855328',\n",
              "       'http://blog.naver.com/seunju83/221564202035',\n",
              "       'http://blog.naver.com/yeonjw1128/221559957914',\n",
              "       'http://blog.naver.com/gnwl78/221559644134',\n",
              "       'http://blog.naver.com/ttykins/221556791360',\n",
              "       'http://blog.naver.com/l2012/221591494540',\n",
              "       'http://blog.naver.com/nalkhn/221589709346',\n",
              "       'http://blog.naver.com/realmong/221589219008',\n",
              "       'http://blog.naver.com/jayjay0102/221589076312',\n",
              "       'http://blog.naver.com/core3627/221585825355',\n",
              "       'http://blog.naver.com/core3627/221584480266',\n",
              "       'http://blog.naver.com/who025/221578397284',\n",
              "       'http://blog.naver.com/juntryagain/221577141045',\n",
              "       'http://blog.naver.com/thgus3812/221613297000',\n",
              "       'http://blog.naver.com/woolwon/221659174565',\n",
              "       'http://blog.naver.com/tnghk2918/221657382176',\n",
              "       'http://blog.naver.com/zemimonsta/221653985747',\n",
              "       'http://blog.naver.com/semisage/221653368574',\n",
              "       'http://blog.naver.com/gdaj8275/221649842455',\n",
              "       'http://blog.naver.com/veritas1129/221648381163',\n",
              "       'http://blog.naver.com/mylittlehome/221675270813',\n",
              "       'http://blog.naver.com/mjjuliet/221710882487',\n",
              "       'http://blog.naver.com/tmdwkddnjs56/221705579017',\n",
              "       'http://blog.naver.com/gksdlstlr741/221754963543',\n",
              "       'http://blog.naver.com/tnansdls/221753028934',\n",
              "       'http://blog.naver.com/kukboy/221791597149',\n",
              "       'http://blog.naver.com/makeit1119/221790091171',\n",
              "       'http://blog.naver.com/hello-1/221783112840',\n",
              "       'http://blog.naver.com/leekyunhyung/221781987057',\n",
              "       'http://blog.naver.com/soybean_oli/221777438181',\n",
              "       'http://blog.naver.com/m894/221759300697',\n",
              "       'http://blog.naver.com/dldk2323/221826549317',\n",
              "       'http://blog.naver.com/ynr813/221824705184',\n",
              "       'http://blog.naver.com/smcli/221779061991',\n",
              "       'http://blog.naver.com/gloryjinie/221817229601',\n",
              "       'http://blog.naver.com/purplaki/221798586466',\n",
              "       'http://blog.naver.com/ufnnzlrieq/221797800518',\n",
              "       'http://blog.naver.com/babarni/221793573300',\n",
              "       'http://blog.naver.com/whdcns4/221882437225',\n",
              "       'http://blog.naver.com/gloryjinie/221875925859',\n",
              "       'http://blog.naver.com/wlsdntjd123/221864399615',\n",
              "       'http://blog.naver.com/jenylife/221856979352',\n",
              "       'http://blog.naver.com/dlalsrud1122/221856976768',\n",
              "       'http://blog.naver.com/ftcompany/221840344283',\n",
              "       'http://blog.naver.com/simsan1215/221838738321',\n",
              "       'http://blog.naver.com/toanna55/221833206298',\n",
              "       'http://blog.naver.com/swan6420/221938162110',\n",
              "       'http://blog.naver.com/jiji375/221935866126',\n",
              "       'http://blog.naver.com/cpa_star/221923766358',\n",
              "       'http://blog.naver.com/pouy1264/221921144376',\n",
              "       'http://blog.naver.com/sjsjsj31/221897279577',\n",
              "       'http://blog.naver.com/jrmichin/221981875820',\n",
              "       'http://blog.naver.com/alswlgkxn520/221977310536',\n",
              "       'http://blog.naver.com/22unji/221961257091',\n",
              "       'http://blog.naver.com/bonnemaman/221946844233',\n",
              "       'http://blog.naver.com/kimnafla11/221945976836',\n",
              "       'http://blog.naver.com/rla90430/221943035977',\n",
              "       'http://blog.naver.com/rhinoch/222016452239',\n",
              "       'http://blog.naver.com/peastory/222015949023',\n",
              "       'http://blog.naver.com/anxiety_stat/222011428199',\n",
              "       'http://blog.naver.com/jwum117/222005052757',\n",
              "       'http://blog.naver.com/hidececil/222001669398',\n",
              "       'http://blog.naver.com/lov2je/222000658480',\n",
              "       'http://blog.naver.com/bijun0928/222000262322',\n",
              "       'http://blog.naver.com/jiji375/221994782902',\n",
              "       'http://blog.naver.com/hidececil/221990483016',\n",
              "       'http://blog.naver.com/kashinryu/222046365783',\n",
              "       'http://blog.naver.com/jeong9380/222034979828',\n",
              "       'http://blog.naver.com/surimx/222029536925',\n",
              "       'http://blog.naver.com/tjdwl1963/222022992424',\n",
              "       'http://blog.naver.com/dksels1234/222017590077',\n",
              "       'http://blog.naver.com/sun8420/222072248835',\n",
              "       'http://blog.naver.com/wooooleeee/222067461833',\n",
              "       'http://blog.naver.com/jeong9380/222067578693',\n",
              "       'http://blog.naver.com/woody2511/222054447733',\n",
              "       'http://blog.naver.com/joayo21/222050565844',\n",
              "       'http://blog.naver.com/bmjs1/222049066218',\n",
              "       'http://blog.naver.com/ohstay/222101802747',\n",
              "       'http://blog.naver.com/tom0215/222094420993',\n",
              "       'http://blog.naver.com/white_t2401/222089503242',\n",
              "       'http://blog.naver.com/sjynyt1223/222120514129',\n",
              "       'http://blog.naver.com/gmlrud7183/222116288718',\n",
              "       'http://blog.naver.com/yeonh1117/222104353087',\n",
              "       'http://blog.naver.com/jesper0311/222153847440',\n",
              "       'http://blog.naver.com/tysungly/222153322652',\n",
              "       'http://blog.naver.com/12763/222152217976',\n",
              "       'http://blog.naver.com/soonsoo_2/222149451379',\n",
              "       'http://blog.naver.com/uyhappy/222146442627',\n",
              "       'http://blog.naver.com/eunekim27/222139575827',\n",
              "       'http://blog.naver.com/key0190/222179231800',\n",
              "       'http://blog.naver.com/danbiiloveyou/222176775110',\n",
              "       'http://blog.naver.com/seyun10211/222173448559',\n",
              "       'http://blog.naver.com/omethyl/222171237156',\n",
              "       'http://blog.naver.com/krolp/222170886540',\n",
              "       'http://blog.naver.com/soriel0430/222169150476',\n",
              "       'http://blog.naver.com/soonsoo_2/222166863509',\n",
              "       'http://blog.naver.com/key0190/222159149383',\n",
              "       'http://blog.naver.com/life_1/222220756541',\n",
              "       'http://blog.naver.com/babukim89/222219560311',\n",
              "       'http://blog.naver.com/diaskn/222217332852',\n",
              "       'http://blog.naver.com/387077/222243445464',\n",
              "       'http://blog.naver.com/ashk/222241643208',\n",
              "       'http://blog.naver.com/pixelcrew/222237608913',\n",
              "       'http://blog.naver.com/wind0072345/222287600741',\n",
              "       'http://blog.naver.com/12763/222283774490',\n",
              "       'http://blog.naver.com/szszsssz/222279681786',\n",
              "       'http://blog.naver.com/kanasii79/222327353759',\n",
              "       'http://blog.naver.com/chominhee40/222326545965',\n",
              "       'http://blog.naver.com/midaskhan/222316311600',\n",
              "       'http://blog.naver.com/mini5290/222304012989',\n",
              "       'http://blog.naver.com/beauitywooa/222301546119',\n",
              "       'http://blog.naver.com/story031/222375270132',\n",
              "       'http://blog.naver.com/sn060929/222365206613',\n",
              "       'http://blog.naver.com/ssl4540/222358939735',\n",
              "       'http://blog.naver.com/ssl4540/222357984813',\n",
              "       'http://blog.naver.com/alongway02/222351940476',\n",
              "       'http://blog.naver.com/by_morirui/222341418370',\n",
              "       'http://blog.naver.com/rimmyjjang/222341536404',\n",
              "       'http://blog.naver.com/ysw31121/222414142953',\n",
              "       'http://blog.naver.com/ysw31121/222406256695',\n",
              "       'http://blog.naver.com/nazeulsan/222403191298',\n",
              "       'http://blog.naver.com/yooon37/222404687989',\n",
              "       'http://blog.naver.com/yooon37/222400632944',\n",
              "       'http://blog.naver.com/charry2085/222395807383',\n",
              "       'http://blog.naver.com/cco_o_/222388582990',\n",
              "       'http://blog.naver.com/lookforward1/222385547059',\n",
              "       'http://blog.naver.com/modunji1/222384911937',\n",
              "       'http://blog.naver.com/hans1997/222438953599',\n",
              "       'http://blog.naver.com/812812_/222436236984',\n",
              "       'http://blog.naver.com/sowhee430/222460031239',\n",
              "       'http://blog.naver.com/hswtk/222497794829',\n",
              "       'http://blog.naver.com/hj87000/222496886814',\n",
              "       'http://blog.naver.com/hellosnoopyx/222529811349',\n",
              "       'http://blog.naver.com/jiyoung_c/222525734967',\n",
              "       'http://blog.naver.com/p32959/222568795244',\n",
              "       'http://blog.naver.com/jangembin/222565866967',\n",
              "       'http://blog.naver.com/spes_999/222591873294',\n",
              "       'http://blog.naver.com/thdalswn3101/222633255954',\n",
              "       'http://blog.naver.com/vodka010101/222626081887',\n",
              "       'http://blog.naver.com/jiho0015/222615771157',\n",
              "       'http://blog.naver.com/kvg2002/222640612422',\n",
              "       'http://blog.naver.com/sunrisepharma/222688124103',\n",
              "       'http://blog.naver.com/004bom/222684813564',\n",
              "       'http://blog.naver.com/penomec/222683630771',\n",
              "       'http://blog.naver.com/ihope1982/222670397840', '인스타그램', '커뮤니티',\n",
              "       '트위터(RT 포함)'], dtype=object)"
            ]
          },
          "metadata": {},
          "execution_count": 6
        }
      ]
    },
    {
      "cell_type": "code",
      "source": [
        "j = -1\n",
        "for i in aro['분류']:\n",
        "    j += 1\n",
        "    if 'http' in i:\n",
        "       aro.iloc[j,-3] = '블로그'\n",
        "    elif '트위터' in i:\n",
        "      aro.iloc[j, -3] = '트위터'\n",
        "   "
      ],
      "metadata": {
        "id": "52-zRETo9MSD"
      },
      "execution_count": null,
      "outputs": []
    },
    {
      "cell_type": "code",
      "source": [
        "aro.drop_duplicates(subset = ['제목'], inplace=True) # 중복 제거\n",
        "aro['제목'] = aro['제목'].str.replace(\"[^ㄱ-ㅎㅏ-ㅣ가-힣 ]\",\"\") # 정규 표현식 수행\n",
        "aro['제목'].replace('', np.nan, inplace=True) # 공백은 Null 값으로 변경"
      ],
      "metadata": {
        "colab": {
          "base_uri": "https://localhost:8080/"
        },
        "id": "OZKb33bwBr8F",
        "outputId": "8d176828-38bf-44a9-8e88-0cba82b614b3"
      },
      "execution_count": null,
      "outputs": [
        {
          "output_type": "stream",
          "name": "stderr",
          "text": [
            "/usr/local/lib/python3.7/dist-packages/ipykernel_launcher.py:2: FutureWarning: The default value of regex will change from True to False in a future version.\n",
            "  \n"
          ]
        }
      ]
    },
    {
      "cell_type": "code",
      "source": [
        "aro['분류'].unique()"
      ],
      "metadata": {
        "colab": {
          "base_uri": "https://localhost:8080/"
        },
        "id": "d16UPsFb9MaK",
        "outputId": "649ed207-26e7-4656-d459-01d25fffe3c2"
      },
      "execution_count": null,
      "outputs": [
        {
          "output_type": "execute_result",
          "data": {
            "text/plain": [
              "array(['기사', '블로그', '인스타그램', '커뮤니티', '트위터'], dtype=object)"
            ]
          },
          "metadata": {},
          "execution_count": 9
        }
      ]
    },
    {
      "cell_type": "code",
      "source": [
        "aro.info()"
      ],
      "metadata": {
        "colab": {
          "base_uri": "https://localhost:8080/"
        },
        "id": "A8ZUUGN69Mc8",
        "outputId": "ea611375-b503-4174-fa33-58a85a0a2b0c"
      },
      "execution_count": null,
      "outputs": [
        {
          "output_type": "stream",
          "name": "stdout",
          "text": [
            "<class 'pandas.core.frame.DataFrame'>\n",
            "Int64Index: 3843 entries, 0 to 4160\n",
            "Data columns (total 5 columns):\n",
            " #   Column  Non-Null Count  Dtype \n",
            "---  ------  --------------  ----- \n",
            " 0   날짜      3843 non-null   int64 \n",
            " 1   제목      3839 non-null   object\n",
            " 2   분류      3843 non-null   object\n",
            " 3   연도      3843 non-null   int64 \n",
            " 4   달       3843 non-null   int64 \n",
            "dtypes: int64(3), object(2)\n",
            "memory usage: 180.1+ KB\n"
          ]
        }
      ]
    },
    {
      "cell_type": "code",
      "source": [
        "aro['날짜']=aro['날짜'].astype(str)\n",
        "aro['연월']=aro['날짜'].apply(lambda x : x[:6])\n",
        "aro['날짜'] = pd.to_datetime(aro['날짜'], format='%Y%m%d')\n",
        "aro['달'] = aro['날짜'].dt.month\n",
        "aro['연도'] = aro['날짜'].dt.year\n"
      ],
      "metadata": {
        "id": "5wrHOOF69MfS"
      },
      "execution_count": null,
      "outputs": []
    },
    {
      "cell_type": "code",
      "source": [
        "aro.loc[(aro['분류'] == '기사') & (aro['연월'] ==  f'202202')]"
      ],
      "metadata": {
        "colab": {
          "base_uri": "https://localhost:8080/",
          "height": 49
        },
        "id": "WZ3k5ZhuDD4T",
        "outputId": "81e4a75d-3ba2-41b3-def4-d8e33dbb844e"
      },
      "execution_count": null,
      "outputs": [
        {
          "output_type": "execute_result",
          "data": {
            "text/plain": [
              "Empty DataFrame\n",
              "Columns: [날짜, 제목, 분류, 연도, 달, 연월]\n",
              "Index: []"
            ],
            "text/html": [
              "\n",
              "  <div id=\"df-46f10fb7-3215-4ce1-894c-8f8f49c30505\">\n",
              "    <div class=\"colab-df-container\">\n",
              "      <div>\n",
              "<style scoped>\n",
              "    .dataframe tbody tr th:only-of-type {\n",
              "        vertical-align: middle;\n",
              "    }\n",
              "\n",
              "    .dataframe tbody tr th {\n",
              "        vertical-align: top;\n",
              "    }\n",
              "\n",
              "    .dataframe thead th {\n",
              "        text-align: right;\n",
              "    }\n",
              "</style>\n",
              "<table border=\"1\" class=\"dataframe\">\n",
              "  <thead>\n",
              "    <tr style=\"text-align: right;\">\n",
              "      <th></th>\n",
              "      <th>날짜</th>\n",
              "      <th>제목</th>\n",
              "      <th>분류</th>\n",
              "      <th>연도</th>\n",
              "      <th>달</th>\n",
              "      <th>연월</th>\n",
              "    </tr>\n",
              "  </thead>\n",
              "  <tbody>\n",
              "  </tbody>\n",
              "</table>\n",
              "</div>\n",
              "      <button class=\"colab-df-convert\" onclick=\"convertToInteractive('df-46f10fb7-3215-4ce1-894c-8f8f49c30505')\"\n",
              "              title=\"Convert this dataframe to an interactive table.\"\n",
              "              style=\"display:none;\">\n",
              "        \n",
              "  <svg xmlns=\"http://www.w3.org/2000/svg\" height=\"24px\"viewBox=\"0 0 24 24\"\n",
              "       width=\"24px\">\n",
              "    <path d=\"M0 0h24v24H0V0z\" fill=\"none\"/>\n",
              "    <path d=\"M18.56 5.44l.94 2.06.94-2.06 2.06-.94-2.06-.94-.94-2.06-.94 2.06-2.06.94zm-11 1L8.5 8.5l.94-2.06 2.06-.94-2.06-.94L8.5 2.5l-.94 2.06-2.06.94zm10 10l.94 2.06.94-2.06 2.06-.94-2.06-.94-.94-2.06-.94 2.06-2.06.94z\"/><path d=\"M17.41 7.96l-1.37-1.37c-.4-.4-.92-.59-1.43-.59-.52 0-1.04.2-1.43.59L10.3 9.45l-7.72 7.72c-.78.78-.78 2.05 0 2.83L4 21.41c.39.39.9.59 1.41.59.51 0 1.02-.2 1.41-.59l7.78-7.78 2.81-2.81c.8-.78.8-2.07 0-2.86zM5.41 20L4 18.59l7.72-7.72 1.47 1.35L5.41 20z\"/>\n",
              "  </svg>\n",
              "      </button>\n",
              "      \n",
              "  <style>\n",
              "    .colab-df-container {\n",
              "      display:flex;\n",
              "      flex-wrap:wrap;\n",
              "      gap: 12px;\n",
              "    }\n",
              "\n",
              "    .colab-df-convert {\n",
              "      background-color: #E8F0FE;\n",
              "      border: none;\n",
              "      border-radius: 50%;\n",
              "      cursor: pointer;\n",
              "      display: none;\n",
              "      fill: #1967D2;\n",
              "      height: 32px;\n",
              "      padding: 0 0 0 0;\n",
              "      width: 32px;\n",
              "    }\n",
              "\n",
              "    .colab-df-convert:hover {\n",
              "      background-color: #E2EBFA;\n",
              "      box-shadow: 0px 1px 2px rgba(60, 64, 67, 0.3), 0px 1px 3px 1px rgba(60, 64, 67, 0.15);\n",
              "      fill: #174EA6;\n",
              "    }\n",
              "\n",
              "    [theme=dark] .colab-df-convert {\n",
              "      background-color: #3B4455;\n",
              "      fill: #D2E3FC;\n",
              "    }\n",
              "\n",
              "    [theme=dark] .colab-df-convert:hover {\n",
              "      background-color: #434B5C;\n",
              "      box-shadow: 0px 1px 3px 1px rgba(0, 0, 0, 0.15);\n",
              "      filter: drop-shadow(0px 1px 2px rgba(0, 0, 0, 0.3));\n",
              "      fill: #FFFFFF;\n",
              "    }\n",
              "  </style>\n",
              "\n",
              "      <script>\n",
              "        const buttonEl =\n",
              "          document.querySelector('#df-46f10fb7-3215-4ce1-894c-8f8f49c30505 button.colab-df-convert');\n",
              "        buttonEl.style.display =\n",
              "          google.colab.kernel.accessAllowed ? 'block' : 'none';\n",
              "\n",
              "        async function convertToInteractive(key) {\n",
              "          const element = document.querySelector('#df-46f10fb7-3215-4ce1-894c-8f8f49c30505');\n",
              "          const dataTable =\n",
              "            await google.colab.kernel.invokeFunction('convertToInteractive',\n",
              "                                                     [key], {});\n",
              "          if (!dataTable) return;\n",
              "\n",
              "          const docLinkHtml = 'Like what you see? Visit the ' +\n",
              "            '<a target=\"_blank\" href=https://colab.research.google.com/notebooks/data_table.ipynb>data table notebook</a>'\n",
              "            + ' to learn more about interactive tables.';\n",
              "          element.innerHTML = '';\n",
              "          dataTable['output_type'] = 'display_data';\n",
              "          await google.colab.output.renderOutput(dataTable, element);\n",
              "          const docLink = document.createElement('div');\n",
              "          docLink.innerHTML = docLinkHtml;\n",
              "          element.appendChild(docLink);\n",
              "        }\n",
              "      </script>\n",
              "    </div>\n",
              "  </div>\n",
              "  "
            ]
          },
          "metadata": {},
          "execution_count": 12
        }
      ]
    },
    {
      "cell_type": "code",
      "source": [
        "aro_pivot = aro.pivot_table(index = \"연월\", columns = \"분류\", values = '날짜')\n",
        "col = ['기사', '블로그', '인스타그램', '커뮤니티', '트위터']\n",
        "aro_pivot.columns = col\n",
        "aro_pivot.reset_index(inplace=True)\n",
        "aro_pivot.tail()"
      ],
      "metadata": {
        "colab": {
          "base_uri": "https://localhost:8080/",
          "height": 206
        },
        "id": "BrgGIbnsD30R",
        "outputId": "1e58d3ea-82d8-4ae2-b9d3-fa3e76a5250d"
      },
      "execution_count": null,
      "outputs": [
        {
          "output_type": "execute_result",
          "data": {
            "text/plain": [
              "        연월                  기사                 블로그  \\\n",
              "34  202111 2021-11-11 00:00:00 2021-11-13 12:00:00   \n",
              "35  202112 2021-12-19 16:00:00 2021-12-24 00:00:00   \n",
              "36  202201 2022-01-07 12:00:00 2022-01-17 16:00:00   \n",
              "37  202202                 NaT 2022-02-06 00:00:00   \n",
              "38  202203 2022-03-28 00:00:00 2022-03-24 06:00:00   \n",
              "\n",
              "                           인스타그램                          커뮤니티  \\\n",
              "34 2021-11-16 03:00:00.000000000 2021-11-19 18:46:57.391304448   \n",
              "35 2021-12-14 10:17:08.571428608 2021-12-16 22:35:17.647058944   \n",
              "36 2022-01-21 08:00:00.000000000 2022-01-16 22:30:00.000000000   \n",
              "37 2022-02-17 13:42:51.428571392 2022-02-16 14:00:00.000000000   \n",
              "38 2022-03-19 12:00:00.000000000 2022-03-12 22:51:25.714285824   \n",
              "\n",
              "                             트위터  \n",
              "34 2021-11-12 10:17:08.571428608  \n",
              "35 2021-12-15 09:13:50.769230848  \n",
              "36 2022-01-12 01:30:00.000000000  \n",
              "37 2022-02-17 08:43:38.181818112  \n",
              "38 2022-03-20 09:52:56.470588160  "
            ],
            "text/html": [
              "\n",
              "  <div id=\"df-a19a3c29-8dfc-49c0-a241-342093bc2a4a\">\n",
              "    <div class=\"colab-df-container\">\n",
              "      <div>\n",
              "<style scoped>\n",
              "    .dataframe tbody tr th:only-of-type {\n",
              "        vertical-align: middle;\n",
              "    }\n",
              "\n",
              "    .dataframe tbody tr th {\n",
              "        vertical-align: top;\n",
              "    }\n",
              "\n",
              "    .dataframe thead th {\n",
              "        text-align: right;\n",
              "    }\n",
              "</style>\n",
              "<table border=\"1\" class=\"dataframe\">\n",
              "  <thead>\n",
              "    <tr style=\"text-align: right;\">\n",
              "      <th></th>\n",
              "      <th>연월</th>\n",
              "      <th>기사</th>\n",
              "      <th>블로그</th>\n",
              "      <th>인스타그램</th>\n",
              "      <th>커뮤니티</th>\n",
              "      <th>트위터</th>\n",
              "    </tr>\n",
              "  </thead>\n",
              "  <tbody>\n",
              "    <tr>\n",
              "      <th>34</th>\n",
              "      <td>202111</td>\n",
              "      <td>2021-11-11 00:00:00</td>\n",
              "      <td>2021-11-13 12:00:00</td>\n",
              "      <td>2021-11-16 03:00:00.000000000</td>\n",
              "      <td>2021-11-19 18:46:57.391304448</td>\n",
              "      <td>2021-11-12 10:17:08.571428608</td>\n",
              "    </tr>\n",
              "    <tr>\n",
              "      <th>35</th>\n",
              "      <td>202112</td>\n",
              "      <td>2021-12-19 16:00:00</td>\n",
              "      <td>2021-12-24 00:00:00</td>\n",
              "      <td>2021-12-14 10:17:08.571428608</td>\n",
              "      <td>2021-12-16 22:35:17.647058944</td>\n",
              "      <td>2021-12-15 09:13:50.769230848</td>\n",
              "    </tr>\n",
              "    <tr>\n",
              "      <th>36</th>\n",
              "      <td>202201</td>\n",
              "      <td>2022-01-07 12:00:00</td>\n",
              "      <td>2022-01-17 16:00:00</td>\n",
              "      <td>2022-01-21 08:00:00.000000000</td>\n",
              "      <td>2022-01-16 22:30:00.000000000</td>\n",
              "      <td>2022-01-12 01:30:00.000000000</td>\n",
              "    </tr>\n",
              "    <tr>\n",
              "      <th>37</th>\n",
              "      <td>202202</td>\n",
              "      <td>NaT</td>\n",
              "      <td>2022-02-06 00:00:00</td>\n",
              "      <td>2022-02-17 13:42:51.428571392</td>\n",
              "      <td>2022-02-16 14:00:00.000000000</td>\n",
              "      <td>2022-02-17 08:43:38.181818112</td>\n",
              "    </tr>\n",
              "    <tr>\n",
              "      <th>38</th>\n",
              "      <td>202203</td>\n",
              "      <td>2022-03-28 00:00:00</td>\n",
              "      <td>2022-03-24 06:00:00</td>\n",
              "      <td>2022-03-19 12:00:00.000000000</td>\n",
              "      <td>2022-03-12 22:51:25.714285824</td>\n",
              "      <td>2022-03-20 09:52:56.470588160</td>\n",
              "    </tr>\n",
              "  </tbody>\n",
              "</table>\n",
              "</div>\n",
              "      <button class=\"colab-df-convert\" onclick=\"convertToInteractive('df-a19a3c29-8dfc-49c0-a241-342093bc2a4a')\"\n",
              "              title=\"Convert this dataframe to an interactive table.\"\n",
              "              style=\"display:none;\">\n",
              "        \n",
              "  <svg xmlns=\"http://www.w3.org/2000/svg\" height=\"24px\"viewBox=\"0 0 24 24\"\n",
              "       width=\"24px\">\n",
              "    <path d=\"M0 0h24v24H0V0z\" fill=\"none\"/>\n",
              "    <path d=\"M18.56 5.44l.94 2.06.94-2.06 2.06-.94-2.06-.94-.94-2.06-.94 2.06-2.06.94zm-11 1L8.5 8.5l.94-2.06 2.06-.94-2.06-.94L8.5 2.5l-.94 2.06-2.06.94zm10 10l.94 2.06.94-2.06 2.06-.94-2.06-.94-.94-2.06-.94 2.06-2.06.94z\"/><path d=\"M17.41 7.96l-1.37-1.37c-.4-.4-.92-.59-1.43-.59-.52 0-1.04.2-1.43.59L10.3 9.45l-7.72 7.72c-.78.78-.78 2.05 0 2.83L4 21.41c.39.39.9.59 1.41.59.51 0 1.02-.2 1.41-.59l7.78-7.78 2.81-2.81c.8-.78.8-2.07 0-2.86zM5.41 20L4 18.59l7.72-7.72 1.47 1.35L5.41 20z\"/>\n",
              "  </svg>\n",
              "      </button>\n",
              "      \n",
              "  <style>\n",
              "    .colab-df-container {\n",
              "      display:flex;\n",
              "      flex-wrap:wrap;\n",
              "      gap: 12px;\n",
              "    }\n",
              "\n",
              "    .colab-df-convert {\n",
              "      background-color: #E8F0FE;\n",
              "      border: none;\n",
              "      border-radius: 50%;\n",
              "      cursor: pointer;\n",
              "      display: none;\n",
              "      fill: #1967D2;\n",
              "      height: 32px;\n",
              "      padding: 0 0 0 0;\n",
              "      width: 32px;\n",
              "    }\n",
              "\n",
              "    .colab-df-convert:hover {\n",
              "      background-color: #E2EBFA;\n",
              "      box-shadow: 0px 1px 2px rgba(60, 64, 67, 0.3), 0px 1px 3px 1px rgba(60, 64, 67, 0.15);\n",
              "      fill: #174EA6;\n",
              "    }\n",
              "\n",
              "    [theme=dark] .colab-df-convert {\n",
              "      background-color: #3B4455;\n",
              "      fill: #D2E3FC;\n",
              "    }\n",
              "\n",
              "    [theme=dark] .colab-df-convert:hover {\n",
              "      background-color: #434B5C;\n",
              "      box-shadow: 0px 1px 3px 1px rgba(0, 0, 0, 0.15);\n",
              "      filter: drop-shadow(0px 1px 2px rgba(0, 0, 0, 0.3));\n",
              "      fill: #FFFFFF;\n",
              "    }\n",
              "  </style>\n",
              "\n",
              "      <script>\n",
              "        const buttonEl =\n",
              "          document.querySelector('#df-a19a3c29-8dfc-49c0-a241-342093bc2a4a button.colab-df-convert');\n",
              "        buttonEl.style.display =\n",
              "          google.colab.kernel.accessAllowed ? 'block' : 'none';\n",
              "\n",
              "        async function convertToInteractive(key) {\n",
              "          const element = document.querySelector('#df-a19a3c29-8dfc-49c0-a241-342093bc2a4a');\n",
              "          const dataTable =\n",
              "            await google.colab.kernel.invokeFunction('convertToInteractive',\n",
              "                                                     [key], {});\n",
              "          if (!dataTable) return;\n",
              "\n",
              "          const docLinkHtml = 'Like what you see? Visit the ' +\n",
              "            '<a target=\"_blank\" href=https://colab.research.google.com/notebooks/data_table.ipynb>data table notebook</a>'\n",
              "            + ' to learn more about interactive tables.';\n",
              "          element.innerHTML = '';\n",
              "          dataTable['output_type'] = 'display_data';\n",
              "          await google.colab.output.renderOutput(dataTable, element);\n",
              "          const docLink = document.createElement('div');\n",
              "          docLink.innerHTML = docLinkHtml;\n",
              "          element.appendChild(docLink);\n",
              "        }\n",
              "      </script>\n",
              "    </div>\n",
              "  </div>\n",
              "  "
            ]
          },
          "metadata": {},
          "execution_count": 13
        }
      ]
    },
    {
      "cell_type": "code",
      "source": [
        "len(aro.loc[(aro['분류'] == '기사') & (aro['연월'] ==  f'201901')])"
      ],
      "metadata": {
        "id": "czQy-nNp215l",
        "outputId": "fc66275d-7875-4674-b8f3-acf9b491e817",
        "colab": {
          "base_uri": "https://localhost:8080/"
        }
      },
      "execution_count": null,
      "outputs": [
        {
          "output_type": "execute_result",
          "data": {
            "text/plain": [
              "3"
            ]
          },
          "metadata": {},
          "execution_count": 26
        }
      ]
    },
    {
      "cell_type": "code",
      "source": [
        "news_monthly_total = []\n",
        "instagram_monthly_total = []\n",
        "community_monthly_total = []\n",
        "blog_monthly_total = []\n",
        "twitter_monthly_total = []\n",
        "number_lst = ['01','02','03','04','05','06','07','08','09','10','11','12']\n",
        "for i in range(19, 23):\n",
        "  for j in number_lst:\n",
        "    news = len(aro.loc[(aro['분류'] == '기사') & (aro['연월'] ==  f'20{i}{j}')])\n",
        "    news_monthly_total.append(news)\n",
        "    instagram = len(aro.loc[(aro['분류'] == '인스타그램') & (aro['연월'] ==  f'20{i}{j}')])\n",
        "    instagram_monthly_total.append(instagram)\n",
        "    twitter = len(aro.loc[(aro['분류'] == '트위터') & (aro['연월'] ==  f'20{i}{j}')])\n",
        "    twitter_monthly_total.append(twitter)\n",
        "    blog = len(aro.loc[(aro['분류'] == '블로그') & (aro['연월'] ==  f'20{i}{j}')])\n",
        "    blog_monthly_total.append(blog)\n",
        "    community = len(aro.loc[(aro['분류'] == '커뮤니티') & (aro['연월'] ==  f'20{i}{j}')])\n",
        "    community_monthly_total.append(community)\n"
      ],
      "metadata": {
        "id": "lorCeY_aRtTe"
      },
      "execution_count": null,
      "outputs": []
    },
    {
      "cell_type": "code",
      "source": [
        "news_monthly_total = news_monthly_total[:-9]\n",
        "instagram_monthly_total = instagram_monthly_total[:-9]\n",
        "community_monthly_total = community_monthly_total[:-9]\n",
        "blog_monthly_total =  blog_monthly_total[:-9]\n",
        "twitter_monthly_total = twitter_monthly_total[:-9]"
      ],
      "metadata": {
        "id": "xq-eckZocVN-"
      },
      "execution_count": null,
      "outputs": []
    },
    {
      "cell_type": "code",
      "source": [
        "!apt-get update -qq\n",
        "!apt-get install fonts-nanum* -qq"
      ],
      "metadata": {
        "id": "JEg4j6VTZ893",
        "colab": {
          "base_uri": "https://localhost:8080/"
        },
        "outputId": "8fd8b55e-f300-46fe-c5fe-fc1f16ac911b"
      },
      "execution_count": null,
      "outputs": [
        {
          "output_type": "stream",
          "name": "stdout",
          "text": [
            "E: Failed to fetch https://developer.download.nvidia.com/compute/cuda/repos/ubuntu1804/x86_64/Packages.gz  File has unexpected size (815853 != 814314). Mirror sync in progress? [IP: 152.199.39.144 443]\n",
            "   Hashes of expected file:\n",
            "    - Filesize:814314 [weak]\n",
            "    - SHA256:257071ac3a46f8e8ba340c2bd6b88466ff26e4cb0c4b60afacfb267b251dc2d9\n",
            "    - SHA1:4b2ecd5529c611f17784b07ed4cb2b13d5d4bd25 [weak]\n",
            "    - MD5Sum:0355ef69bc6b6afaf8493d82295c3633 [weak]\n",
            "   Release file created at: Mon, 11 Jul 2022 19:02:21 +0000\n",
            "E: Some index files failed to download. They have been ignored, or old ones used instead.\n"
          ]
        }
      ]
    },
    {
      "cell_type": "code",
      "source": [
        "# 일단 import \n",
        "%matplotlib inline  \n",
        "\n",
        "import matplotlib as mpl  # 기본 설정 만지는 용도\n",
        "import matplotlib.pyplot as plt  # 그래프 그리는 용도\n",
        "import matplotlib.font_manager as fm  # 폰트 관련 용도\n",
        "\n",
        "\n",
        "sys_font=fm.findSystemFonts()\n",
        "print(f\"sys_font number: {len(sys_font)}\")\n",
        "print(sys_font)\n",
        "\n",
        "nanum_font = [f for f in sys_font if 'Nanum' in f]\n",
        "print(f\"nanum_font number: {len(nanum_font)}\")\n",
        "\n",
        "path = '/usr/share/fonts/truetype/nanum/NanumGothicEco.ttf'  # 설치된 나눔글꼴중 원하는 녀석의 전체 경로를 가져오자\n",
        "font_name = fm.FontProperties(fname=path, size=10).get_name()\n",
        "print(font_name)\n",
        "plt.rc('font', family=font_name)"
      ],
      "metadata": {
        "colab": {
          "base_uri": "https://localhost:8080/"
        },
        "id": "0jvJg5pyZs0Y",
        "outputId": "2f55b3c5-24bb-4a67-8d14-65d486113334"
      },
      "execution_count": null,
      "outputs": [
        {
          "output_type": "stream",
          "name": "stdout",
          "text": [
            "sys_font number: 48\n",
            "['/usr/share/fonts/truetype/nanum/NanumGothicExtraBold.ttf', '/usr/share/fonts/truetype/nanum/NanumMyeongjo.ttf', '/usr/share/fonts/truetype/nanum/NanumGothicEcoExtraBold.ttf', '/usr/share/fonts/truetype/liberation/LiberationSerif-Italic.ttf', '/usr/share/fonts/truetype/nanum/NanumSquareRoundEB.ttf', '/usr/share/fonts/truetype/liberation/LiberationSerif-Bold.ttf', '/usr/share/fonts/truetype/liberation/LiberationSans-Bold.ttf', '/usr/share/fonts/truetype/liberation/LiberationMono-Bold.ttf', '/usr/share/fonts/truetype/nanum/NanumMyeongjoExtraBold.ttf', '/usr/share/fonts/truetype/liberation/LiberationSerif-BoldItalic.ttf', '/usr/share/fonts/truetype/nanum/NanumBrush.ttf', '/usr/share/fonts/truetype/nanum/NanumMyeongjoEco.ttf', '/usr/share/fonts/truetype/nanum/NanumBarunGothicBold.ttf', '/usr/share/fonts/truetype/liberation/LiberationMono-Regular.ttf', '/usr/share/fonts/truetype/nanum/NanumGothicEcoBold.ttf', '/usr/share/fonts/truetype/liberation/LiberationMono-Italic.ttf', '/usr/share/fonts/truetype/nanum/NanumSquareB.ttf', '/usr/share/fonts/truetype/liberation/LiberationSansNarrow-BoldItalic.ttf', '/usr/share/fonts/truetype/nanum/NanumBarunpenR.ttf', '/usr/share/fonts/truetype/nanum/NanumSquareR.ttf', '/usr/share/fonts/truetype/nanum/NanumMyeongjoEcoBold.ttf', '/usr/share/fonts/truetype/nanum/NanumSquareRoundR.ttf', '/usr/share/fonts/truetype/nanum/NanumSquareEB.ttf', '/usr/share/fonts/truetype/liberation/LiberationSans-BoldItalic.ttf', '/usr/share/fonts/truetype/nanum/NanumGothicCoding.ttf', '/usr/share/fonts/truetype/nanum/NanumGothic.ttf', '/usr/share/fonts/truetype/liberation/LiberationSerif-Regular.ttf', '/usr/share/fonts/truetype/nanum/NanumGothicLight.ttf', '/usr/share/fonts/truetype/liberation/LiberationSansNarrow-Regular.ttf', '/usr/share/fonts/truetype/nanum/NanumGothicBold.ttf', '/usr/share/fonts/truetype/nanum/NanumBarunGothicUltraLight.ttf', '/usr/share/fonts/truetype/nanum/NanumGothicCoding-Bold.ttf', '/usr/share/fonts/truetype/liberation/LiberationSans-Italic.ttf', '/usr/share/fonts/truetype/nanum/NanumBarunpenB.ttf', '/usr/share/fonts/truetype/nanum/NanumBarunGothic.ttf', '/usr/share/fonts/truetype/nanum/NanumBarunGothicLight.ttf', '/usr/share/fonts/truetype/nanum/NanumGothicEco.ttf', '/usr/share/fonts/truetype/humor-sans/Humor-Sans.ttf', '/usr/share/fonts/truetype/liberation/LiberationSans-Regular.ttf', '/usr/share/fonts/truetype/liberation/LiberationSansNarrow-Italic.ttf', '/usr/share/fonts/truetype/nanum/NanumSquareRoundB.ttf', '/usr/share/fonts/truetype/liberation/LiberationSansNarrow-Bold.ttf', '/usr/share/fonts/truetype/nanum/NanumSquareL.ttf', '/usr/share/fonts/truetype/nanum/NanumSquareRoundL.ttf', '/usr/share/fonts/truetype/nanum/NanumPen.ttf', '/usr/share/fonts/truetype/nanum/NanumMyeongjoEcoExtraBold.ttf', '/usr/share/fonts/truetype/nanum/NanumMyeongjoBold.ttf', '/usr/share/fonts/truetype/liberation/LiberationMono-BoldItalic.ttf']\n",
            "nanum_font number: 31\n",
            "NanumGothic Eco\n"
          ]
        }
      ]
    },
    {
      "cell_type": "code",
      "source": [
        "aro_pivot.info()\n",
        "aro_pivot['']"
      ],
      "metadata": {
        "colab": {
          "base_uri": "https://localhost:8080/"
        },
        "id": "O34L_IRY1qTh",
        "outputId": "721c056b-d696-4166-e0cc-426a75737bfd"
      },
      "execution_count": null,
      "outputs": [
        {
          "output_type": "stream",
          "name": "stdout",
          "text": [
            "<class 'pandas.core.frame.DataFrame'>\n",
            "RangeIndex: 39 entries, 0 to 38\n",
            "Data columns (total 6 columns):\n",
            " #   Column  Non-Null Count  Dtype         \n",
            "---  ------  --------------  -----         \n",
            " 0   연월      39 non-null     object        \n",
            " 1   기사      27 non-null     datetime64[ns]\n",
            " 2   블로그     39 non-null     datetime64[ns]\n",
            " 3   인스타그램   39 non-null     datetime64[ns]\n",
            " 4   커뮤니티    39 non-null     datetime64[ns]\n",
            " 5   트위터     39 non-null     datetime64[ns]\n",
            "dtypes: datetime64[ns](5), object(1)\n",
            "memory usage: 2.0+ KB\n"
          ]
        }
      ]
    },
    {
      "cell_type": "code",
      "source": [
        "import matplotlib.pyplot as plt\n",
        "\n",
        "plt.rc('font', family='NanumBarunGothic') \n",
        "\n",
        "\n",
        "plt.figure(figsize=(36, 12))\n",
        "plt.plot_date(aro_pivot['연월'], news_monthly_total, label=\"News\")\n",
        "plt.plot_date(aro_pivot['연월'], blog_monthly_total, label=\"Blog\")\n",
        "plt.plot_date(aro_pivot['연월'], instagram_monthly_total, label=\"Instagram\")\n",
        "plt.plot_date(aro_pivot['연월'], community_monthly_total, label=\"Community\")\n",
        "plt.plot_date(aro_pivot['연월'], twitter_monthly_total, label=\"twitter\")\n",
        "\n",
        "\n",
        "#plt.grid(True)\n",
        "plt.legend(loc=3) # 범례 \n",
        "plt.title(\"아로나민골드 채널별 VOC언급량 추세 \")\n",
        "plt.xlabel(\"Date\")\n",
        "plt.ylabel(\"Channels\") \n",
        "plt.show()"
      ],
      "metadata": {
        "colab": {
          "base_uri": "https://localhost:8080/",
          "height": 457
        },
        "id": "q0Sdb4vPF8mn",
        "outputId": "db151d2c-45ed-4ddc-ec92-f410cb23360a"
      },
      "execution_count": null,
      "outputs": [
        {
          "output_type": "display_data",
          "data": {
            "text/plain": [
              "<Figure size 2592x864 with 1 Axes>"
            ],
            "image/png": "[encoded data removed]"
          },
          "metadata": {
            "needs_background": "light"
          }
        }
      ]
    },
    {
      "cell_type": "code",
      "source": [
        "aro1 = aro.groupby('분류')['연월'].count().to_frame()\n",
        "aro1\n",
        "labels = aro['분류'].unique()\n",
        "labels"
      ],
      "metadata": {
        "colab": {
          "base_uri": "https://localhost:8080/"
        },
        "id": "iciSRilQWQ5h",
        "outputId": "31b0ab8a-5e93-4cd0-bdac-dfd67cc5edc4"
      },
      "execution_count": null,
      "outputs": [
        {
          "output_type": "execute_result",
          "data": {
            "text/plain": [
              "array(['기사', '블로그', '인스타그램', '커뮤니티', '트위터'], dtype=object)"
            ]
          },
          "metadata": {},
          "execution_count": 19
        }
      ]
    },
    {
      "cell_type": "code",
      "source": [
        "fm._rebuild()\n",
        "fig, ax = plt.subplots(figsize=(20, 20), subplot_kw=dict(aspect=\"equal\"))\n",
        "plt.pie(aro1, startangle=90, autopct='%.2f%%')\n",
        "plt.title('total number between 2019 and 2022 by channels')\n",
        "plt.legend(labels, loc='upper right', bbox_to_anchor = (1.3, 0.9), fontsize=15) # location legend\n",
        "plt.rc('font', family=font_name)\n",
        "plt.show()"
      ],
      "metadata": {
        "colab": {
          "base_uri": "https://localhost:8080/",
          "height": 1000
        },
        "id": "O0Wv7nvKZRKE",
        "outputId": "d5f2a99d-8be5-4017-b5b2-b1625fae509e"
      },
      "execution_count": null,
      "outputs": [
        {
          "output_type": "stream",
          "name": "stderr",
          "text": [
            "/usr/local/lib/python3.7/dist-packages/ipykernel_launcher.py:3: MatplotlibDeprecationWarning: Non-1D inputs to pie() are currently squeeze()d, but this behavior is deprecated since 3.1 and will be removed in 3.3; pass a 1D array instead.\n",
            "  This is separate from the ipykernel package so we can avoid doing imports until\n"
          ]
        },
        {
          "output_type": "display_data",
          "data": {
            "text/plain": [
              "<Figure size 1440x1440 with 1 Axes>"
            ],
            "image/png": "[encoded data removed]"
          },
          "metadata": {}
        }
      ]
    },
    {
      "cell_type": "code",
      "source": [
        ""
      ],
      "metadata": {
        "id": "Bf3jvf4Q9JOY"
      },
      "execution_count": null,
      "outputs": []
    }
  ]
}