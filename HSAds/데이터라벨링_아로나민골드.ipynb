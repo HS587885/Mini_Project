{
  "nbformat": 4,
  "nbformat_minor": 0,
  "metadata": {
    "colab": {
      "name": "데이터라벨링_아로나민골드.ipynb",
      "provenance": [],
      "collapsed_sections": [],
      "authorship_tag": "ABX9TyPSfwmRsSPdmF7CDo/49HJk",
      "include_colab_link": true
    },
    "kernelspec": {
      "name": "python3",
      "display_name": "Python 3"
    },
    "language_info": {
      "name": "python"
    }
  },
  "cells": [
    {
      "cell_type": "markdown",
      "metadata": {
        "id": "view-in-github",
        "colab_type": "text"
      },
      "source": [
        "<a href=\"https://colab.research.google.com/github/HS587885/Mini_Project/blob/main/%EB%8D%B0%EC%9D%B4%ED%84%B0%EB%9D%BC%EB%B2%A8%EB%A7%81_%EC%95%84%EB%A1%9C%EB%82%98%EB%AF%BC%EA%B3%A8%EB%93%9C.ipynb\" target=\"_parent\"><img src=\"https://colab.research.google.com/assets/colab-badge.svg\" alt=\"Open In Colab\"/></a>"
      ]
    },
    {
      "cell_type": "code",
      "execution_count": null,
      "metadata": {
        "id": "C8ZEzx3N9HDg"
      },
      "outputs": [],
      "source": [
        "import pandas as pd \n",
        "import numpy as np\n",
        "import re"
      ]
    },
    {
      "cell_type": "code",
      "source": [
        "aronamin = pd.read_excel('/content/아로나민골드 유 레이블.xlsx')\n",
        "aronamin"
      ],
      "metadata": {
        "colab": {
          "base_uri": "https://localhost:8080/",
          "height": 424
        },
        "id": "BBaj0FFt9RHj",
        "outputId": "763b7581-d077-4b0a-b391-f2ba50582354"
      },
      "execution_count": null,
      "outputs": [
        {
          "output_type": "execute_result",
          "data": {
            "text/plain": [
              "     Unnamed: 0                                            comment  label\n",
              "0          1587  선물️ #깜짝선물 #감동100배 #광동제약 #아로나민골드 #똥지니#용지니##옴팡이 ...    1.0\n",
              "1          2204  나도 이제 먹어볼래 #피로회복제 #아로나민골드 #아로나민씨플러스 #느낌적인느낌 인지...    1.0\n",
              "2           772  여의도점 대청소날! . . . 깨끗한 환경을 위해 항상 쾌적하게 . . . @nnc...    3.0\n",
              "3          1732  동탄에서 강릉갔다가 아쉬워서 춘천와서 닭갈비,회,쟁반막국수,수육,옛날통닭먹고 컴백홈...    3.0\n",
              "4           387  * 아로나민 덕분에 난 지하철 사연녀가 되었ㄷr..... _ 조우진 배우와 함께하는...    3.0\n",
              "..          ...                                                ...    ...\n",
              "494          86                                       \\n본격 1일 차\\n     3.0\n",
              "495        1389  11월 12일부터 빠졌던 옷소매 붉은끝동..거의 2달 내내 책과 드라마에 빠져 지냈...    3.0\n",
              "496         123                                 \\n아로나민골드가격 알아보아요~~    1.0\n",
              "497        1334  ​현재 체중 : -1.3kg​영양제 : 아로나민골드, 센트룸, 아침 : 프렌치카페 ...    1.0\n",
              "498        1125  안녕하세요요리하는영이입니다.  오늘은 #베이컨마늘볶음밥준비해보았습니다.​너무나도 간...    3.0\n",
              "\n",
              "[499 rows x 3 columns]"
            ],
            "text/html": [
              "\n",
              "  <div id=\"df-25655ee5-1587-4eb1-a9e6-4739c8c9d635\">\n",
              "    <div class=\"colab-df-container\">\n",
              "      <div>\n",
              "<style scoped>\n",
              "    .dataframe tbody tr th:only-of-type {\n",
              "        vertical-align: middle;\n",
              "    }\n",
              "\n",
              "    .dataframe tbody tr th {\n",
              "        vertical-align: top;\n",
              "    }\n",
              "\n",
              "    .dataframe thead th {\n",
              "        text-align: right;\n",
              "    }\n",
              "</style>\n",
              "<table border=\"1\" class=\"dataframe\">\n",
              "  <thead>\n",
              "    <tr style=\"text-align: right;\">\n",
              "      <th></th>\n",
              "      <th>Unnamed: 0</th>\n",
              "      <th>comment</th>\n",
              "      <th>label</th>\n",
              "    </tr>\n",
              "  </thead>\n",
              "  <tbody>\n",
              "    <tr>\n",
              "      <th>0</th>\n",
              "      <td>1587</td>\n",
              "      <td>선물️ #깜짝선물 #감동100배 #광동제약 #아로나민골드 #똥지니#용지니##옴팡이 ...</td>\n",
              "      <td>1.0</td>\n",
              "    </tr>\n",
              "    <tr>\n",
              "      <th>1</th>\n",
              "      <td>2204</td>\n",
              "      <td>나도 이제 먹어볼래 #피로회복제 #아로나민골드 #아로나민씨플러스 #느낌적인느낌 인지...</td>\n",
              "      <td>1.0</td>\n",
              "    </tr>\n",
              "    <tr>\n",
              "      <th>2</th>\n",
              "      <td>772</td>\n",
              "      <td>여의도점 대청소날! . . . 깨끗한 환경을 위해 항상 쾌적하게 . . . @nnc...</td>\n",
              "      <td>3.0</td>\n",
              "    </tr>\n",
              "    <tr>\n",
              "      <th>3</th>\n",
              "      <td>1732</td>\n",
              "      <td>동탄에서 강릉갔다가 아쉬워서 춘천와서 닭갈비,회,쟁반막국수,수육,옛날통닭먹고 컴백홈...</td>\n",
              "      <td>3.0</td>\n",
              "    </tr>\n",
              "    <tr>\n",
              "      <th>4</th>\n",
              "      <td>387</td>\n",
              "      <td>* 아로나민 덕분에 난 지하철 사연녀가 되었ㄷr..... _ 조우진 배우와 함께하는...</td>\n",
              "      <td>3.0</td>\n",
              "    </tr>\n",
              "    <tr>\n",
              "      <th>...</th>\n",
              "      <td>...</td>\n",
              "      <td>...</td>\n",
              "      <td>...</td>\n",
              "    </tr>\n",
              "    <tr>\n",
              "      <th>494</th>\n",
              "      <td>86</td>\n",
              "      <td>\\n본격 1일 차\\n</td>\n",
              "      <td>3.0</td>\n",
              "    </tr>\n",
              "    <tr>\n",
              "      <th>495</th>\n",
              "      <td>1389</td>\n",
              "      <td>11월 12일부터 빠졌던 옷소매 붉은끝동..거의 2달 내내 책과 드라마에 빠져 지냈...</td>\n",
              "      <td>3.0</td>\n",
              "    </tr>\n",
              "    <tr>\n",
              "      <th>496</th>\n",
              "      <td>123</td>\n",
              "      <td>\\n아로나민골드가격 알아보아요~~</td>\n",
              "      <td>1.0</td>\n",
              "    </tr>\n",
              "    <tr>\n",
              "      <th>497</th>\n",
              "      <td>1334</td>\n",
              "      <td>​현재 체중 : -1.3kg​영양제 : 아로나민골드, 센트룸, 아침 : 프렌치카페 ...</td>\n",
              "      <td>1.0</td>\n",
              "    </tr>\n",
              "    <tr>\n",
              "      <th>498</th>\n",
              "      <td>1125</td>\n",
              "      <td>안녕하세요요리하는영이입니다.  오늘은 #베이컨마늘볶음밥준비해보았습니다.​너무나도 간...</td>\n",
              "      <td>3.0</td>\n",
              "    </tr>\n",
              "  </tbody>\n",
              "</table>\n",
              "<p>499 rows × 3 columns</p>\n",
              "</div>\n",
              "      <button class=\"colab-df-convert\" onclick=\"convertToInteractive('df-25655ee5-1587-4eb1-a9e6-4739c8c9d635')\"\n",
              "              title=\"Convert this dataframe to an interactive table.\"\n",
              "              style=\"display:none;\">\n",
              "        \n",
              "  <svg xmlns=\"http://www.w3.org/2000/svg\" height=\"24px\"viewBox=\"0 0 24 24\"\n",
              "       width=\"24px\">\n",
              "    <path d=\"M0 0h24v24H0V0z\" fill=\"none\"/>\n",
              "    <path d=\"M18.56 5.44l.94 2.06.94-2.06 2.06-.94-2.06-.94-.94-2.06-.94 2.06-2.06.94zm-11 1L8.5 8.5l.94-2.06 2.06-.94-2.06-.94L8.5 2.5l-.94 2.06-2.06.94zm10 10l.94 2.06.94-2.06 2.06-.94-2.06-.94-.94-2.06-.94 2.06-2.06.94z\"/><path d=\"M17.41 7.96l-1.37-1.37c-.4-.4-.92-.59-1.43-.59-.52 0-1.04.2-1.43.59L10.3 9.45l-7.72 7.72c-.78.78-.78 2.05 0 2.83L4 21.41c.39.39.9.59 1.41.59.51 0 1.02-.2 1.41-.59l7.78-7.78 2.81-2.81c.8-.78.8-2.07 0-2.86zM5.41 20L4 18.59l7.72-7.72 1.47 1.35L5.41 20z\"/>\n",
              "  </svg>\n",
              "      </button>\n",
              "      \n",
              "  <style>\n",
              "    .colab-df-container {\n",
              "      display:flex;\n",
              "      flex-wrap:wrap;\n",
              "      gap: 12px;\n",
              "    }\n",
              "\n",
              "    .colab-df-convert {\n",
              "      background-color: #E8F0FE;\n",
              "      border: none;\n",
              "      border-radius: 50%;\n",
              "      cursor: pointer;\n",
              "      display: none;\n",
              "      fill: #1967D2;\n",
              "      height: 32px;\n",
              "      padding: 0 0 0 0;\n",
              "      width: 32px;\n",
              "    }\n",
              "\n",
              "    .colab-df-convert:hover {\n",
              "      background-color: #E2EBFA;\n",
              "      box-shadow: 0px 1px 2px rgba(60, 64, 67, 0.3), 0px 1px 3px 1px rgba(60, 64, 67, 0.15);\n",
              "      fill: #174EA6;\n",
              "    }\n",
              "\n",
              "    [theme=dark] .colab-df-convert {\n",
              "      background-color: #3B4455;\n",
              "      fill: #D2E3FC;\n",
              "    }\n",
              "\n",
              "    [theme=dark] .colab-df-convert:hover {\n",
              "      background-color: #434B5C;\n",
              "      box-shadow: 0px 1px 3px 1px rgba(0, 0, 0, 0.15);\n",
              "      filter: drop-shadow(0px 1px 2px rgba(0, 0, 0, 0.3));\n",
              "      fill: #FFFFFF;\n",
              "    }\n",
              "  </style>\n",
              "\n",
              "      <script>\n",
              "        const buttonEl =\n",
              "          document.querySelector('#df-25655ee5-1587-4eb1-a9e6-4739c8c9d635 button.colab-df-convert');\n",
              "        buttonEl.style.display =\n",
              "          google.colab.kernel.accessAllowed ? 'block' : 'none';\n",
              "\n",
              "        async function convertToInteractive(key) {\n",
              "          const element = document.querySelector('#df-25655ee5-1587-4eb1-a9e6-4739c8c9d635');\n",
              "          const dataTable =\n",
              "            await google.colab.kernel.invokeFunction('convertToInteractive',\n",
              "                                                     [key], {});\n",
              "          if (!dataTable) return;\n",
              "\n",
              "          const docLinkHtml = 'Like what you see? Visit the ' +\n",
              "            '<a target=\"_blank\" href=https://colab.research.google.com/notebooks/data_table.ipynb>data table notebook</a>'\n",
              "            + ' to learn more about interactive tables.';\n",
              "          element.innerHTML = '';\n",
              "          dataTable['output_type'] = 'display_data';\n",
              "          await google.colab.output.renderOutput(dataTable, element);\n",
              "          const docLink = document.createElement('div');\n",
              "          docLink.innerHTML = docLinkHtml;\n",
              "          element.appendChild(docLink);\n",
              "        }\n",
              "      </script>\n",
              "    </div>\n",
              "  </div>\n",
              "  "
            ]
          },
          "metadata": {},
          "execution_count": 19
        }
      ]
    },
    {
      "cell_type": "code",
      "source": [
        "aronamin.info()"
      ],
      "metadata": {
        "colab": {
          "base_uri": "https://localhost:8080/"
        },
        "id": "IPDLAVNA-s64",
        "outputId": "a859c9f0-b4bf-450b-ad0e-1dd1fbed8e30"
      },
      "execution_count": null,
      "outputs": [
        {
          "output_type": "stream",
          "name": "stdout",
          "text": [
            "<class 'pandas.core.frame.DataFrame'>\n",
            "RangeIndex: 499 entries, 0 to 498\n",
            "Data columns (total 3 columns):\n",
            " #   Column      Non-Null Count  Dtype  \n",
            "---  ------      --------------  -----  \n",
            " 0   Unnamed: 0  499 non-null    int64  \n",
            " 1   comment     492 non-null    object \n",
            " 2   label       494 non-null    float64\n",
            "dtypes: float64(1), int64(1), object(1)\n",
            "memory usage: 11.8+ KB\n"
          ]
        }
      ]
    },
    {
      "cell_type": "code",
      "source": [
        "aronamin[\"label1\"]=np.random.randint(3)\n",
        "del aronamin['Unnamed: 0']\n",
        "aronamin.info()\n",
        "aronamin"
      ],
      "metadata": {
        "colab": {
          "base_uri": "https://localhost:8080/",
          "height": 605
        },
        "id": "VTs8KU1JBODy",
        "outputId": "53bff5d3-bdf5-44cd-ca31-90fcdc955974"
      },
      "execution_count": null,
      "outputs": [
        {
          "output_type": "stream",
          "name": "stdout",
          "text": [
            "<class 'pandas.core.frame.DataFrame'>\n",
            "RangeIndex: 499 entries, 0 to 498\n",
            "Data columns (total 3 columns):\n",
            " #   Column   Non-Null Count  Dtype  \n",
            "---  ------   --------------  -----  \n",
            " 0   comment  492 non-null    object \n",
            " 1   label    494 non-null    float64\n",
            " 2   label1   499 non-null    int64  \n",
            "dtypes: float64(1), int64(1), object(1)\n",
            "memory usage: 11.8+ KB\n"
          ]
        },
        {
          "output_type": "execute_result",
          "data": {
            "text/plain": [
              "                                               comment  label  label1\n",
              "0    선물️ #깜짝선물 #감동100배 #광동제약 #아로나민골드 #똥지니#용지니##옴팡이 ...    1.0       2\n",
              "1    나도 이제 먹어볼래 #피로회복제 #아로나민골드 #아로나민씨플러스 #느낌적인느낌 인지...    1.0       2\n",
              "2    여의도점 대청소날! . . . 깨끗한 환경을 위해 항상 쾌적하게 . . . @nnc...    3.0       2\n",
              "3    동탄에서 강릉갔다가 아쉬워서 춘천와서 닭갈비,회,쟁반막국수,수육,옛날통닭먹고 컴백홈...    3.0       2\n",
              "4    * 아로나민 덕분에 난 지하철 사연녀가 되었ㄷr..... _ 조우진 배우와 함께하는...    3.0       2\n",
              "..                                                 ...    ...     ...\n",
              "494                                       \\n본격 1일 차\\n     3.0       2\n",
              "495  11월 12일부터 빠졌던 옷소매 붉은끝동..거의 2달 내내 책과 드라마에 빠져 지냈...    3.0       2\n",
              "496                                 \\n아로나민골드가격 알아보아요~~    1.0       2\n",
              "497  ​현재 체중 : -1.3kg​영양제 : 아로나민골드, 센트룸, 아침 : 프렌치카페 ...    1.0       2\n",
              "498  안녕하세요요리하는영이입니다.  오늘은 #베이컨마늘볶음밥준비해보았습니다.​너무나도 간...    3.0       2\n",
              "\n",
              "[499 rows x 3 columns]"
            ],
            "text/html": [
              "\n",
              "  <div id=\"df-d326e5d7-8ccd-4a26-93d1-7a709b465ff0\">\n",
              "    <div class=\"colab-df-container\">\n",
              "      <div>\n",
              "<style scoped>\n",
              "    .dataframe tbody tr th:only-of-type {\n",
              "        vertical-align: middle;\n",
              "    }\n",
              "\n",
              "    .dataframe tbody tr th {\n",
              "        vertical-align: top;\n",
              "    }\n",
              "\n",
              "    .dataframe thead th {\n",
              "        text-align: right;\n",
              "    }\n",
              "</style>\n",
              "<table border=\"1\" class=\"dataframe\">\n",
              "  <thead>\n",
              "    <tr style=\"text-align: right;\">\n",
              "      <th></th>\n",
              "      <th>comment</th>\n",
              "      <th>label</th>\n",
              "      <th>label1</th>\n",
              "    </tr>\n",
              "  </thead>\n",
              "  <tbody>\n",
              "    <tr>\n",
              "      <th>0</th>\n",
              "      <td>선물️ #깜짝선물 #감동100배 #광동제약 #아로나민골드 #똥지니#용지니##옴팡이 ...</td>\n",
              "      <td>1.0</td>\n",
              "      <td>2</td>\n",
              "    </tr>\n",
              "    <tr>\n",
              "      <th>1</th>\n",
              "      <td>나도 이제 먹어볼래 #피로회복제 #아로나민골드 #아로나민씨플러스 #느낌적인느낌 인지...</td>\n",
              "      <td>1.0</td>\n",
              "      <td>2</td>\n",
              "    </tr>\n",
              "    <tr>\n",
              "      <th>2</th>\n",
              "      <td>여의도점 대청소날! . . . 깨끗한 환경을 위해 항상 쾌적하게 . . . @nnc...</td>\n",
              "      <td>3.0</td>\n",
              "      <td>2</td>\n",
              "    </tr>\n",
              "    <tr>\n",
              "      <th>3</th>\n",
              "      <td>동탄에서 강릉갔다가 아쉬워서 춘천와서 닭갈비,회,쟁반막국수,수육,옛날통닭먹고 컴백홈...</td>\n",
              "      <td>3.0</td>\n",
              "      <td>2</td>\n",
              "    </tr>\n",
              "    <tr>\n",
              "      <th>4</th>\n",
              "      <td>* 아로나민 덕분에 난 지하철 사연녀가 되었ㄷr..... _ 조우진 배우와 함께하는...</td>\n",
              "      <td>3.0</td>\n",
              "      <td>2</td>\n",
              "    </tr>\n",
              "    <tr>\n",
              "      <th>...</th>\n",
              "      <td>...</td>\n",
              "      <td>...</td>\n",
              "      <td>...</td>\n",
              "    </tr>\n",
              "    <tr>\n",
              "      <th>494</th>\n",
              "      <td>\\n본격 1일 차\\n</td>\n",
              "      <td>3.0</td>\n",
              "      <td>2</td>\n",
              "    </tr>\n",
              "    <tr>\n",
              "      <th>495</th>\n",
              "      <td>11월 12일부터 빠졌던 옷소매 붉은끝동..거의 2달 내내 책과 드라마에 빠져 지냈...</td>\n",
              "      <td>3.0</td>\n",
              "      <td>2</td>\n",
              "    </tr>\n",
              "    <tr>\n",
              "      <th>496</th>\n",
              "      <td>\\n아로나민골드가격 알아보아요~~</td>\n",
              "      <td>1.0</td>\n",
              "      <td>2</td>\n",
              "    </tr>\n",
              "    <tr>\n",
              "      <th>497</th>\n",
              "      <td>​현재 체중 : -1.3kg​영양제 : 아로나민골드, 센트룸, 아침 : 프렌치카페 ...</td>\n",
              "      <td>1.0</td>\n",
              "      <td>2</td>\n",
              "    </tr>\n",
              "    <tr>\n",
              "      <th>498</th>\n",
              "      <td>안녕하세요요리하는영이입니다.  오늘은 #베이컨마늘볶음밥준비해보았습니다.​너무나도 간...</td>\n",
              "      <td>3.0</td>\n",
              "      <td>2</td>\n",
              "    </tr>\n",
              "  </tbody>\n",
              "</table>\n",
              "<p>499 rows × 3 columns</p>\n",
              "</div>\n",
              "      <button class=\"colab-df-convert\" onclick=\"convertToInteractive('df-d326e5d7-8ccd-4a26-93d1-7a709b465ff0')\"\n",
              "              title=\"Convert this dataframe to an interactive table.\"\n",
              "              style=\"display:none;\">\n",
              "        \n",
              "  <svg xmlns=\"http://www.w3.org/2000/svg\" height=\"24px\"viewBox=\"0 0 24 24\"\n",
              "       width=\"24px\">\n",
              "    <path d=\"M0 0h24v24H0V0z\" fill=\"none\"/>\n",
              "    <path d=\"M18.56 5.44l.94 2.06.94-2.06 2.06-.94-2.06-.94-.94-2.06-.94 2.06-2.06.94zm-11 1L8.5 8.5l.94-2.06 2.06-.94-2.06-.94L8.5 2.5l-.94 2.06-2.06.94zm10 10l.94 2.06.94-2.06 2.06-.94-2.06-.94-.94-2.06-.94 2.06-2.06.94z\"/><path d=\"M17.41 7.96l-1.37-1.37c-.4-.4-.92-.59-1.43-.59-.52 0-1.04.2-1.43.59L10.3 9.45l-7.72 7.72c-.78.78-.78 2.05 0 2.83L4 21.41c.39.39.9.59 1.41.59.51 0 1.02-.2 1.41-.59l7.78-7.78 2.81-2.81c.8-.78.8-2.07 0-2.86zM5.41 20L4 18.59l7.72-7.72 1.47 1.35L5.41 20z\"/>\n",
              "  </svg>\n",
              "      </button>\n",
              "      \n",
              "  <style>\n",
              "    .colab-df-container {\n",
              "      display:flex;\n",
              "      flex-wrap:wrap;\n",
              "      gap: 12px;\n",
              "    }\n",
              "\n",
              "    .colab-df-convert {\n",
              "      background-color: #E8F0FE;\n",
              "      border: none;\n",
              "      border-radius: 50%;\n",
              "      cursor: pointer;\n",
              "      display: none;\n",
              "      fill: #1967D2;\n",
              "      height: 32px;\n",
              "      padding: 0 0 0 0;\n",
              "      width: 32px;\n",
              "    }\n",
              "\n",
              "    .colab-df-convert:hover {\n",
              "      background-color: #E2EBFA;\n",
              "      box-shadow: 0px 1px 2px rgba(60, 64, 67, 0.3), 0px 1px 3px 1px rgba(60, 64, 67, 0.15);\n",
              "      fill: #174EA6;\n",
              "    }\n",
              "\n",
              "    [theme=dark] .colab-df-convert {\n",
              "      background-color: #3B4455;\n",
              "      fill: #D2E3FC;\n",
              "    }\n",
              "\n",
              "    [theme=dark] .colab-df-convert:hover {\n",
              "      background-color: #434B5C;\n",
              "      box-shadow: 0px 1px 3px 1px rgba(0, 0, 0, 0.15);\n",
              "      filter: drop-shadow(0px 1px 2px rgba(0, 0, 0, 0.3));\n",
              "      fill: #FFFFFF;\n",
              "    }\n",
              "  </style>\n",
              "\n",
              "      <script>\n",
              "        const buttonEl =\n",
              "          document.querySelector('#df-d326e5d7-8ccd-4a26-93d1-7a709b465ff0 button.colab-df-convert');\n",
              "        buttonEl.style.display =\n",
              "          google.colab.kernel.accessAllowed ? 'block' : 'none';\n",
              "\n",
              "        async function convertToInteractive(key) {\n",
              "          const element = document.querySelector('#df-d326e5d7-8ccd-4a26-93d1-7a709b465ff0');\n",
              "          const dataTable =\n",
              "            await google.colab.kernel.invokeFunction('convertToInteractive',\n",
              "                                                     [key], {});\n",
              "          if (!dataTable) return;\n",
              "\n",
              "          const docLinkHtml = 'Like what you see? Visit the ' +\n",
              "            '<a target=\"_blank\" href=https://colab.research.google.com/notebooks/data_table.ipynb>data table notebook</a>'\n",
              "            + ' to learn more about interactive tables.';\n",
              "          element.innerHTML = '';\n",
              "          dataTable['output_type'] = 'display_data';\n",
              "          await google.colab.output.renderOutput(dataTable, element);\n",
              "          const docLink = document.createElement('div');\n",
              "          docLink.innerHTML = docLinkHtml;\n",
              "          element.appendChild(docLink);\n",
              "        }\n",
              "      </script>\n",
              "    </div>\n",
              "  </div>\n",
              "  "
            ]
          },
          "metadata": {},
          "execution_count": 23
        }
      ]
    },
    {
      "cell_type": "code",
      "source": [
        "aronamin['comment'] = aronamin['comment'].str.replace(\"[^ㄱ-ㅎㅏ-ㅣ가-힣 ]\",\"\")\n",
        "aronamin['comment'].replace('', np.nan, inplace=True)\n",
        "aronamin = aronamin.dropna(how='any') # Null 값 제거\n",
        "print(aronamin.isnull().sum())"
      ],
      "metadata": {
        "colab": {
          "base_uri": "https://localhost:8080/"
        },
        "id": "IFKSD50KSZ5b",
        "outputId": "5073c1e7-d879-49da-c6a6-25b0e31f8e92"
      },
      "execution_count": null,
      "outputs": [
        {
          "output_type": "stream",
          "name": "stdout",
          "text": [
            "comment    0\n",
            "label      0\n",
            "label1     0\n",
            "dtype: int64\n"
          ]
        },
        {
          "output_type": "stream",
          "name": "stderr",
          "text": [
            "/usr/local/lib/python3.7/dist-packages/ipykernel_launcher.py:1: FutureWarning: The default value of regex will change from True to False in a future version.\n",
            "  \"\"\"Entry point for launching an IPython kernel.\n"
          ]
        }
      ]
    },
    {
      "cell_type": "code",
      "source": [
        "aronamin = aronamin.astype({'comment': 'str'})\n",
        "aronamin = aronamin.astype({'label': 'int'})\n",
        "\n",
        "print(aronamin.dtypes)\n",
        "print(aronamin.info())"
      ],
      "metadata": {
        "colab": {
          "base_uri": "https://localhost:8080/"
        },
        "id": "rXDGMEZ6Ddlq",
        "outputId": "c67a5726-7e28-4de8-e606-bcc284f51928"
      },
      "execution_count": null,
      "outputs": [
        {
          "output_type": "stream",
          "name": "stdout",
          "text": [
            "comment    object\n",
            "label       int64\n",
            "label1      int64\n",
            "dtype: object\n",
            "<class 'pandas.core.frame.DataFrame'>\n",
            "Int64Index: 490 entries, 0 to 498\n",
            "Data columns (total 3 columns):\n",
            " #   Column   Non-Null Count  Dtype \n",
            "---  ------   --------------  ----- \n",
            " 0   comment  490 non-null    object\n",
            " 1   label    490 non-null    int64 \n",
            " 2   label1   490 non-null    int64 \n",
            "dtypes: int64(2), object(1)\n",
            "memory usage: 15.3+ KB\n",
            "None\n"
          ]
        }
      ]
    },
    {
      "cell_type": "code",
      "source": [
        "myStr = \"abcdefghijklmn\"\n",
        "search = \"b\"\n",
        "\n",
        "result = myStr.find(search)\n",
        "print(result)"
      ],
      "metadata": {
        "colab": {
          "base_uri": "https://localhost:8080/"
        },
        "id": "vBqYEGFbENCt",
        "outputId": "d1581acf-4ce8-4df0-af75-e1fbc5b5c54b"
      },
      "execution_count": null,
      "outputs": [
        {
          "output_type": "stream",
          "name": "stdout",
          "text": [
            "1\n"
          ]
        }
      ]
    },
    {
      "cell_type": "code",
      "source": [
        "for i in aronamin['comment']:\n",
        "  text1 = re.sub(r'[^\\.\\?\\!\\s\\w\\d]', ' ', i)\n",
        "  text1 = re.sub(r'([\\.\\?\\!])',r'\\1 ', text1)\n",
        "  sentences = re.split(r'[\\.\\?\\!]\\s+', text1)\n",
        "  \n",
        "#sentences = [komoran.nouns(sentence) for sentence in sentences if len(sentence)>0]\n"
      ],
      "metadata": {
        "id": "PcfQyFipkdQj"
      },
      "execution_count": null,
      "outputs": []
    },
    {
      "cell_type": "code",
      "source": [
        "#del aronamin['number']"
      ],
      "metadata": {
        "id": "Au5wS5FPmTP_"
      },
      "execution_count": null,
      "outputs": []
    },
    {
      "cell_type": "code",
      "source": [
        "aronamin"
      ],
      "metadata": {
        "colab": {
          "base_uri": "https://localhost:8080/",
          "height": 424
        },
        "id": "ZNZa3r_yR56W",
        "outputId": "dfad9ff8-1aad-44f9-86b1-2063e2eddceb"
      },
      "execution_count": null,
      "outputs": [
        {
          "output_type": "execute_result",
          "data": {
            "text/plain": [
              "                                               comment  label  label1\n",
              "0                선물 깜짝선물 감동배 광동제약 아로나민골드 똥지니용지니옴팡이 이정도      1       2\n",
              "1       나도 이제 먹어볼래 피로회복제 아로나민골드 아로나민씨플러스 느낌적인느낌 인지 몰라도      1       2\n",
              "2                  여의도점 대청소날    깨끗한 환경을 위해 항상 쾌적하게          3       2\n",
              "3       동탄에서 강릉갔다가 아쉬워서 춘천와서 닭갈비회쟁반막국수수육옛날통닭먹고 컴백홈했쥬        3       2\n",
              "4             아로나민 덕분에 난 지하철 사연녀가 되었ㄷ  조우진 배우와 함께하는 아로      3       2\n",
              "..                                                 ...    ...     ...\n",
              "494                                            본격 일 차       3       2\n",
              "495  월 일부터 빠졌던 옷소매 붉은끝동거의 달 내내 책과 드라마에 빠져 지냈다 책만 산게...      3       2\n",
              "496                                     아로나민골드가격 알아보아요      1       2\n",
              "497  현재 체중  영양제  아로나민골드 센트룸 아침  프렌치카페 하프칼로리 바나나점심  ...      1       2\n",
              "498  안녕하세요요리하는영이입니다  오늘은 베이컨마늘볶음밥준비해보았습니다너무나도 간단한 볶...      3       2\n",
              "\n",
              "[490 rows x 3 columns]"
            ],
            "text/html": [
              "\n",
              "  <div id=\"df-8a917fb9-43da-4871-9eef-571644d78a42\">\n",
              "    <div class=\"colab-df-container\">\n",
              "      <div>\n",
              "<style scoped>\n",
              "    .dataframe tbody tr th:only-of-type {\n",
              "        vertical-align: middle;\n",
              "    }\n",
              "\n",
              "    .dataframe tbody tr th {\n",
              "        vertical-align: top;\n",
              "    }\n",
              "\n",
              "    .dataframe thead th {\n",
              "        text-align: right;\n",
              "    }\n",
              "</style>\n",
              "<table border=\"1\" class=\"dataframe\">\n",
              "  <thead>\n",
              "    <tr style=\"text-align: right;\">\n",
              "      <th></th>\n",
              "      <th>comment</th>\n",
              "      <th>label</th>\n",
              "      <th>label1</th>\n",
              "    </tr>\n",
              "  </thead>\n",
              "  <tbody>\n",
              "    <tr>\n",
              "      <th>0</th>\n",
              "      <td>선물 깜짝선물 감동배 광동제약 아로나민골드 똥지니용지니옴팡이 이정도</td>\n",
              "      <td>1</td>\n",
              "      <td>2</td>\n",
              "    </tr>\n",
              "    <tr>\n",
              "      <th>1</th>\n",
              "      <td>나도 이제 먹어볼래 피로회복제 아로나민골드 아로나민씨플러스 느낌적인느낌 인지 몰라도</td>\n",
              "      <td>1</td>\n",
              "      <td>2</td>\n",
              "    </tr>\n",
              "    <tr>\n",
              "      <th>2</th>\n",
              "      <td>여의도점 대청소날    깨끗한 환경을 위해 항상 쾌적하게</td>\n",
              "      <td>3</td>\n",
              "      <td>2</td>\n",
              "    </tr>\n",
              "    <tr>\n",
              "      <th>3</th>\n",
              "      <td>동탄에서 강릉갔다가 아쉬워서 춘천와서 닭갈비회쟁반막국수수육옛날통닭먹고 컴백홈했쥬</td>\n",
              "      <td>3</td>\n",
              "      <td>2</td>\n",
              "    </tr>\n",
              "    <tr>\n",
              "      <th>4</th>\n",
              "      <td>아로나민 덕분에 난 지하철 사연녀가 되었ㄷ  조우진 배우와 함께하는 아로</td>\n",
              "      <td>3</td>\n",
              "      <td>2</td>\n",
              "    </tr>\n",
              "    <tr>\n",
              "      <th>...</th>\n",
              "      <td>...</td>\n",
              "      <td>...</td>\n",
              "      <td>...</td>\n",
              "    </tr>\n",
              "    <tr>\n",
              "      <th>494</th>\n",
              "      <td>본격 일 차</td>\n",
              "      <td>3</td>\n",
              "      <td>2</td>\n",
              "    </tr>\n",
              "    <tr>\n",
              "      <th>495</th>\n",
              "      <td>월 일부터 빠졌던 옷소매 붉은끝동거의 달 내내 책과 드라마에 빠져 지냈다 책만 산게...</td>\n",
              "      <td>3</td>\n",
              "      <td>2</td>\n",
              "    </tr>\n",
              "    <tr>\n",
              "      <th>496</th>\n",
              "      <td>아로나민골드가격 알아보아요</td>\n",
              "      <td>1</td>\n",
              "      <td>2</td>\n",
              "    </tr>\n",
              "    <tr>\n",
              "      <th>497</th>\n",
              "      <td>현재 체중  영양제  아로나민골드 센트룸 아침  프렌치카페 하프칼로리 바나나점심  ...</td>\n",
              "      <td>1</td>\n",
              "      <td>2</td>\n",
              "    </tr>\n",
              "    <tr>\n",
              "      <th>498</th>\n",
              "      <td>안녕하세요요리하는영이입니다  오늘은 베이컨마늘볶음밥준비해보았습니다너무나도 간단한 볶...</td>\n",
              "      <td>3</td>\n",
              "      <td>2</td>\n",
              "    </tr>\n",
              "  </tbody>\n",
              "</table>\n",
              "<p>490 rows × 3 columns</p>\n",
              "</div>\n",
              "      <button class=\"colab-df-convert\" onclick=\"convertToInteractive('df-8a917fb9-43da-4871-9eef-571644d78a42')\"\n",
              "              title=\"Convert this dataframe to an interactive table.\"\n",
              "              style=\"display:none;\">\n",
              "        \n",
              "  <svg xmlns=\"http://www.w3.org/2000/svg\" height=\"24px\"viewBox=\"0 0 24 24\"\n",
              "       width=\"24px\">\n",
              "    <path d=\"M0 0h24v24H0V0z\" fill=\"none\"/>\n",
              "    <path d=\"M18.56 5.44l.94 2.06.94-2.06 2.06-.94-2.06-.94-.94-2.06-.94 2.06-2.06.94zm-11 1L8.5 8.5l.94-2.06 2.06-.94-2.06-.94L8.5 2.5l-.94 2.06-2.06.94zm10 10l.94 2.06.94-2.06 2.06-.94-2.06-.94-.94-2.06-.94 2.06-2.06.94z\"/><path d=\"M17.41 7.96l-1.37-1.37c-.4-.4-.92-.59-1.43-.59-.52 0-1.04.2-1.43.59L10.3 9.45l-7.72 7.72c-.78.78-.78 2.05 0 2.83L4 21.41c.39.39.9.59 1.41.59.51 0 1.02-.2 1.41-.59l7.78-7.78 2.81-2.81c.8-.78.8-2.07 0-2.86zM5.41 20L4 18.59l7.72-7.72 1.47 1.35L5.41 20z\"/>\n",
              "  </svg>\n",
              "      </button>\n",
              "      \n",
              "  <style>\n",
              "    .colab-df-container {\n",
              "      display:flex;\n",
              "      flex-wrap:wrap;\n",
              "      gap: 12px;\n",
              "    }\n",
              "\n",
              "    .colab-df-convert {\n",
              "      background-color: #E8F0FE;\n",
              "      border: none;\n",
              "      border-radius: 50%;\n",
              "      cursor: pointer;\n",
              "      display: none;\n",
              "      fill: #1967D2;\n",
              "      height: 32px;\n",
              "      padding: 0 0 0 0;\n",
              "      width: 32px;\n",
              "    }\n",
              "\n",
              "    .colab-df-convert:hover {\n",
              "      background-color: #E2EBFA;\n",
              "      box-shadow: 0px 1px 2px rgba(60, 64, 67, 0.3), 0px 1px 3px 1px rgba(60, 64, 67, 0.15);\n",
              "      fill: #174EA6;\n",
              "    }\n",
              "\n",
              "    [theme=dark] .colab-df-convert {\n",
              "      background-color: #3B4455;\n",
              "      fill: #D2E3FC;\n",
              "    }\n",
              "\n",
              "    [theme=dark] .colab-df-convert:hover {\n",
              "      background-color: #434B5C;\n",
              "      box-shadow: 0px 1px 3px 1px rgba(0, 0, 0, 0.15);\n",
              "      filter: drop-shadow(0px 1px 2px rgba(0, 0, 0, 0.3));\n",
              "      fill: #FFFFFF;\n",
              "    }\n",
              "  </style>\n",
              "\n",
              "      <script>\n",
              "        const buttonEl =\n",
              "          document.querySelector('#df-8a917fb9-43da-4871-9eef-571644d78a42 button.colab-df-convert');\n",
              "        buttonEl.style.display =\n",
              "          google.colab.kernel.accessAllowed ? 'block' : 'none';\n",
              "\n",
              "        async function convertToInteractive(key) {\n",
              "          const element = document.querySelector('#df-8a917fb9-43da-4871-9eef-571644d78a42');\n",
              "          const dataTable =\n",
              "            await google.colab.kernel.invokeFunction('convertToInteractive',\n",
              "                                                     [key], {});\n",
              "          if (!dataTable) return;\n",
              "\n",
              "          const docLinkHtml = 'Like what you see? Visit the ' +\n",
              "            '<a target=\"_blank\" href=https://colab.research.google.com/notebooks/data_table.ipynb>data table notebook</a>'\n",
              "            + ' to learn more about interactive tables.';\n",
              "          element.innerHTML = '';\n",
              "          dataTable['output_type'] = 'display_data';\n",
              "          await google.colab.output.renderOutput(dataTable, element);\n",
              "          const docLink = document.createElement('div');\n",
              "          docLink.innerHTML = docLinkHtml;\n",
              "          element.appendChild(docLink);\n",
              "        }\n",
              "      </script>\n",
              "    </div>\n",
              "  </div>\n",
              "  "
            ]
          },
          "metadata": {},
          "execution_count": 30
        }
      ]
    },
    {
      "cell_type": "code",
      "source": [
        "# 긍정\n",
        "str1 = '괜찮'\n",
        "str2 = '기념'\n",
        "str3 = '먹어볼래'\n",
        "str4 = '선물'\n",
        "str5 = '나이'\n",
        "str6 = '필요해'\n",
        "# 부정\n",
        "str11 = '로도'\n",
        "str12= '미비'\n",
        "str13 = '별로'\n",
        "str14 = ' 안 '\n",
        "str15= '안 맞아'\n",
        "str16 = '먹어볼래'\n",
        "\n",
        "j = -1\n",
        "for i in aronamin['comment']:\n",
        "    j += 1\n",
        "    if '선물' in i or '필요해' in i:\n",
        "       aronamin.iloc[j,-1] = 1\n",
        "\n",
        "    elif  '괜찮' in i or  '기념' in i:\n",
        "      aronamin.iloc[j,-1] = 1\n",
        "\n",
        "    elif '생파' in i or '버티' in i:\n",
        "       aronamin.iloc[j,-1] = 1\n",
        "\n",
        "    elif  '샀다' in i or  '삿다' in i:\n",
        "      aronamin.iloc[j,-1] = 1\n",
        "\n",
        "    elif  '챙기자' in i or  '사준' in i:\n",
        "      aronamin.iloc[j,-1] = 1\n",
        "\n",
        "    elif  '아로나민골드' in i and  '멀티비타민' in i:\n",
        "      aronamin.iloc[j,-1] = 1\n",
        "    \n",
        "    elif  '감사' in i or  '피로회복' in i:\n",
        "      aronamin.iloc[j,-1] = 1\n",
        "    \n",
        "    elif  '고마' in i or  '드신' in i:\n",
        "      aronamin.iloc[j,-1] = 1\n",
        "\n",
        "    elif '나이' in i or '먹어볼래' in i:\n",
        "       aronamin.iloc[j,-1] = 1\n",
        "#\n",
        "    elif  '매일먹' in i or  '무슨말이' in i:\n",
        "      aronamin.iloc[j,-1] = 1\n",
        "\n",
        "    elif '덜나른 ' in i or '덜 피곤' in i:\n",
        "       aronamin.iloc[j,-1] = 1\n",
        "\n",
        "    elif  '사다준 아' in i or  '사오심' in i:\n",
        "      aronamin.iloc[j,-1] = 1\n",
        "\n",
        "    elif  '무야댈판' in i or  '구매' in i:\n",
        "      aronamin.iloc[j,-1] = 1\n",
        "    elif '광고아님' in i or '버텨' in i:\n",
        "      aronamin.iloc[j,-1] = 1\n",
        "\n",
        "    elif  '아로나민' in i and  '먹은날' in i:\n",
        "      aronamin.iloc[j,-1] = 1\n",
        "    \n",
        "    elif  '나아지' in i and  '피로야가' in i:\n",
        "      aronamin.iloc[j,-1] = 1\n",
        "    \n",
        "    elif  '아로나민' in i and  '좋음' in i:\n",
        "      aronamin.iloc[j,-1] = 1\n",
        "\n",
        "    elif '아로나민' in i and '최고' in i:\n",
        "       aronamin.iloc[j,-1] = 1\n",
        "\n",
        "    elif '아로나민' in i and '주' in i:\n",
        "       aronamin.iloc[j,-1] = 1\n",
        "    elif '아로나민' in i and '사줌' in i:\n",
        "       aronamin.iloc[j,-1] = 1\n",
        "    elif '아로나민' in i and '잘먹' in i:\n",
        "       aronamin.iloc[j,-1] = 1\n",
        "    elif '아로나민' in i and '챙기자' in i:\n",
        "       aronamin.iloc[j,-1] = 1\n",
        "\n",
        "#부정\n",
        "\n",
        "\n",
        "\n",
        "    elif '엑세라민비' in i or '먹어볼래' in i:\n",
        "       aronamin.iloc[j,-1] = 2\n",
        "\n",
        "    elif '로도' in i or '미비' in i:\n",
        "       aronamin.iloc[j,-1] = 2\n",
        "    \n",
        "    elif '논란' in i or '부작용' in i:\n",
        "       aronamin.iloc[j,-1] = 2\n",
        "\n",
        "    elif '별로' in i or ' 안 ' in i:\n",
        "       aronamin.iloc[j,-1] = 2 \n",
        "\n",
        "    elif '옥타' in i or ' 없었 ' in i:\n",
        "       aronamin.iloc[j,-1] = 2 \n",
        "\n",
        "    elif '아로나민' in i and '단점' in i:\n",
        "       aronamin.iloc[j,-1] = 2   \n",
        "    else:\n",
        "      aronamin.iloc[j,-1] = 3      \n",
        "    \n",
        "   \n",
        "aronamin  "
      ],
      "metadata": {
        "colab": {
          "base_uri": "https://localhost:8080/",
          "height": 424
        },
        "id": "ypw-zCutNJFl",
        "outputId": "16cfdb90-7df3-4f37-9e62-1a4da4d618f3"
      },
      "execution_count": null,
      "outputs": [
        {
          "output_type": "execute_result",
          "data": {
            "text/plain": [
              "                                               comment  label  label1\n",
              "0                선물 깜짝선물 감동배 광동제약 아로나민골드 똥지니용지니옴팡이 이정도      1       1\n",
              "1       나도 이제 먹어볼래 피로회복제 아로나민골드 아로나민씨플러스 느낌적인느낌 인지 몰라도      1       1\n",
              "2                  여의도점 대청소날    깨끗한 환경을 위해 항상 쾌적하게          3       3\n",
              "3       동탄에서 강릉갔다가 아쉬워서 춘천와서 닭갈비회쟁반막국수수육옛날통닭먹고 컴백홈했쥬        3       3\n",
              "4             아로나민 덕분에 난 지하철 사연녀가 되었ㄷ  조우진 배우와 함께하는 아로      3       3\n",
              "..                                                 ...    ...     ...\n",
              "494                                            본격 일 차       3       3\n",
              "495  월 일부터 빠졌던 옷소매 붉은끝동거의 달 내내 책과 드라마에 빠져 지냈다 책만 산게...      3       1\n",
              "496                                     아로나민골드가격 알아보아요      1       3\n",
              "497  현재 체중  영양제  아로나민골드 센트룸 아침  프렌치카페 하프칼로리 바나나점심  ...      1       1\n",
              "498  안녕하세요요리하는영이입니다  오늘은 베이컨마늘볶음밥준비해보았습니다너무나도 간단한 볶...      3       1\n",
              "\n",
              "[490 rows x 3 columns]"
            ],
            "text/html": [
              "\n",
              "  <div id=\"df-b3997378-c12b-48f2-9db5-48d29d4cefd8\">\n",
              "    <div class=\"colab-df-container\">\n",
              "      <div>\n",
              "<style scoped>\n",
              "    .dataframe tbody tr th:only-of-type {\n",
              "        vertical-align: middle;\n",
              "    }\n",
              "\n",
              "    .dataframe tbody tr th {\n",
              "        vertical-align: top;\n",
              "    }\n",
              "\n",
              "    .dataframe thead th {\n",
              "        text-align: right;\n",
              "    }\n",
              "</style>\n",
              "<table border=\"1\" class=\"dataframe\">\n",
              "  <thead>\n",
              "    <tr style=\"text-align: right;\">\n",
              "      <th></th>\n",
              "      <th>comment</th>\n",
              "      <th>label</th>\n",
              "      <th>label1</th>\n",
              "    </tr>\n",
              "  </thead>\n",
              "  <tbody>\n",
              "    <tr>\n",
              "      <th>0</th>\n",
              "      <td>선물 깜짝선물 감동배 광동제약 아로나민골드 똥지니용지니옴팡이 이정도</td>\n",
              "      <td>1</td>\n",
              "      <td>1</td>\n",
              "    </tr>\n",
              "    <tr>\n",
              "      <th>1</th>\n",
              "      <td>나도 이제 먹어볼래 피로회복제 아로나민골드 아로나민씨플러스 느낌적인느낌 인지 몰라도</td>\n",
              "      <td>1</td>\n",
              "      <td>1</td>\n",
              "    </tr>\n",
              "    <tr>\n",
              "      <th>2</th>\n",
              "      <td>여의도점 대청소날    깨끗한 환경을 위해 항상 쾌적하게</td>\n",
              "      <td>3</td>\n",
              "      <td>3</td>\n",
              "    </tr>\n",
              "    <tr>\n",
              "      <th>3</th>\n",
              "      <td>동탄에서 강릉갔다가 아쉬워서 춘천와서 닭갈비회쟁반막국수수육옛날통닭먹고 컴백홈했쥬</td>\n",
              "      <td>3</td>\n",
              "      <td>3</td>\n",
              "    </tr>\n",
              "    <tr>\n",
              "      <th>4</th>\n",
              "      <td>아로나민 덕분에 난 지하철 사연녀가 되었ㄷ  조우진 배우와 함께하는 아로</td>\n",
              "      <td>3</td>\n",
              "      <td>3</td>\n",
              "    </tr>\n",
              "    <tr>\n",
              "      <th>...</th>\n",
              "      <td>...</td>\n",
              "      <td>...</td>\n",
              "      <td>...</td>\n",
              "    </tr>\n",
              "    <tr>\n",
              "      <th>494</th>\n",
              "      <td>본격 일 차</td>\n",
              "      <td>3</td>\n",
              "      <td>3</td>\n",
              "    </tr>\n",
              "    <tr>\n",
              "      <th>495</th>\n",
              "      <td>월 일부터 빠졌던 옷소매 붉은끝동거의 달 내내 책과 드라마에 빠져 지냈다 책만 산게...</td>\n",
              "      <td>3</td>\n",
              "      <td>1</td>\n",
              "    </tr>\n",
              "    <tr>\n",
              "      <th>496</th>\n",
              "      <td>아로나민골드가격 알아보아요</td>\n",
              "      <td>1</td>\n",
              "      <td>3</td>\n",
              "    </tr>\n",
              "    <tr>\n",
              "      <th>497</th>\n",
              "      <td>현재 체중  영양제  아로나민골드 센트룸 아침  프렌치카페 하프칼로리 바나나점심  ...</td>\n",
              "      <td>1</td>\n",
              "      <td>1</td>\n",
              "    </tr>\n",
              "    <tr>\n",
              "      <th>498</th>\n",
              "      <td>안녕하세요요리하는영이입니다  오늘은 베이컨마늘볶음밥준비해보았습니다너무나도 간단한 볶...</td>\n",
              "      <td>3</td>\n",
              "      <td>1</td>\n",
              "    </tr>\n",
              "  </tbody>\n",
              "</table>\n",
              "<p>490 rows × 3 columns</p>\n",
              "</div>\n",
              "      <button class=\"colab-df-convert\" onclick=\"convertToInteractive('df-b3997378-c12b-48f2-9db5-48d29d4cefd8')\"\n",
              "              title=\"Convert this dataframe to an interactive table.\"\n",
              "              style=\"display:none;\">\n",
              "        \n",
              "  <svg xmlns=\"http://www.w3.org/2000/svg\" height=\"24px\"viewBox=\"0 0 24 24\"\n",
              "       width=\"24px\">\n",
              "    <path d=\"M0 0h24v24H0V0z\" fill=\"none\"/>\n",
              "    <path d=\"M18.56 5.44l.94 2.06.94-2.06 2.06-.94-2.06-.94-.94-2.06-.94 2.06-2.06.94zm-11 1L8.5 8.5l.94-2.06 2.06-.94-2.06-.94L8.5 2.5l-.94 2.06-2.06.94zm10 10l.94 2.06.94-2.06 2.06-.94-2.06-.94-.94-2.06-.94 2.06-2.06.94z\"/><path d=\"M17.41 7.96l-1.37-1.37c-.4-.4-.92-.59-1.43-.59-.52 0-1.04.2-1.43.59L10.3 9.45l-7.72 7.72c-.78.78-.78 2.05 0 2.83L4 21.41c.39.39.9.59 1.41.59.51 0 1.02-.2 1.41-.59l7.78-7.78 2.81-2.81c.8-.78.8-2.07 0-2.86zM5.41 20L4 18.59l7.72-7.72 1.47 1.35L5.41 20z\"/>\n",
              "  </svg>\n",
              "      </button>\n",
              "      \n",
              "  <style>\n",
              "    .colab-df-container {\n",
              "      display:flex;\n",
              "      flex-wrap:wrap;\n",
              "      gap: 12px;\n",
              "    }\n",
              "\n",
              "    .colab-df-convert {\n",
              "      background-color: #E8F0FE;\n",
              "      border: none;\n",
              "      border-radius: 50%;\n",
              "      cursor: pointer;\n",
              "      display: none;\n",
              "      fill: #1967D2;\n",
              "      height: 32px;\n",
              "      padding: 0 0 0 0;\n",
              "      width: 32px;\n",
              "    }\n",
              "\n",
              "    .colab-df-convert:hover {\n",
              "      background-color: #E2EBFA;\n",
              "      box-shadow: 0px 1px 2px rgba(60, 64, 67, 0.3), 0px 1px 3px 1px rgba(60, 64, 67, 0.15);\n",
              "      fill: #174EA6;\n",
              "    }\n",
              "\n",
              "    [theme=dark] .colab-df-convert {\n",
              "      background-color: #3B4455;\n",
              "      fill: #D2E3FC;\n",
              "    }\n",
              "\n",
              "    [theme=dark] .colab-df-convert:hover {\n",
              "      background-color: #434B5C;\n",
              "      box-shadow: 0px 1px 3px 1px rgba(0, 0, 0, 0.15);\n",
              "      filter: drop-shadow(0px 1px 2px rgba(0, 0, 0, 0.3));\n",
              "      fill: #FFFFFF;\n",
              "    }\n",
              "  </style>\n",
              "\n",
              "      <script>\n",
              "        const buttonEl =\n",
              "          document.querySelector('#df-b3997378-c12b-48f2-9db5-48d29d4cefd8 button.colab-df-convert');\n",
              "        buttonEl.style.display =\n",
              "          google.colab.kernel.accessAllowed ? 'block' : 'none';\n",
              "\n",
              "        async function convertToInteractive(key) {\n",
              "          const element = document.querySelector('#df-b3997378-c12b-48f2-9db5-48d29d4cefd8');\n",
              "          const dataTable =\n",
              "            await google.colab.kernel.invokeFunction('convertToInteractive',\n",
              "                                                     [key], {});\n",
              "          if (!dataTable) return;\n",
              "\n",
              "          const docLinkHtml = 'Like what you see? Visit the ' +\n",
              "            '<a target=\"_blank\" href=https://colab.research.google.com/notebooks/data_table.ipynb>data table notebook</a>'\n",
              "            + ' to learn more about interactive tables.';\n",
              "          element.innerHTML = '';\n",
              "          dataTable['output_type'] = 'display_data';\n",
              "          await google.colab.output.renderOutput(dataTable, element);\n",
              "          const docLink = document.createElement('div');\n",
              "          docLink.innerHTML = docLinkHtml;\n",
              "          element.appendChild(docLink);\n",
              "        }\n",
              "      </script>\n",
              "    </div>\n",
              "  </div>\n",
              "  "
            ]
          },
          "metadata": {},
          "execution_count": 31
        }
      ]
    },
    {
      "cell_type": "code",
      "source": [
        "len(aronamin[(aronamin['label'] == 1)])"
      ],
      "metadata": {
        "colab": {
          "base_uri": "https://localhost:8080/"
        },
        "id": "gxGD2FO7hE4P",
        "outputId": "80dd573e-16df-47b3-f5b0-4249d27056e9"
      },
      "execution_count": null,
      "outputs": [
        {
          "output_type": "execute_result",
          "data": {
            "text/plain": [
              "193"
            ]
          },
          "metadata": {},
          "execution_count": 37
        }
      ]
    },
    {
      "cell_type": "code",
      "source": [
        "aronamin.to_excel('aronamin_labled_added.xlsx')"
      ],
      "metadata": {
        "id": "qWTU1Pj_1fPG"
      },
      "execution_count": null,
      "outputs": []
    },
    {
      "cell_type": "code",
      "source": [
        "'선물' in aronamin['comment'][0]"
      ],
      "metadata": {
        "colab": {
          "base_uri": "https://localhost:8080/"
        },
        "id": "FppVrtFkpwlv",
        "outputId": "f10ecb2e-6498-4985-90d4-3c1f40922cf2"
      },
      "execution_count": null,
      "outputs": [
        {
          "output_type": "execute_result",
          "data": {
            "text/plain": [
              "True"
            ]
          },
          "metadata": {},
          "execution_count": 16
        }
      ]
    },
    {
      "cell_type": "code",
      "source": [
        "df=pd.DataFrame()"
      ],
      "metadata": {
        "id": "Pbn0tOIyqbtL"
      },
      "execution_count": null,
      "outputs": []
    },
    {
      "cell_type": "code",
      "source": [
        "aronamin['label1'] "
      ],
      "metadata": {
        "colab": {
          "base_uri": "https://localhost:8080/"
        },
        "id": "qU9q_VLH9RL2",
        "outputId": "7a2eb7bc-faa4-4337-b95f-96da3faf6093"
      },
      "execution_count": null,
      "outputs": [
        {
          "output_type": "execute_result",
          "data": {
            "text/plain": [
              "0       1\n",
              "1       1\n",
              "2       3\n",
              "3       3\n",
              "4       3\n",
              "       ..\n",
              "6381    2\n",
              "6382    1\n",
              "6383    1\n",
              "6384    3\n",
              "6385    1\n",
              "Name: label1, Length: 6386, dtype: int64"
            ]
          },
          "metadata": {},
          "execution_count": 18
        }
      ]
    },
    {
      "cell_type": "code",
      "source": [
        ""
      ],
      "metadata": {
        "id": "kHA4Ejh69ROG"
      },
      "execution_count": null,
      "outputs": []
    },
    {
      "cell_type": "code",
      "source": [
        ""
      ],
      "metadata": {
        "id": "BHs6qxcY9RQM"
      },
      "execution_count": null,
      "outputs": []
    },
    {
      "cell_type": "code",
      "source": [
        ""
      ],
      "metadata": {
        "id": "smCNpSjk9RSZ"
      },
      "execution_count": null,
      "outputs": []
    },
    {
      "cell_type": "code",
      "source": [
        ""
      ],
      "metadata": {
        "id": "rjdcNIex9RUy"
      },
      "execution_count": null,
      "outputs": []
    },
    {
      "cell_type": "code",
      "source": [
        ""
      ],
      "metadata": {
        "id": "rAyFK19V9RXC"
      },
      "execution_count": null,
      "outputs": []
    },
    {
      "cell_type": "code",
      "source": [
        ""
      ],
      "metadata": {
        "id": "QJhsj0PM9RZh"
      },
      "execution_count": null,
      "outputs": []
    },
    {
      "cell_type": "code",
      "source": [
        "for i in aronamin['comment']:\n",
        "    if '선물' in i or '필요해' in i:\n",
        "       aronamin.remove(i)"
      ],
      "metadata": {
        "id": "6JGL9ANn9Rbn"
      },
      "execution_count": null,
      "outputs": []
    },
    {
      "cell_type": "code",
      "source": [
        ""
      ],
      "metadata": {
        "id": "qpDeUzZM9Rdz"
      },
      "execution_count": null,
      "outputs": []
    }
  ]
}