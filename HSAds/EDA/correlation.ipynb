{
 "cells": [
  {
   "cell_type": "code",
   "execution_count": 1,
   "metadata": {},
   "outputs": [
    {
     "name": "stderr",
     "output_type": "stream",
     "text": [
      "/tmp/ipykernel_74111/1377412204.py:2: FutureWarning: Inferring datetime64[ns] from data containing strings is deprecated and will be removed in a future version. To retain the old behavior explicitly pass Series(data, dtype=datetime64[ns])\n",
      "  df = pd.read_excel('s_all.xlsx', index_col=0).reset_index(drop = True)\n"
     ]
    }
   ],
   "source": [
    "import pandas as pd\n",
    "df = pd.read_excel('s_all.xlsx', index_col=0).reset_index(drop = True)"
   ]
  },
  {
   "cell_type": "code",
   "execution_count": 2,
   "metadata": {},
   "outputs": [],
   "source": [
    "df1 = df[df['volume'] != 0]"
   ]
  },
  {
   "cell_type": "code",
   "execution_count": 3,
   "metadata": {},
   "outputs": [],
   "source": [
    "ben = df1[df1['product'] == '벤포벨']"
   ]
  },
  {
   "cell_type": "code",
   "execution_count": 5,
   "metadata": {},
   "outputs": [
    {
     "name": "stderr",
     "output_type": "stream",
     "text": [
      "/tmp/ipykernel_74111/1690349358.py:1: FutureWarning: Inferring datetime64[ns] from data containing strings is deprecated and will be removed in a future version. To retain the old behavior explicitly pass Series(data, dtype=datetime64[ns])\n",
      "  ben_h = pd.read_excel('s_benpobel_h.xlsx', index_col=0).reset_index(drop = True)\n",
      "/tmp/ipykernel_74111/1690349358.py:2: FutureWarning: Inferring datetime64[ns] from data containing strings is deprecated and will be removed in a future version. To retain the old behavior explicitly pass Series(data, dtype=datetime64[ns])\n",
      "  ben_j = pd.read_excel('s_benpobel_j.xlsx', index_col=0).reset_index(drop = True)\n"
     ]
    }
   ],
   "source": [
    "ben_h = pd.read_excel('s_benpobel_h.xlsx', index_col=0).reset_index(drop = True)\n",
    "ben_j = pd.read_excel('s_benpobel_j.xlsx', index_col=0).reset_index(drop = True)"
   ]
  },
  {
   "cell_type": "code",
   "execution_count": 47,
   "metadata": {},
   "outputs": [],
   "source": [
    "bena = pd.DataFrame({'amount' : ben_h['amount'] + ben_j['amount']})\n",
    "benv = pd.DataFrame({'volume' : ben_h['volume'] + ben_j['volume']})"
   ]
  },
  {
   "cell_type": "code",
   "execution_count": 42,
   "metadata": {},
   "outputs": [],
   "source": [
    "benpobel = pd.concat([ben_j.drop(['amount','volume'], axis=1),bena,benv],axis=1)"
   ]
  },
  {
   "cell_type": "code",
   "execution_count": 46,
   "metadata": {},
   "outputs": [
    {
     "data": {
      "text/plain": [
       "True"
      ]
     },
     "execution_count": 46,
     "metadata": {},
     "output_type": "execute_result"
    }
   ],
   "source": [
    "ben_h['amount'][0] + ben_j['amount'][0] == benpobel['amount'][0]"
   ]
  },
  {
   "cell_type": "code",
   "execution_count": 57,
   "metadata": {},
   "outputs": [],
   "source": [
    "noben = df[(df['product'] == '아로나민골드') | (df['product'] == '비맥스메타')]"
   ]
  },
  {
   "cell_type": "code",
   "execution_count": 59,
   "metadata": {},
   "outputs": [
    {
     "name": "stderr",
     "output_type": "stream",
     "text": [
      "/tmp/ipykernel_42322/1085446953.py:1: FutureWarning: The frame.append method is deprecated and will be removed from pandas in a future version. Use pandas.concat instead.\n",
      "  df1 = noben.append(benpobel)\n"
     ]
    }
   ],
   "source": [
    "df1 = noben.append(benpobel)"
   ]
  },
  {
   "cell_type": "code",
   "execution_count": 61,
   "metadata": {},
   "outputs": [],
   "source": [
    "df2 = df1[df1['volume'] != 0]"
   ]
  },
  {
   "cell_type": "code",
   "execution_count": 63,
   "metadata": {},
   "outputs": [],
   "source": [
    "df2.to_excel('s_all_no0_j+h.xlsx')"
   ]
  },
  {
   "cell_type": "code",
   "execution_count": 106,
   "metadata": {},
   "outputs": [
    {
     "name": "stdout",
     "output_type": "stream",
     "text": [
      "product : 1.0\n",
      "date : 1.0\n",
      "community : 0.8927427702842033\n",
      "volume : 0.8836188830680276\n",
      "blog : 0.7528317178634417\n",
      "p_34 : 0.7227843664637911\n",
      "p_m : 0.7059340153494928\n",
      "total : 0.6649128125256084\n",
      "n_34 : 0.6181830203012979\n",
      "n_m : 0.5780191466612837\n",
      "p_f : 0.47426101816339616\n",
      "p_10 : 0.42283239970095404\n",
      "n_f : 0.39450912011680517\n",
      "instagram : 0.3836699762820965\n",
      "youtube_like : 0.37868425976101594\n",
      "p_23 : 0.3235175926741787\n",
      "youtube_p : 0.25025344654792975\n",
      "n_23 : 0.2497984201581771\n",
      "youtube_n : 0.24871235098113484\n",
      "n_45 : 0.11027291765219163\n",
      "tweeter : 0.0692717952782101\n",
      "youtube_view : 0.05698136458758526\n",
      "youtube_comment : 0.009149671560747566\n",
      "youtube_num : -0.006151330496585092\n",
      "p_45 : -0.06624497468783265\n",
      "n_10 : -0.24681882572347433\n",
      "news : -0.2944273877459012\n",
      "n_60 : -0.5788200828598418\n",
      "p_60 : -0.7844710397172265\n"
     ]
    }
   ],
   "source": [
    "dic = {}\n",
    "for i in df2:\n",
    "    try:\n",
    "        j = df2[df2[i] != 0][[i,'amount']]\n",
    "        corr_matrix = j.corr()\n",
    "        a = corr_matrix['amount'][0]\n",
    "        dic[i] = a\n",
    "    except:\n",
    "        continue\n",
    "a = sorted(dic.items(),key = lambda item: item[1], reverse = True)\n",
    "for i in a:\n",
    "    print(f'{i[0]} : {i[1]}')"
   ]
  }
 ],
 "metadata": {
  "interpreter": {
   "hash": "a46595e920855ccdac6b22d3e9eba86c9bb94cb9c08cc416966478e66841e2ea"
  },
  "kernelspec": {
   "display_name": "Python 3.9.0 ('tf_2.8')",
   "language": "python",
   "name": "python3"
  },
  "language_info": {
   "codemirror_mode": {
    "name": "ipython",
    "version": 3
   },
   "file_extension": ".py",
   "mimetype": "text/x-python",
   "name": "python",
   "nbconvert_exporter": "python",
   "pygments_lexer": "ipython3",
   "version": "3.9.0"
  },
  "orig_nbformat": 4
 },
 "nbformat": 4,
 "nbformat_minor": 2
}
