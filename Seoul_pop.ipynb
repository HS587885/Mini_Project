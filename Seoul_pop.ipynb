{
 "cells": [
  {
   "cell_type": "code",
   "execution_count": 9,
   "metadata": {},
   "outputs": [],
   "source": [
    "import pandas as pd\n",
    "import numpy as np\n",
    "import seaborn as sns\n",
    "import matplotlib\n",
    "\n",
    "#-*- encoding: utf-8 -*-"
   ]
  },
  {
   "cell_type": "code",
   "execution_count": 2,
   "metadata": {},
   "outputs": [],
   "source": [
    "pop_seoul = pd.read_excel('./data/seoul_population.xls')"
   ]
  },
  {
   "cell_type": "code",
   "execution_count": 4,
   "metadata": {},
   "outputs": [
    {
     "data": {
      "text/html": [
       "<div>\n",
       "<style scoped>\n",
       "    .dataframe tbody tr th:only-of-type {\n",
       "        vertical-align: middle;\n",
       "    }\n",
       "\n",
       "    .dataframe tbody tr th {\n",
       "        vertical-align: top;\n",
       "    }\n",
       "\n",
       "    .dataframe thead th {\n",
       "        text-align: right;\n",
       "    }\n",
       "</style>\n",
       "<table border=\"1\" class=\"dataframe\">\n",
       "  <thead>\n",
       "    <tr style=\"text-align: right;\">\n",
       "      <th></th>\n",
       "      <th>기간</th>\n",
       "      <th>자치구</th>\n",
       "      <th>세대</th>\n",
       "      <th>인구</th>\n",
       "      <th>인구.1</th>\n",
       "      <th>인구.2</th>\n",
       "      <th>인구.3</th>\n",
       "      <th>인구.4</th>\n",
       "      <th>인구.5</th>\n",
       "      <th>인구.6</th>\n",
       "      <th>인구.7</th>\n",
       "      <th>인구.8</th>\n",
       "      <th>세대당인구</th>\n",
       "      <th>65세이상고령자</th>\n",
       "    </tr>\n",
       "  </thead>\n",
       "  <tbody>\n",
       "    <tr>\n",
       "      <td>0</td>\n",
       "      <td>기간</td>\n",
       "      <td>자치구</td>\n",
       "      <td>세대</td>\n",
       "      <td>합계</td>\n",
       "      <td>합계</td>\n",
       "      <td>합계</td>\n",
       "      <td>한국인</td>\n",
       "      <td>한국인</td>\n",
       "      <td>한국인</td>\n",
       "      <td>등록외국인</td>\n",
       "      <td>등록외국인</td>\n",
       "      <td>등록외국인</td>\n",
       "      <td>세대당인구</td>\n",
       "      <td>65세이상고령자</td>\n",
       "    </tr>\n",
       "    <tr>\n",
       "      <td>1</td>\n",
       "      <td>기간</td>\n",
       "      <td>자치구</td>\n",
       "      <td>세대</td>\n",
       "      <td>계</td>\n",
       "      <td>남자</td>\n",
       "      <td>여자</td>\n",
       "      <td>계</td>\n",
       "      <td>남자</td>\n",
       "      <td>여자</td>\n",
       "      <td>계</td>\n",
       "      <td>남자</td>\n",
       "      <td>여자</td>\n",
       "      <td>세대당인구</td>\n",
       "      <td>65세이상고령자</td>\n",
       "    </tr>\n",
       "    <tr>\n",
       "      <td>2</td>\n",
       "      <td>2021.2/4</td>\n",
       "      <td>합계</td>\n",
       "      <td>4405638</td>\n",
       "      <td>9795426</td>\n",
       "      <td>4756178</td>\n",
       "      <td>5039248</td>\n",
       "      <td>9565990</td>\n",
       "      <td>4649442</td>\n",
       "      <td>4916548</td>\n",
       "      <td>229436</td>\n",
       "      <td>106736</td>\n",
       "      <td>122700</td>\n",
       "      <td>2.17</td>\n",
       "      <td>1576971</td>\n",
       "    </tr>\n",
       "    <tr>\n",
       "      <td>3</td>\n",
       "      <td>2021.2/4</td>\n",
       "      <td>종로구</td>\n",
       "      <td>73525</td>\n",
       "      <td>155106</td>\n",
       "      <td>75009</td>\n",
       "      <td>80097</td>\n",
       "      <td>146029</td>\n",
       "      <td>70985</td>\n",
       "      <td>75044</td>\n",
       "      <td>9077</td>\n",
       "      <td>4024</td>\n",
       "      <td>5053</td>\n",
       "      <td>1.99</td>\n",
       "      <td>27605</td>\n",
       "    </tr>\n",
       "    <tr>\n",
       "      <td>4</td>\n",
       "      <td>2021.2/4</td>\n",
       "      <td>중구</td>\n",
       "      <td>62897</td>\n",
       "      <td>132259</td>\n",
       "      <td>64526</td>\n",
       "      <td>67733</td>\n",
       "      <td>123016</td>\n",
       "      <td>60019</td>\n",
       "      <td>62997</td>\n",
       "      <td>9243</td>\n",
       "      <td>4507</td>\n",
       "      <td>4736</td>\n",
       "      <td>1.96</td>\n",
       "      <td>23980</td>\n",
       "    </tr>\n",
       "  </tbody>\n",
       "</table>\n",
       "</div>"
      ],
      "text/plain": [
       "         기간  자치구       세대       인구     인구.1     인구.2     인구.3     인구.4  \\\n",
       "0        기간  자치구       세대       합계       합계       합계      한국인      한국인   \n",
       "1        기간  자치구       세대        계       남자       여자        계       남자   \n",
       "2  2021.2/4   합계  4405638  9795426  4756178  5039248  9565990  4649442   \n",
       "3  2021.2/4  종로구    73525   155106    75009    80097   146029    70985   \n",
       "4  2021.2/4   중구    62897   132259    64526    67733   123016    60019   \n",
       "\n",
       "      인구.5    인구.6    인구.7    인구.8  세대당인구  65세이상고령자  \n",
       "0      한국인   등록외국인   등록외국인   등록외국인  세대당인구  65세이상고령자  \n",
       "1       여자       계      남자      여자  세대당인구  65세이상고령자  \n",
       "2  4916548  229436  106736  122700   2.17   1576971  \n",
       "3    75044    9077    4024    5053   1.99     27605  \n",
       "4    62997    9243    4507    4736   1.96     23980  "
      ]
     },
     "execution_count": 4,
     "metadata": {},
     "output_type": "execute_result"
    }
   ],
   "source": [
    "pop_seoul.head()"
   ]
  },
  {
   "cell_type": "code",
   "execution_count": 8,
   "metadata": {},
   "outputs": [
    {
     "data": {
      "text/html": [
       "<div>\n",
       "<style scoped>\n",
       "    .dataframe tbody tr th:only-of-type {\n",
       "        vertical-align: middle;\n",
       "    }\n",
       "\n",
       "    .dataframe tbody tr th {\n",
       "        vertical-align: top;\n",
       "    }\n",
       "\n",
       "    .dataframe thead th {\n",
       "        text-align: right;\n",
       "    }\n",
       "</style>\n",
       "<table border=\"1\" class=\"dataframe\">\n",
       "  <thead>\n",
       "    <tr style=\"text-align: right;\">\n",
       "      <th></th>\n",
       "      <th>자치구</th>\n",
       "      <th>계</th>\n",
       "      <th>계.1</th>\n",
       "      <th>계.2</th>\n",
       "      <th>65세이상고령자</th>\n",
       "    </tr>\n",
       "  </thead>\n",
       "  <tbody>\n",
       "    <tr>\n",
       "      <td>0</td>\n",
       "      <td>합계</td>\n",
       "      <td>9795426</td>\n",
       "      <td>9565990</td>\n",
       "      <td>229436</td>\n",
       "      <td>1576971</td>\n",
       "    </tr>\n",
       "    <tr>\n",
       "      <td>1</td>\n",
       "      <td>종로구</td>\n",
       "      <td>155106</td>\n",
       "      <td>146029</td>\n",
       "      <td>9077</td>\n",
       "      <td>27605</td>\n",
       "    </tr>\n",
       "    <tr>\n",
       "      <td>2</td>\n",
       "      <td>중구</td>\n",
       "      <td>132259</td>\n",
       "      <td>123016</td>\n",
       "      <td>9243</td>\n",
       "      <td>23980</td>\n",
       "    </tr>\n",
       "    <tr>\n",
       "      <td>3</td>\n",
       "      <td>용산구</td>\n",
       "      <td>240665</td>\n",
       "      <td>226378</td>\n",
       "      <td>14287</td>\n",
       "      <td>38884</td>\n",
       "    </tr>\n",
       "    <tr>\n",
       "      <td>4</td>\n",
       "      <td>성동구</td>\n",
       "      <td>295767</td>\n",
       "      <td>289162</td>\n",
       "      <td>6605</td>\n",
       "      <td>45591</td>\n",
       "    </tr>\n",
       "    <tr>\n",
       "      <td>5</td>\n",
       "      <td>광진구</td>\n",
       "      <td>355306</td>\n",
       "      <td>342481</td>\n",
       "      <td>12825</td>\n",
       "      <td>50815</td>\n",
       "    </tr>\n",
       "    <tr>\n",
       "      <td>6</td>\n",
       "      <td>동대문구</td>\n",
       "      <td>352259</td>\n",
       "      <td>338040</td>\n",
       "      <td>14219</td>\n",
       "      <td>61262</td>\n",
       "    </tr>\n",
       "    <tr>\n",
       "      <td>7</td>\n",
       "      <td>중랑구</td>\n",
       "      <td>394679</td>\n",
       "      <td>389972</td>\n",
       "      <td>4707</td>\n",
       "      <td>70172</td>\n",
       "    </tr>\n",
       "    <tr>\n",
       "      <td>8</td>\n",
       "      <td>성북구</td>\n",
       "      <td>443206</td>\n",
       "      <td>433658</td>\n",
       "      <td>9548</td>\n",
       "      <td>73568</td>\n",
       "    </tr>\n",
       "    <tr>\n",
       "      <td>9</td>\n",
       "      <td>강북구</td>\n",
       "      <td>306093</td>\n",
       "      <td>302645</td>\n",
       "      <td>3448</td>\n",
       "      <td>63383</td>\n",
       "    </tr>\n",
       "    <tr>\n",
       "      <td>10</td>\n",
       "      <td>도봉구</td>\n",
       "      <td>322419</td>\n",
       "      <td>320365</td>\n",
       "      <td>2054</td>\n",
       "      <td>62894</td>\n",
       "    </tr>\n",
       "    <tr>\n",
       "      <td>11</td>\n",
       "      <td>노원구</td>\n",
       "      <td>520005</td>\n",
       "      <td>515997</td>\n",
       "      <td>4008</td>\n",
       "      <td>86697</td>\n",
       "    </tr>\n",
       "    <tr>\n",
       "      <td>12</td>\n",
       "      <td>은평구</td>\n",
       "      <td>479409</td>\n",
       "      <td>475371</td>\n",
       "      <td>4038</td>\n",
       "      <td>85921</td>\n",
       "    </tr>\n",
       "    <tr>\n",
       "      <td>13</td>\n",
       "      <td>서대문구</td>\n",
       "      <td>317699</td>\n",
       "      <td>307070</td>\n",
       "      <td>10629</td>\n",
       "      <td>53627</td>\n",
       "    </tr>\n",
       "    <tr>\n",
       "      <td>14</td>\n",
       "      <td>마포구</td>\n",
       "      <td>379984</td>\n",
       "      <td>370132</td>\n",
       "      <td>9852</td>\n",
       "      <td>53891</td>\n",
       "    </tr>\n",
       "  </tbody>\n",
       "</table>\n",
       "</div>"
      ],
      "text/plain": [
       "     자치구        계      계.1     계.2  65세이상고령자\n",
       "0     합계  9795426  9565990  229436   1576971\n",
       "1    종로구   155106   146029    9077     27605\n",
       "2     중구   132259   123016    9243     23980\n",
       "3    용산구   240665   226378   14287     38884\n",
       "4    성동구   295767   289162    6605     45591\n",
       "5    광진구   355306   342481   12825     50815\n",
       "6   동대문구   352259   338040   14219     61262\n",
       "7    중랑구   394679   389972    4707     70172\n",
       "8    성북구   443206   433658    9548     73568\n",
       "9    강북구   306093   302645    3448     63383\n",
       "10   도봉구   322419   320365    2054     62894\n",
       "11   노원구   520005   515997    4008     86697\n",
       "12   은평구   479409   475371    4038     85921\n",
       "13  서대문구   317699   307070   10629     53627\n",
       "14   마포구   379984   370132    9852     53891"
      ]
     },
     "execution_count": 8,
     "metadata": {},
     "output_type": "execute_result"
    }
   ],
   "source": [
    "pop_seoul = pd.read_excel('./data/seoul_population.xls', header=2, usecols= \"B, D, G, J, N\")\n",
    "pop_seoul.head(15)"
   ]
  },
  {
   "cell_type": "code",
   "execution_count": 7,
   "metadata": {},
   "outputs": [
    {
     "data": {
      "text/html": [
       "<div>\n",
       "<style scoped>\n",
       "    .dataframe tbody tr th:only-of-type {\n",
       "        vertical-align: middle;\n",
       "    }\n",
       "\n",
       "    .dataframe tbody tr th {\n",
       "        vertical-align: top;\n",
       "    }\n",
       "\n",
       "    .dataframe thead th {\n",
       "        text-align: right;\n",
       "    }\n",
       "</style>\n",
       "<table border=\"1\" class=\"dataframe\">\n",
       "  <thead>\n",
       "    <tr style=\"text-align: right;\">\n",
       "      <th></th>\n",
       "      <th>구별</th>\n",
       "      <th>인구수</th>\n",
       "      <th>한국인</th>\n",
       "      <th>외국인</th>\n",
       "      <th>고령자</th>\n",
       "    </tr>\n",
       "  </thead>\n",
       "  <tbody>\n",
       "    <tr>\n",
       "      <td>21</td>\n",
       "      <td>관악구</td>\n",
       "      <td>502698</td>\n",
       "      <td>488800</td>\n",
       "      <td>13898</td>\n",
       "      <td>78647</td>\n",
       "    </tr>\n",
       "    <tr>\n",
       "      <td>22</td>\n",
       "      <td>서초구</td>\n",
       "      <td>422174</td>\n",
       "      <td>418407</td>\n",
       "      <td>3767</td>\n",
       "      <td>60395</td>\n",
       "    </tr>\n",
       "    <tr>\n",
       "      <td>23</td>\n",
       "      <td>강남구</td>\n",
       "      <td>536107</td>\n",
       "      <td>531375</td>\n",
       "      <td>4732</td>\n",
       "      <td>76184</td>\n",
       "    </tr>\n",
       "    <tr>\n",
       "      <td>24</td>\n",
       "      <td>송파구</td>\n",
       "      <td>664341</td>\n",
       "      <td>658670</td>\n",
       "      <td>5671</td>\n",
       "      <td>95164</td>\n",
       "    </tr>\n",
       "    <tr>\n",
       "      <td>25</td>\n",
       "      <td>강동구</td>\n",
       "      <td>469094</td>\n",
       "      <td>465209</td>\n",
       "      <td>3885</td>\n",
       "      <td>72275</td>\n",
       "    </tr>\n",
       "  </tbody>\n",
       "</table>\n",
       "</div>"
      ],
      "text/plain": [
       "     구별     인구수     한국인    외국인    고령자\n",
       "21  관악구  502698  488800  13898  78647\n",
       "22  서초구  422174  418407   3767  60395\n",
       "23  강남구  536107  531375   4732  76184\n",
       "24  송파구  664341  658670   5671  95164\n",
       "25  강동구  469094  465209   3885  72275"
      ]
     },
     "execution_count": 7,
     "metadata": {},
     "output_type": "execute_result"
    }
   ],
   "source": [
    "pop_seoul.rename(\n",
    "        columns= {\n",
    "            pop_seoul.columns[0]: \"구별\",\n",
    "            pop_seoul.columns[1]: \"인구수\",\n",
    "             pop_seoul.columns[2]: \"한국인\",\n",
    "             pop_seoul.columns[3]: \"외국인\",\n",
    "             pop_seoul.columns[4]: \"고령자\"\n",
    "            \n",
    "        }, inplace=True)\n",
    "pop_seoul.tail()"
   ]
  },
  {
   "cell_type": "code",
   "execution_count": 11,
   "metadata": {},
   "outputs": [
    {
     "data": {
      "text/plain": [
       "Series([], dtype: float64)"
      ]
     },
     "execution_count": 11,
     "metadata": {},
     "output_type": "execute_result"
    }
   ],
   "source": [
    "pd.Series()"
   ]
  },
  {
   "cell_type": "code",
   "execution_count": 12,
   "metadata": {},
   "outputs": [
    {
     "data": {
      "text/plain": [
       "0    1\n",
       "1    2\n",
       "2    3\n",
       "3    4\n",
       "dtype: int64"
      ]
     },
     "execution_count": 12,
     "metadata": {},
     "output_type": "execute_result"
    }
   ],
   "source": [
    "pd.Series([1,2,3,4])"
   ]
  },
  {
   "cell_type": "code",
   "execution_count": 14,
   "metadata": {},
   "outputs": [
    {
     "data": {
      "text/plain": [
       "0    1.0\n",
       "1    2.0\n",
       "2    3.0\n",
       "3    4.0\n",
       "dtype: float64"
      ]
     },
     "execution_count": 14,
     "metadata": {},
     "output_type": "execute_result"
    }
   ],
   "source": [
    "pd.Series([1,2,3,4], dtype= float)"
   ]
  },
  {
   "cell_type": "code",
   "execution_count": 15,
   "metadata": {},
   "outputs": [
    {
     "data": {
      "text/plain": [
       "False"
      ]
     },
     "execution_count": 15,
     "metadata": {},
     "output_type": "execute_result"
    }
   ],
   "source": [
    "bool(0.0)"
   ]
  },
  {
   "cell_type": "code",
   "execution_count": 16,
   "metadata": {},
   "outputs": [
    {
     "data": {
      "text/plain": [
       "False"
      ]
     },
     "execution_count": 16,
     "metadata": {},
     "output_type": "execute_result"
    }
   ],
   "source": [
    "bool(())\n"
   ]
  },
  {
   "cell_type": "code",
   "execution_count": 17,
   "metadata": {},
   "outputs": [
    {
     "data": {
      "text/plain": [
       "False"
      ]
     },
     "execution_count": 17,
     "metadata": {},
     "output_type": "execute_result"
    }
   ],
   "source": [
    "bool([])"
   ]
  },
  {
   "cell_type": "code",
   "execution_count": 18,
   "metadata": {},
   "outputs": [
    {
     "data": {
      "text/plain": [
       "False"
      ]
     },
     "execution_count": 18,
     "metadata": {},
     "output_type": "execute_result"
    }
   ],
   "source": [
    "bool(0)"
   ]
  },
  {
   "cell_type": "code",
   "execution_count": 19,
   "metadata": {},
   "outputs": [
    {
     "data": {
      "text/plain": [
       "False"
      ]
     },
     "execution_count": 19,
     "metadata": {},
     "output_type": "execute_result"
    }
   ],
   "source": [
    "bool({})"
   ]
  },
  {
   "cell_type": "code",
   "execution_count": 20,
   "metadata": {},
   "outputs": [
    {
     "data": {
      "text/plain": [
       "False"
      ]
     },
     "execution_count": 20,
     "metadata": {},
     "output_type": "execute_result"
    }
   ],
   "source": [
    "bool(\"\")"
   ]
  },
  {
   "cell_type": "code",
   "execution_count": 21,
   "metadata": {},
   "outputs": [
    {
     "data": {
      "text/plain": [
       "True"
      ]
     },
     "execution_count": 21,
     "metadata": {},
     "output_type": "execute_result"
    }
   ],
   "source": [
    "bool([0])"
   ]
  },
  {
   "cell_type": "code",
   "execution_count": 23,
   "metadata": {},
   "outputs": [
    {
     "ename": "SyntaxError",
     "evalue": "invalid syntax (<ipython-input-23-140cee61963a>, line 1)",
     "output_type": "error",
     "traceback": [
      "\u001b[1;36m  File \u001b[1;32m\"<ipython-input-23-140cee61963a>\"\u001b[1;36m, line \u001b[1;32m1\u001b[0m\n\u001b[1;33m    4f =  [\"1\", 2, '5', [\"Data\", \"Science\"]]\u001b[0m\n\u001b[1;37m     ^\u001b[0m\n\u001b[1;31mSyntaxError\u001b[0m\u001b[1;31m:\u001b[0m invalid syntax\n"
     ]
    }
   ],
   "source": [
    "4f =  [\"1\", 2, '5', [\"Data\", \"Science\"]]\n",
    "4f"
   ]
  },
  {
   "cell_type": "code",
   "execution_count": null,
   "metadata": {},
   "outputs": [],
   "source": []
  }
 ],
 "metadata": {
  "kernelspec": {
   "display_name": "Python 3",
   "language": "python",
   "name": "python3"
  },
  "language_info": {
   "codemirror_mode": {
    "name": "ipython",
    "version": 3
   },
   "file_extension": ".py",
   "mimetype": "text/x-python",
   "name": "python",
   "nbconvert_exporter": "python",
   "pygments_lexer": "ipython3",
   "version": "3.7.4"
  }
 },
 "nbformat": 4,
 "nbformat_minor": 2
}
